{
  "nbformat": 4,
  "nbformat_minor": 0,
  "metadata": {
    "colab": {
      "provenance": [],
      "authorship_tag": "ABX9TyPZItWLX6hXZ48+HoTBTM5r",
      "include_colab_link": true
    },
    "kernelspec": {
      "name": "python3",
      "display_name": "Python 3"
    },
    "language_info": {
      "name": "python"
    }
  },
  "cells": [
    {
      "cell_type": "markdown",
      "metadata": {
        "id": "view-in-github",
        "colab_type": "text"
      },
      "source": [
        "<a href=\"https://colab.research.google.com/github/Balasakthivelpandis/IndustryCoppermodel/blob/main/Industrial_Copper_Modeling.ipynb\" target=\"_parent\"><img src=\"https://colab.research.google.com/assets/colab-badge.svg\" alt=\"Open In Colab\"/></a>"
      ]
    },
    {
      "cell_type": "code",
      "execution_count": null,
      "metadata": {
        "id": "33CpoTaBi973"
      },
      "outputs": [],
      "source": [
        "#import necessary libraries\n",
        "import pandas as pd\n",
        "import seaborn as sns\n",
        "import numpy as np\n",
        "import matplotlib.pyplot as plt\n",
        "import warnings\n",
        "warnings.filterwarnings(\"ignore\")"
      ]
    },
    {
      "cell_type": "code",
      "source": [
        "from google.colab import files\n",
        "\n",
        "\n",
        "uploaded = files.upload()"
      ],
      "metadata": {
        "colab": {
          "base_uri": "https://localhost:8080/",
          "height": 73
        },
        "id": "yIejbR0slLKC",
        "outputId": "98b2dd48-dbea-4ffe-acf2-3418fee37d86"
      },
      "execution_count": null,
      "outputs": [
        {
          "output_type": "display_data",
          "data": {
            "text/plain": [
              "<IPython.core.display.HTML object>"
            ],
            "text/html": [
              "\n",
              "     <input type=\"file\" id=\"files-5b4653d5-d3ca-4ce5-a53e-2a9d57607c57\" name=\"files[]\" multiple disabled\n",
              "        style=\"border:none\" />\n",
              "     <output id=\"result-5b4653d5-d3ca-4ce5-a53e-2a9d57607c57\">\n",
              "      Upload widget is only available when the cell has been executed in the\n",
              "      current browser session. Please rerun this cell to enable.\n",
              "      </output>\n",
              "      <script>// Copyright 2017 Google LLC\n",
              "//\n",
              "// Licensed under the Apache License, Version 2.0 (the \"License\");\n",
              "// you may not use this file except in compliance with the License.\n",
              "// You may obtain a copy of the License at\n",
              "//\n",
              "//      http://www.apache.org/licenses/LICENSE-2.0\n",
              "//\n",
              "// Unless required by applicable law or agreed to in writing, software\n",
              "// distributed under the License is distributed on an \"AS IS\" BASIS,\n",
              "// WITHOUT WARRANTIES OR CONDITIONS OF ANY KIND, either express or implied.\n",
              "// See the License for the specific language governing permissions and\n",
              "// limitations under the License.\n",
              "\n",
              "/**\n",
              " * @fileoverview Helpers for google.colab Python module.\n",
              " */\n",
              "(function(scope) {\n",
              "function span(text, styleAttributes = {}) {\n",
              "  const element = document.createElement('span');\n",
              "  element.textContent = text;\n",
              "  for (const key of Object.keys(styleAttributes)) {\n",
              "    element.style[key] = styleAttributes[key];\n",
              "  }\n",
              "  return element;\n",
              "}\n",
              "\n",
              "// Max number of bytes which will be uploaded at a time.\n",
              "const MAX_PAYLOAD_SIZE = 100 * 1024;\n",
              "\n",
              "function _uploadFiles(inputId, outputId) {\n",
              "  const steps = uploadFilesStep(inputId, outputId);\n",
              "  const outputElement = document.getElementById(outputId);\n",
              "  // Cache steps on the outputElement to make it available for the next call\n",
              "  // to uploadFilesContinue from Python.\n",
              "  outputElement.steps = steps;\n",
              "\n",
              "  return _uploadFilesContinue(outputId);\n",
              "}\n",
              "\n",
              "// This is roughly an async generator (not supported in the browser yet),\n",
              "// where there are multiple asynchronous steps and the Python side is going\n",
              "// to poll for completion of each step.\n",
              "// This uses a Promise to block the python side on completion of each step,\n",
              "// then passes the result of the previous step as the input to the next step.\n",
              "function _uploadFilesContinue(outputId) {\n",
              "  const outputElement = document.getElementById(outputId);\n",
              "  const steps = outputElement.steps;\n",
              "\n",
              "  const next = steps.next(outputElement.lastPromiseValue);\n",
              "  return Promise.resolve(next.value.promise).then((value) => {\n",
              "    // Cache the last promise value to make it available to the next\n",
              "    // step of the generator.\n",
              "    outputElement.lastPromiseValue = value;\n",
              "    return next.value.response;\n",
              "  });\n",
              "}\n",
              "\n",
              "/**\n",
              " * Generator function which is called between each async step of the upload\n",
              " * process.\n",
              " * @param {string} inputId Element ID of the input file picker element.\n",
              " * @param {string} outputId Element ID of the output display.\n",
              " * @return {!Iterable<!Object>} Iterable of next steps.\n",
              " */\n",
              "function* uploadFilesStep(inputId, outputId) {\n",
              "  const inputElement = document.getElementById(inputId);\n",
              "  inputElement.disabled = false;\n",
              "\n",
              "  const outputElement = document.getElementById(outputId);\n",
              "  outputElement.innerHTML = '';\n",
              "\n",
              "  const pickedPromise = new Promise((resolve) => {\n",
              "    inputElement.addEventListener('change', (e) => {\n",
              "      resolve(e.target.files);\n",
              "    });\n",
              "  });\n",
              "\n",
              "  const cancel = document.createElement('button');\n",
              "  inputElement.parentElement.appendChild(cancel);\n",
              "  cancel.textContent = 'Cancel upload';\n",
              "  const cancelPromise = new Promise((resolve) => {\n",
              "    cancel.onclick = () => {\n",
              "      resolve(null);\n",
              "    };\n",
              "  });\n",
              "\n",
              "  // Wait for the user to pick the files.\n",
              "  const files = yield {\n",
              "    promise: Promise.race([pickedPromise, cancelPromise]),\n",
              "    response: {\n",
              "      action: 'starting',\n",
              "    }\n",
              "  };\n",
              "\n",
              "  cancel.remove();\n",
              "\n",
              "  // Disable the input element since further picks are not allowed.\n",
              "  inputElement.disabled = true;\n",
              "\n",
              "  if (!files) {\n",
              "    return {\n",
              "      response: {\n",
              "        action: 'complete',\n",
              "      }\n",
              "    };\n",
              "  }\n",
              "\n",
              "  for (const file of files) {\n",
              "    const li = document.createElement('li');\n",
              "    li.append(span(file.name, {fontWeight: 'bold'}));\n",
              "    li.append(span(\n",
              "        `(${file.type || 'n/a'}) - ${file.size} bytes, ` +\n",
              "        `last modified: ${\n",
              "            file.lastModifiedDate ? file.lastModifiedDate.toLocaleDateString() :\n",
              "                                    'n/a'} - `));\n",
              "    const percent = span('0% done');\n",
              "    li.appendChild(percent);\n",
              "\n",
              "    outputElement.appendChild(li);\n",
              "\n",
              "    const fileDataPromise = new Promise((resolve) => {\n",
              "      const reader = new FileReader();\n",
              "      reader.onload = (e) => {\n",
              "        resolve(e.target.result);\n",
              "      };\n",
              "      reader.readAsArrayBuffer(file);\n",
              "    });\n",
              "    // Wait for the data to be ready.\n",
              "    let fileData = yield {\n",
              "      promise: fileDataPromise,\n",
              "      response: {\n",
              "        action: 'continue',\n",
              "      }\n",
              "    };\n",
              "\n",
              "    // Use a chunked sending to avoid message size limits. See b/62115660.\n",
              "    let position = 0;\n",
              "    do {\n",
              "      const length = Math.min(fileData.byteLength - position, MAX_PAYLOAD_SIZE);\n",
              "      const chunk = new Uint8Array(fileData, position, length);\n",
              "      position += length;\n",
              "\n",
              "      const base64 = btoa(String.fromCharCode.apply(null, chunk));\n",
              "      yield {\n",
              "        response: {\n",
              "          action: 'append',\n",
              "          file: file.name,\n",
              "          data: base64,\n",
              "        },\n",
              "      };\n",
              "\n",
              "      let percentDone = fileData.byteLength === 0 ?\n",
              "          100 :\n",
              "          Math.round((position / fileData.byteLength) * 100);\n",
              "      percent.textContent = `${percentDone}% done`;\n",
              "\n",
              "    } while (position < fileData.byteLength);\n",
              "  }\n",
              "\n",
              "  // All done.\n",
              "  yield {\n",
              "    response: {\n",
              "      action: 'complete',\n",
              "    }\n",
              "  };\n",
              "}\n",
              "\n",
              "scope.google = scope.google || {};\n",
              "scope.google.colab = scope.google.colab || {};\n",
              "scope.google.colab._files = {\n",
              "  _uploadFiles,\n",
              "  _uploadFilesContinue,\n",
              "};\n",
              "})(self);\n",
              "</script> "
            ]
          },
          "metadata": {}
        },
        {
          "output_type": "stream",
          "name": "stdout",
          "text": [
            "Saving Copper_Set.csv to Copper_Set.csv\n"
          ]
        }
      ]
    },
    {
      "cell_type": "code",
      "source": [
        "import pandas as pd\n",
        "import io\n",
        "\n",
        "df = pd.read_csv(io.BytesIO(uploaded['Copper_Set.csv']))\n",
        "print(df)"
      ],
      "metadata": {
        "colab": {
          "base_uri": "https://localhost:8080/"
        },
        "id": "KdsDc-8zlg_i",
        "outputId": "b72a368d-f50d-450d-9e0b-59bcae2aa27c"
      },
      "execution_count": null,
      "outputs": [
        {
          "output_type": "stream",
          "name": "stdout",
          "text": [
            "                                          id   item_date quantity tons  \\\n",
            "0       EC06F063-9DF0-440C-8764-0B0C05A4F6AE  20210401.0     54.151139   \n",
            "1       4E5F4B3D-DDDF-499D-AFDE-A3227EC49425  20210401.0    768.024839   \n",
            "2       E140FF1B-2407-4C02-A0DD-780A093B1158  20210401.0    386.127949   \n",
            "3       F8D507A0-9C62-4EFE-831E-33E1DA53BB50  20210401.0    202.411065   \n",
            "4       4E1C4E78-152B-430A-8094-ADD889C9D0AD  20210401.0    785.526262   \n",
            "...                                      ...         ...           ...   \n",
            "181668  DE633116-D1DF-4846-982E-55EFC3658A76  20200702.0   102.4824216   \n",
            "181669  A48374B1-E6DB-45F2-889A-1F9C27C099EB  20200702.0   208.0864686   \n",
            "181670  91643238-5C7B-4237-9A5F-63AE3D35F320  20200702.0   4.235593568   \n",
            "181671  7AFFD323-01D9-4E15-B80D-7D1B03498FC8  20200702.0         -2000   \n",
            "181672  AD0CA853-AE3C-4B2F-9FBB-8B0B965F84BC  20200702.0   406.6865384   \n",
            "\n",
            "          customer  country status item type  application  thickness   width  \\\n",
            "0       30156308.0     28.0    Won         W         10.0       2.00  1500.0   \n",
            "1       30202938.0     25.0    Won         W         41.0       0.80  1210.0   \n",
            "2       30153963.0     30.0    Won        WI         28.0       0.38   952.0   \n",
            "3       30349574.0     32.0    Won         S         59.0       2.30  1317.0   \n",
            "4       30211560.0     28.0    Won         W         10.0       4.00  2000.0   \n",
            "...            ...      ...    ...       ...          ...        ...     ...   \n",
            "181668  30200854.0     25.0    Won         W         41.0       0.96  1220.0   \n",
            "181669  30200854.0     25.0    Won         W         41.0       0.95  1500.0   \n",
            "181670  30200854.0     25.0    Won         W         41.0       0.71  1250.0   \n",
            "181671  30200854.0     25.0    Won         W         41.0       0.85  1250.0   \n",
            "181672  30200854.0     25.0    Won         W         41.0       0.71  1240.0   \n",
            "\n",
            "                                    material_ref  product_ref  delivery date  \\\n",
            "0                                    DEQ1 S460MC   1670798778     20210701.0   \n",
            "1       0000000000000000000000000000000000104991   1668701718     20210401.0   \n",
            "2                                       S0380700       628377     20210101.0   \n",
            "3                        DX51D+ZM310MAO 2.3X1317   1668701718     20210101.0   \n",
            "4                                2_S275JR+AR-CL1       640665     20210301.0   \n",
            "...                                          ...          ...            ...   \n",
            "181668  0000000000000000000000000000000001000777    164141591     20200701.0   \n",
            "181669  0000000000000000000000000000000001000227    164141591     20200701.0   \n",
            "181670  0000000000000000000000000000000001004216    164141591     20200701.0   \n",
            "181671  0000000000000000000000000000000001001149    164141591     20200701.0   \n",
            "181672  0000000000000000000000000000000001005439    164141591     20200701.0   \n",
            "\n",
            "        selling_price  \n",
            "0              854.00  \n",
            "1             1047.00  \n",
            "2              644.33  \n",
            "3              768.00  \n",
            "4              577.00  \n",
            "...               ...  \n",
            "181668         591.00  \n",
            "181669         589.00  \n",
            "181670         619.00  \n",
            "181671         601.00  \n",
            "181672         607.00  \n",
            "\n",
            "[181673 rows x 14 columns]\n"
          ]
        }
      ]
    },
    {
      "cell_type": "code",
      "source": [
        "df.shape"
      ],
      "metadata": {
        "colab": {
          "base_uri": "https://localhost:8080/"
        },
        "id": "fky6rh2QnlFx",
        "outputId": "2d066e0c-0425-4a36-bf24-08e16c4de62d"
      },
      "execution_count": null,
      "outputs": [
        {
          "output_type": "execute_result",
          "data": {
            "text/plain": [
              "(181673, 14)"
            ]
          },
          "metadata": {},
          "execution_count": 6
        }
      ]
    },
    {
      "cell_type": "code",
      "source": [
        "df.head(3)"
      ],
      "metadata": {
        "colab": {
          "base_uri": "https://localhost:8080/",
          "height": 337
        },
        "id": "inD8EP5Tn9nU",
        "outputId": "b51e9b7b-0376-482e-8709-d5732354cf4c"
      },
      "execution_count": null,
      "outputs": [
        {
          "output_type": "execute_result",
          "data": {
            "text/plain": [
              "                                     id   item_date quantity tons    customer  \\\n",
              "0  EC06F063-9DF0-440C-8764-0B0C05A4F6AE  20210401.0     54.151139  30156308.0   \n",
              "1  4E5F4B3D-DDDF-499D-AFDE-A3227EC49425  20210401.0    768.024839  30202938.0   \n",
              "2  E140FF1B-2407-4C02-A0DD-780A093B1158  20210401.0    386.127949  30153963.0   \n",
              "\n",
              "   country status item type  application  thickness   width  \\\n",
              "0     28.0    Won         W         10.0       2.00  1500.0   \n",
              "1     25.0    Won         W         41.0       0.80  1210.0   \n",
              "2     30.0    Won        WI         28.0       0.38   952.0   \n",
              "\n",
              "                               material_ref  product_ref  delivery date  \\\n",
              "0                               DEQ1 S460MC   1670798778     20210701.0   \n",
              "1  0000000000000000000000000000000000104991   1668701718     20210401.0   \n",
              "2                                  S0380700       628377     20210101.0   \n",
              "\n",
              "   selling_price  \n",
              "0         854.00  \n",
              "1        1047.00  \n",
              "2         644.33  "
            ],
            "text/html": [
              "\n",
              "  <div id=\"df-486b6b8c-006b-47c6-8d9d-5ccad3723129\" class=\"colab-df-container\">\n",
              "    <div>\n",
              "<style scoped>\n",
              "    .dataframe tbody tr th:only-of-type {\n",
              "        vertical-align: middle;\n",
              "    }\n",
              "\n",
              "    .dataframe tbody tr th {\n",
              "        vertical-align: top;\n",
              "    }\n",
              "\n",
              "    .dataframe thead th {\n",
              "        text-align: right;\n",
              "    }\n",
              "</style>\n",
              "<table border=\"1\" class=\"dataframe\">\n",
              "  <thead>\n",
              "    <tr style=\"text-align: right;\">\n",
              "      <th></th>\n",
              "      <th>id</th>\n",
              "      <th>item_date</th>\n",
              "      <th>quantity tons</th>\n",
              "      <th>customer</th>\n",
              "      <th>country</th>\n",
              "      <th>status</th>\n",
              "      <th>item type</th>\n",
              "      <th>application</th>\n",
              "      <th>thickness</th>\n",
              "      <th>width</th>\n",
              "      <th>material_ref</th>\n",
              "      <th>product_ref</th>\n",
              "      <th>delivery date</th>\n",
              "      <th>selling_price</th>\n",
              "    </tr>\n",
              "  </thead>\n",
              "  <tbody>\n",
              "    <tr>\n",
              "      <th>0</th>\n",
              "      <td>EC06F063-9DF0-440C-8764-0B0C05A4F6AE</td>\n",
              "      <td>20210401.0</td>\n",
              "      <td>54.151139</td>\n",
              "      <td>30156308.0</td>\n",
              "      <td>28.0</td>\n",
              "      <td>Won</td>\n",
              "      <td>W</td>\n",
              "      <td>10.0</td>\n",
              "      <td>2.00</td>\n",
              "      <td>1500.0</td>\n",
              "      <td>DEQ1 S460MC</td>\n",
              "      <td>1670798778</td>\n",
              "      <td>20210701.0</td>\n",
              "      <td>854.00</td>\n",
              "    </tr>\n",
              "    <tr>\n",
              "      <th>1</th>\n",
              "      <td>4E5F4B3D-DDDF-499D-AFDE-A3227EC49425</td>\n",
              "      <td>20210401.0</td>\n",
              "      <td>768.024839</td>\n",
              "      <td>30202938.0</td>\n",
              "      <td>25.0</td>\n",
              "      <td>Won</td>\n",
              "      <td>W</td>\n",
              "      <td>41.0</td>\n",
              "      <td>0.80</td>\n",
              "      <td>1210.0</td>\n",
              "      <td>0000000000000000000000000000000000104991</td>\n",
              "      <td>1668701718</td>\n",
              "      <td>20210401.0</td>\n",
              "      <td>1047.00</td>\n",
              "    </tr>\n",
              "    <tr>\n",
              "      <th>2</th>\n",
              "      <td>E140FF1B-2407-4C02-A0DD-780A093B1158</td>\n",
              "      <td>20210401.0</td>\n",
              "      <td>386.127949</td>\n",
              "      <td>30153963.0</td>\n",
              "      <td>30.0</td>\n",
              "      <td>Won</td>\n",
              "      <td>WI</td>\n",
              "      <td>28.0</td>\n",
              "      <td>0.38</td>\n",
              "      <td>952.0</td>\n",
              "      <td>S0380700</td>\n",
              "      <td>628377</td>\n",
              "      <td>20210101.0</td>\n",
              "      <td>644.33</td>\n",
              "    </tr>\n",
              "  </tbody>\n",
              "</table>\n",
              "</div>\n",
              "    <div class=\"colab-df-buttons\">\n",
              "\n",
              "  <div class=\"colab-df-container\">\n",
              "    <button class=\"colab-df-convert\" onclick=\"convertToInteractive('df-486b6b8c-006b-47c6-8d9d-5ccad3723129')\"\n",
              "            title=\"Convert this dataframe to an interactive table.\"\n",
              "            style=\"display:none;\">\n",
              "\n",
              "  <svg xmlns=\"http://www.w3.org/2000/svg\" height=\"24px\" viewBox=\"0 -960 960 960\">\n",
              "    <path d=\"M120-120v-720h720v720H120Zm60-500h600v-160H180v160Zm220 220h160v-160H400v160Zm0 220h160v-160H400v160ZM180-400h160v-160H180v160Zm440 0h160v-160H620v160ZM180-180h160v-160H180v160Zm440 0h160v-160H620v160Z\"/>\n",
              "  </svg>\n",
              "    </button>\n",
              "\n",
              "  <style>\n",
              "    .colab-df-container {\n",
              "      display:flex;\n",
              "      gap: 12px;\n",
              "    }\n",
              "\n",
              "    .colab-df-convert {\n",
              "      background-color: #E8F0FE;\n",
              "      border: none;\n",
              "      border-radius: 50%;\n",
              "      cursor: pointer;\n",
              "      display: none;\n",
              "      fill: #1967D2;\n",
              "      height: 32px;\n",
              "      padding: 0 0 0 0;\n",
              "      width: 32px;\n",
              "    }\n",
              "\n",
              "    .colab-df-convert:hover {\n",
              "      background-color: #E2EBFA;\n",
              "      box-shadow: 0px 1px 2px rgba(60, 64, 67, 0.3), 0px 1px 3px 1px rgba(60, 64, 67, 0.15);\n",
              "      fill: #174EA6;\n",
              "    }\n",
              "\n",
              "    .colab-df-buttons div {\n",
              "      margin-bottom: 4px;\n",
              "    }\n",
              "\n",
              "    [theme=dark] .colab-df-convert {\n",
              "      background-color: #3B4455;\n",
              "      fill: #D2E3FC;\n",
              "    }\n",
              "\n",
              "    [theme=dark] .colab-df-convert:hover {\n",
              "      background-color: #434B5C;\n",
              "      box-shadow: 0px 1px 3px 1px rgba(0, 0, 0, 0.15);\n",
              "      filter: drop-shadow(0px 1px 2px rgba(0, 0, 0, 0.3));\n",
              "      fill: #FFFFFF;\n",
              "    }\n",
              "  </style>\n",
              "\n",
              "    <script>\n",
              "      const buttonEl =\n",
              "        document.querySelector('#df-486b6b8c-006b-47c6-8d9d-5ccad3723129 button.colab-df-convert');\n",
              "      buttonEl.style.display =\n",
              "        google.colab.kernel.accessAllowed ? 'block' : 'none';\n",
              "\n",
              "      async function convertToInteractive(key) {\n",
              "        const element = document.querySelector('#df-486b6b8c-006b-47c6-8d9d-5ccad3723129');\n",
              "        const dataTable =\n",
              "          await google.colab.kernel.invokeFunction('convertToInteractive',\n",
              "                                                    [key], {});\n",
              "        if (!dataTable) return;\n",
              "\n",
              "        const docLinkHtml = 'Like what you see? Visit the ' +\n",
              "          '<a target=\"_blank\" href=https://colab.research.google.com/notebooks/data_table.ipynb>data table notebook</a>'\n",
              "          + ' to learn more about interactive tables.';\n",
              "        element.innerHTML = '';\n",
              "        dataTable['output_type'] = 'display_data';\n",
              "        await google.colab.output.renderOutput(dataTable, element);\n",
              "        const docLink = document.createElement('div');\n",
              "        docLink.innerHTML = docLinkHtml;\n",
              "        element.appendChild(docLink);\n",
              "      }\n",
              "    </script>\n",
              "  </div>\n",
              "\n",
              "\n",
              "<div id=\"df-80132c77-bd97-4ddc-a4b5-ffe76716f80c\">\n",
              "  <button class=\"colab-df-quickchart\" onclick=\"quickchart('df-80132c77-bd97-4ddc-a4b5-ffe76716f80c')\"\n",
              "            title=\"Suggest charts.\"\n",
              "            style=\"display:none;\">\n",
              "\n",
              "<svg xmlns=\"http://www.w3.org/2000/svg\" height=\"24px\"viewBox=\"0 0 24 24\"\n",
              "     width=\"24px\">\n",
              "    <g>\n",
              "        <path d=\"M19 3H5c-1.1 0-2 .9-2 2v14c0 1.1.9 2 2 2h14c1.1 0 2-.9 2-2V5c0-1.1-.9-2-2-2zM9 17H7v-7h2v7zm4 0h-2V7h2v10zm4 0h-2v-4h2v4z\"/>\n",
              "    </g>\n",
              "</svg>\n",
              "  </button>\n",
              "\n",
              "<style>\n",
              "  .colab-df-quickchart {\n",
              "    background-color: #E8F0FE;\n",
              "    border: none;\n",
              "    border-radius: 50%;\n",
              "    cursor: pointer;\n",
              "    display: none;\n",
              "    fill: #1967D2;\n",
              "    height: 32px;\n",
              "    padding: 0 0 0 0;\n",
              "    width: 32px;\n",
              "  }\n",
              "\n",
              "  .colab-df-quickchart:hover {\n",
              "    background-color: #E2EBFA;\n",
              "    box-shadow: 0px 1px 2px rgba(60, 64, 67, 0.3), 0px 1px 3px 1px rgba(60, 64, 67, 0.15);\n",
              "    fill: #174EA6;\n",
              "  }\n",
              "\n",
              "  [theme=dark] .colab-df-quickchart {\n",
              "    background-color: #3B4455;\n",
              "    fill: #D2E3FC;\n",
              "  }\n",
              "\n",
              "  [theme=dark] .colab-df-quickchart:hover {\n",
              "    background-color: #434B5C;\n",
              "    box-shadow: 0px 1px 3px 1px rgba(0, 0, 0, 0.15);\n",
              "    filter: drop-shadow(0px 1px 2px rgba(0, 0, 0, 0.3));\n",
              "    fill: #FFFFFF;\n",
              "  }\n",
              "</style>\n",
              "\n",
              "  <script>\n",
              "    async function quickchart(key) {\n",
              "      const charts = await google.colab.kernel.invokeFunction(\n",
              "          'suggestCharts', [key], {});\n",
              "    }\n",
              "    (() => {\n",
              "      let quickchartButtonEl =\n",
              "        document.querySelector('#df-80132c77-bd97-4ddc-a4b5-ffe76716f80c button');\n",
              "      quickchartButtonEl.style.display =\n",
              "        google.colab.kernel.accessAllowed ? 'block' : 'none';\n",
              "    })();\n",
              "  </script>\n",
              "</div>\n",
              "    </div>\n",
              "  </div>\n"
            ]
          },
          "metadata": {},
          "execution_count": 7
        }
      ]
    },
    {
      "cell_type": "code",
      "source": [
        "df.columns"
      ],
      "metadata": {
        "colab": {
          "base_uri": "https://localhost:8080/"
        },
        "id": "RMxkHsBQoFhf",
        "outputId": "58e8478e-2dba-4d1d-9b02-e91e3e7c89e8"
      },
      "execution_count": null,
      "outputs": [
        {
          "output_type": "execute_result",
          "data": {
            "text/plain": [
              "Index(['id', 'item_date', 'quantity tons', 'customer', 'country', 'status',\n",
              "       'item type', 'application', 'thickness', 'width', 'material_ref',\n",
              "       'product_ref', 'delivery date', 'selling_price'],\n",
              "      dtype='object')"
            ]
          },
          "metadata": {},
          "execution_count": 8
        }
      ]
    },
    {
      "cell_type": "code",
      "source": [
        "# HANDLING WITH WRONG DATA IN CATEGORICAL VARIABLE ETC..\n",
        "df['item_date'] = pd.to_datetime(df['item_date'], format='%Y%m%d', errors='coerce').dt.date\n",
        "df['quantity tons'] = pd.to_numeric(df['quantity tons'], errors='coerce')\n",
        "df['customer'] = pd.to_numeric(df['customer'], errors='coerce')\n",
        "df['country'] = pd.to_numeric(df['country'], errors='coerce')\n",
        "df['application'] = pd.to_numeric(df['application'], errors='coerce')\n",
        "df['thickness'] = pd.to_numeric(df['thickness'], errors='coerce')\n",
        "df['width'] = pd.to_numeric(df['width'], errors='coerce')\n",
        "df['material_ref'] = df['material_ref'].str.lstrip('0')\n",
        "df['product_ref'] = pd.to_numeric(df['product_ref'], errors='coerce')\n",
        "df['delivery date'] = pd.to_datetime(df['delivery date'], format='%Y%m%d', errors='coerce').dt.date\n",
        "df['selling_price'] = pd.to_numeric(df['selling_price'], errors='coerce')"
      ],
      "metadata": {
        "id": "bxM6iR1JoIep"
      },
      "execution_count": null,
      "outputs": []
    },
    {
      "cell_type": "code",
      "source": [
        "df.sample(3)"
      ],
      "metadata": {
        "colab": {
          "base_uri": "https://localhost:8080/",
          "height": 337
        },
        "id": "kAn2IwBSpRFu",
        "outputId": "ca07be77-0eae-4a6d-de56-4cbdd5aa4c3e"
      },
      "execution_count": null,
      "outputs": [
        {
          "output_type": "execute_result",
          "data": {
            "text/plain": [
              "                                          id   item_date  quantity tons  \\\n",
              "20513   1171B6BF-B35D-4201-928B-E9667D91CC80  2021-03-09      65.833522   \n",
              "34200   87D4E38E-3C14-460D-86D7-6DF74E4FC1FA  2021-02-22     182.686777   \n",
              "163347  1B02799D-9181-4469-82AE-F8CC81DE338C  2020-07-30       9.390012   \n",
              "\n",
              "          customer  country status item type  application  thickness   width  \\\n",
              "20513   30291449.0     27.0    Won         S         19.0        4.0  2000.0   \n",
              "34200   30156496.0     28.0    Won         W         10.0        2.2  1085.0   \n",
              "163347  30160005.0     78.0    Won         W         41.0        1.2  1250.0   \n",
              "\n",
              "              material_ref  product_ref delivery date  selling_price  \n",
              "20513                  NaN       640665    2021-06-01          858.0  \n",
              "34200        C002110300000   1670798778    2021-04-01          872.0  \n",
              "163347  K DX51D+Z PROFILES    164141591    2020-09-01          571.0  "
            ],
            "text/html": [
              "\n",
              "  <div id=\"df-a47a9e76-4bb4-4a15-a383-99c528a047f7\" class=\"colab-df-container\">\n",
              "    <div>\n",
              "<style scoped>\n",
              "    .dataframe tbody tr th:only-of-type {\n",
              "        vertical-align: middle;\n",
              "    }\n",
              "\n",
              "    .dataframe tbody tr th {\n",
              "        vertical-align: top;\n",
              "    }\n",
              "\n",
              "    .dataframe thead th {\n",
              "        text-align: right;\n",
              "    }\n",
              "</style>\n",
              "<table border=\"1\" class=\"dataframe\">\n",
              "  <thead>\n",
              "    <tr style=\"text-align: right;\">\n",
              "      <th></th>\n",
              "      <th>id</th>\n",
              "      <th>item_date</th>\n",
              "      <th>quantity tons</th>\n",
              "      <th>customer</th>\n",
              "      <th>country</th>\n",
              "      <th>status</th>\n",
              "      <th>item type</th>\n",
              "      <th>application</th>\n",
              "      <th>thickness</th>\n",
              "      <th>width</th>\n",
              "      <th>material_ref</th>\n",
              "      <th>product_ref</th>\n",
              "      <th>delivery date</th>\n",
              "      <th>selling_price</th>\n",
              "    </tr>\n",
              "  </thead>\n",
              "  <tbody>\n",
              "    <tr>\n",
              "      <th>20513</th>\n",
              "      <td>1171B6BF-B35D-4201-928B-E9667D91CC80</td>\n",
              "      <td>2021-03-09</td>\n",
              "      <td>65.833522</td>\n",
              "      <td>30291449.0</td>\n",
              "      <td>27.0</td>\n",
              "      <td>Won</td>\n",
              "      <td>S</td>\n",
              "      <td>19.0</td>\n",
              "      <td>4.0</td>\n",
              "      <td>2000.0</td>\n",
              "      <td>NaN</td>\n",
              "      <td>640665</td>\n",
              "      <td>2021-06-01</td>\n",
              "      <td>858.0</td>\n",
              "    </tr>\n",
              "    <tr>\n",
              "      <th>34200</th>\n",
              "      <td>87D4E38E-3C14-460D-86D7-6DF74E4FC1FA</td>\n",
              "      <td>2021-02-22</td>\n",
              "      <td>182.686777</td>\n",
              "      <td>30156496.0</td>\n",
              "      <td>28.0</td>\n",
              "      <td>Won</td>\n",
              "      <td>W</td>\n",
              "      <td>10.0</td>\n",
              "      <td>2.2</td>\n",
              "      <td>1085.0</td>\n",
              "      <td>C002110300000</td>\n",
              "      <td>1670798778</td>\n",
              "      <td>2021-04-01</td>\n",
              "      <td>872.0</td>\n",
              "    </tr>\n",
              "    <tr>\n",
              "      <th>163347</th>\n",
              "      <td>1B02799D-9181-4469-82AE-F8CC81DE338C</td>\n",
              "      <td>2020-07-30</td>\n",
              "      <td>9.390012</td>\n",
              "      <td>30160005.0</td>\n",
              "      <td>78.0</td>\n",
              "      <td>Won</td>\n",
              "      <td>W</td>\n",
              "      <td>41.0</td>\n",
              "      <td>1.2</td>\n",
              "      <td>1250.0</td>\n",
              "      <td>K DX51D+Z PROFILES</td>\n",
              "      <td>164141591</td>\n",
              "      <td>2020-09-01</td>\n",
              "      <td>571.0</td>\n",
              "    </tr>\n",
              "  </tbody>\n",
              "</table>\n",
              "</div>\n",
              "    <div class=\"colab-df-buttons\">\n",
              "\n",
              "  <div class=\"colab-df-container\">\n",
              "    <button class=\"colab-df-convert\" onclick=\"convertToInteractive('df-a47a9e76-4bb4-4a15-a383-99c528a047f7')\"\n",
              "            title=\"Convert this dataframe to an interactive table.\"\n",
              "            style=\"display:none;\">\n",
              "\n",
              "  <svg xmlns=\"http://www.w3.org/2000/svg\" height=\"24px\" viewBox=\"0 -960 960 960\">\n",
              "    <path d=\"M120-120v-720h720v720H120Zm60-500h600v-160H180v160Zm220 220h160v-160H400v160Zm0 220h160v-160H400v160ZM180-400h160v-160H180v160Zm440 0h160v-160H620v160ZM180-180h160v-160H180v160Zm440 0h160v-160H620v160Z\"/>\n",
              "  </svg>\n",
              "    </button>\n",
              "\n",
              "  <style>\n",
              "    .colab-df-container {\n",
              "      display:flex;\n",
              "      gap: 12px;\n",
              "    }\n",
              "\n",
              "    .colab-df-convert {\n",
              "      background-color: #E8F0FE;\n",
              "      border: none;\n",
              "      border-radius: 50%;\n",
              "      cursor: pointer;\n",
              "      display: none;\n",
              "      fill: #1967D2;\n",
              "      height: 32px;\n",
              "      padding: 0 0 0 0;\n",
              "      width: 32px;\n",
              "    }\n",
              "\n",
              "    .colab-df-convert:hover {\n",
              "      background-color: #E2EBFA;\n",
              "      box-shadow: 0px 1px 2px rgba(60, 64, 67, 0.3), 0px 1px 3px 1px rgba(60, 64, 67, 0.15);\n",
              "      fill: #174EA6;\n",
              "    }\n",
              "\n",
              "    .colab-df-buttons div {\n",
              "      margin-bottom: 4px;\n",
              "    }\n",
              "\n",
              "    [theme=dark] .colab-df-convert {\n",
              "      background-color: #3B4455;\n",
              "      fill: #D2E3FC;\n",
              "    }\n",
              "\n",
              "    [theme=dark] .colab-df-convert:hover {\n",
              "      background-color: #434B5C;\n",
              "      box-shadow: 0px 1px 3px 1px rgba(0, 0, 0, 0.15);\n",
              "      filter: drop-shadow(0px 1px 2px rgba(0, 0, 0, 0.3));\n",
              "      fill: #FFFFFF;\n",
              "    }\n",
              "  </style>\n",
              "\n",
              "    <script>\n",
              "      const buttonEl =\n",
              "        document.querySelector('#df-a47a9e76-4bb4-4a15-a383-99c528a047f7 button.colab-df-convert');\n",
              "      buttonEl.style.display =\n",
              "        google.colab.kernel.accessAllowed ? 'block' : 'none';\n",
              "\n",
              "      async function convertToInteractive(key) {\n",
              "        const element = document.querySelector('#df-a47a9e76-4bb4-4a15-a383-99c528a047f7');\n",
              "        const dataTable =\n",
              "          await google.colab.kernel.invokeFunction('convertToInteractive',\n",
              "                                                    [key], {});\n",
              "        if (!dataTable) return;\n",
              "\n",
              "        const docLinkHtml = 'Like what you see? Visit the ' +\n",
              "          '<a target=\"_blank\" href=https://colab.research.google.com/notebooks/data_table.ipynb>data table notebook</a>'\n",
              "          + ' to learn more about interactive tables.';\n",
              "        element.innerHTML = '';\n",
              "        dataTable['output_type'] = 'display_data';\n",
              "        await google.colab.output.renderOutput(dataTable, element);\n",
              "        const docLink = document.createElement('div');\n",
              "        docLink.innerHTML = docLinkHtml;\n",
              "        element.appendChild(docLink);\n",
              "      }\n",
              "    </script>\n",
              "  </div>\n",
              "\n",
              "\n",
              "<div id=\"df-97ec0d3e-bbf3-4c71-98de-e33ec53eca55\">\n",
              "  <button class=\"colab-df-quickchart\" onclick=\"quickchart('df-97ec0d3e-bbf3-4c71-98de-e33ec53eca55')\"\n",
              "            title=\"Suggest charts.\"\n",
              "            style=\"display:none;\">\n",
              "\n",
              "<svg xmlns=\"http://www.w3.org/2000/svg\" height=\"24px\"viewBox=\"0 0 24 24\"\n",
              "     width=\"24px\">\n",
              "    <g>\n",
              "        <path d=\"M19 3H5c-1.1 0-2 .9-2 2v14c0 1.1.9 2 2 2h14c1.1 0 2-.9 2-2V5c0-1.1-.9-2-2-2zM9 17H7v-7h2v7zm4 0h-2V7h2v10zm4 0h-2v-4h2v4z\"/>\n",
              "    </g>\n",
              "</svg>\n",
              "  </button>\n",
              "\n",
              "<style>\n",
              "  .colab-df-quickchart {\n",
              "    background-color: #E8F0FE;\n",
              "    border: none;\n",
              "    border-radius: 50%;\n",
              "    cursor: pointer;\n",
              "    display: none;\n",
              "    fill: #1967D2;\n",
              "    height: 32px;\n",
              "    padding: 0 0 0 0;\n",
              "    width: 32px;\n",
              "  }\n",
              "\n",
              "  .colab-df-quickchart:hover {\n",
              "    background-color: #E2EBFA;\n",
              "    box-shadow: 0px 1px 2px rgba(60, 64, 67, 0.3), 0px 1px 3px 1px rgba(60, 64, 67, 0.15);\n",
              "    fill: #174EA6;\n",
              "  }\n",
              "\n",
              "  [theme=dark] .colab-df-quickchart {\n",
              "    background-color: #3B4455;\n",
              "    fill: #D2E3FC;\n",
              "  }\n",
              "\n",
              "  [theme=dark] .colab-df-quickchart:hover {\n",
              "    background-color: #434B5C;\n",
              "    box-shadow: 0px 1px 3px 1px rgba(0, 0, 0, 0.15);\n",
              "    filter: drop-shadow(0px 1px 2px rgba(0, 0, 0, 0.3));\n",
              "    fill: #FFFFFF;\n",
              "  }\n",
              "</style>\n",
              "\n",
              "  <script>\n",
              "    async function quickchart(key) {\n",
              "      const charts = await google.colab.kernel.invokeFunction(\n",
              "          'suggestCharts', [key], {});\n",
              "    }\n",
              "    (() => {\n",
              "      let quickchartButtonEl =\n",
              "        document.querySelector('#df-97ec0d3e-bbf3-4c71-98de-e33ec53eca55 button');\n",
              "      quickchartButtonEl.style.display =\n",
              "        google.colab.kernel.accessAllowed ? 'block' : 'none';\n",
              "    })();\n",
              "  </script>\n",
              "</div>\n",
              "    </div>\n",
              "  </div>\n"
            ]
          },
          "metadata": {},
          "execution_count": 14
        }
      ]
    },
    {
      "cell_type": "code",
      "source": [
        "df.describe()"
      ],
      "metadata": {
        "colab": {
          "base_uri": "https://localhost:8080/",
          "height": 1000
        },
        "id": "BJGzlBLuqFld",
        "outputId": "15dd9ef8-7422-4464-cdae-a581603e2bb8"
      },
      "execution_count": null,
      "outputs": [
        {
          "output_type": "execute_result",
          "data": {
            "text/plain": [
              "       quantity tons      customer        country    application  \\\n",
              "count   1.816720e+05  1.816720e+05  181645.000000  181649.000000   \n",
              "mean    5.874926e+03  3.051221e+07      44.893022      25.615809   \n",
              "std     2.349081e+06  2.433382e+07      24.404214      17.754175   \n",
              "min    -2.000000e+03  1.245800e+04      25.000000       2.000000   \n",
              "25%     1.097030e+01  3.019688e+07      26.000000      10.000000   \n",
              "50%     3.036464e+01  3.020524e+07      30.000000      15.000000   \n",
              "75%     6.716061e+01  3.028042e+07      78.000000      41.000000   \n",
              "max     1.000000e+09  2.147484e+09     113.000000      99.000000   \n",
              "\n",
              "           thickness          width   product_ref  selling_price  \n",
              "count  181672.000000  181673.000000  1.816730e+05   1.816720e+05  \n",
              "mean        2.564827    1295.286724  4.739679e+08   1.918036e+03  \n",
              "std         6.572321     261.631754  7.175101e+08   3.317956e+05  \n",
              "min         0.180000       1.000000  6.117280e+05  -1.160000e+03  \n",
              "25%         0.700000    1180.000000  6.119930e+05   6.690000e+02  \n",
              "50%         1.500000    1250.000000  6.406650e+05   8.120000e+02  \n",
              "75%         3.000000    1500.000000  1.332077e+09   9.530000e+02  \n",
              "max      2500.000000    2990.000000  1.722208e+09   1.000010e+08  "
            ],
            "text/html": [
              "\n",
              "  <div id=\"df-e9a5301e-16ba-44bd-99f2-dc17b3fe0972\" class=\"colab-df-container\">\n",
              "    <div>\n",
              "<style scoped>\n",
              "    .dataframe tbody tr th:only-of-type {\n",
              "        vertical-align: middle;\n",
              "    }\n",
              "\n",
              "    .dataframe tbody tr th {\n",
              "        vertical-align: top;\n",
              "    }\n",
              "\n",
              "    .dataframe thead th {\n",
              "        text-align: right;\n",
              "    }\n",
              "</style>\n",
              "<table border=\"1\" class=\"dataframe\">\n",
              "  <thead>\n",
              "    <tr style=\"text-align: right;\">\n",
              "      <th></th>\n",
              "      <th>quantity tons</th>\n",
              "      <th>customer</th>\n",
              "      <th>country</th>\n",
              "      <th>application</th>\n",
              "      <th>thickness</th>\n",
              "      <th>width</th>\n",
              "      <th>product_ref</th>\n",
              "      <th>selling_price</th>\n",
              "    </tr>\n",
              "  </thead>\n",
              "  <tbody>\n",
              "    <tr>\n",
              "      <th>count</th>\n",
              "      <td>1.816720e+05</td>\n",
              "      <td>1.816720e+05</td>\n",
              "      <td>181645.000000</td>\n",
              "      <td>181649.000000</td>\n",
              "      <td>181672.000000</td>\n",
              "      <td>181673.000000</td>\n",
              "      <td>1.816730e+05</td>\n",
              "      <td>1.816720e+05</td>\n",
              "    </tr>\n",
              "    <tr>\n",
              "      <th>mean</th>\n",
              "      <td>5.874926e+03</td>\n",
              "      <td>3.051221e+07</td>\n",
              "      <td>44.893022</td>\n",
              "      <td>25.615809</td>\n",
              "      <td>2.564827</td>\n",
              "      <td>1295.286724</td>\n",
              "      <td>4.739679e+08</td>\n",
              "      <td>1.918036e+03</td>\n",
              "    </tr>\n",
              "    <tr>\n",
              "      <th>std</th>\n",
              "      <td>2.349081e+06</td>\n",
              "      <td>2.433382e+07</td>\n",
              "      <td>24.404214</td>\n",
              "      <td>17.754175</td>\n",
              "      <td>6.572321</td>\n",
              "      <td>261.631754</td>\n",
              "      <td>7.175101e+08</td>\n",
              "      <td>3.317956e+05</td>\n",
              "    </tr>\n",
              "    <tr>\n",
              "      <th>min</th>\n",
              "      <td>-2.000000e+03</td>\n",
              "      <td>1.245800e+04</td>\n",
              "      <td>25.000000</td>\n",
              "      <td>2.000000</td>\n",
              "      <td>0.180000</td>\n",
              "      <td>1.000000</td>\n",
              "      <td>6.117280e+05</td>\n",
              "      <td>-1.160000e+03</td>\n",
              "    </tr>\n",
              "    <tr>\n",
              "      <th>25%</th>\n",
              "      <td>1.097030e+01</td>\n",
              "      <td>3.019688e+07</td>\n",
              "      <td>26.000000</td>\n",
              "      <td>10.000000</td>\n",
              "      <td>0.700000</td>\n",
              "      <td>1180.000000</td>\n",
              "      <td>6.119930e+05</td>\n",
              "      <td>6.690000e+02</td>\n",
              "    </tr>\n",
              "    <tr>\n",
              "      <th>50%</th>\n",
              "      <td>3.036464e+01</td>\n",
              "      <td>3.020524e+07</td>\n",
              "      <td>30.000000</td>\n",
              "      <td>15.000000</td>\n",
              "      <td>1.500000</td>\n",
              "      <td>1250.000000</td>\n",
              "      <td>6.406650e+05</td>\n",
              "      <td>8.120000e+02</td>\n",
              "    </tr>\n",
              "    <tr>\n",
              "      <th>75%</th>\n",
              "      <td>6.716061e+01</td>\n",
              "      <td>3.028042e+07</td>\n",
              "      <td>78.000000</td>\n",
              "      <td>41.000000</td>\n",
              "      <td>3.000000</td>\n",
              "      <td>1500.000000</td>\n",
              "      <td>1.332077e+09</td>\n",
              "      <td>9.530000e+02</td>\n",
              "    </tr>\n",
              "    <tr>\n",
              "      <th>max</th>\n",
              "      <td>1.000000e+09</td>\n",
              "      <td>2.147484e+09</td>\n",
              "      <td>113.000000</td>\n",
              "      <td>99.000000</td>\n",
              "      <td>2500.000000</td>\n",
              "      <td>2990.000000</td>\n",
              "      <td>1.722208e+09</td>\n",
              "      <td>1.000010e+08</td>\n",
              "    </tr>\n",
              "  </tbody>\n",
              "</table>\n",
              "</div>\n",
              "    <div class=\"colab-df-buttons\">\n",
              "\n",
              "  <div class=\"colab-df-container\">\n",
              "    <button class=\"colab-df-convert\" onclick=\"convertToInteractive('df-e9a5301e-16ba-44bd-99f2-dc17b3fe0972')\"\n",
              "            title=\"Convert this dataframe to an interactive table.\"\n",
              "            style=\"display:none;\">\n",
              "\n",
              "  <svg xmlns=\"http://www.w3.org/2000/svg\" height=\"24px\" viewBox=\"0 -960 960 960\">\n",
              "    <path d=\"M120-120v-720h720v720H120Zm60-500h600v-160H180v160Zm220 220h160v-160H400v160Zm0 220h160v-160H400v160ZM180-400h160v-160H180v160Zm440 0h160v-160H620v160ZM180-180h160v-160H180v160Zm440 0h160v-160H620v160Z\"/>\n",
              "  </svg>\n",
              "    </button>\n",
              "\n",
              "  <style>\n",
              "    .colab-df-container {\n",
              "      display:flex;\n",
              "      gap: 12px;\n",
              "    }\n",
              "\n",
              "    .colab-df-convert {\n",
              "      background-color: #E8F0FE;\n",
              "      border: none;\n",
              "      border-radius: 50%;\n",
              "      cursor: pointer;\n",
              "      display: none;\n",
              "      fill: #1967D2;\n",
              "      height: 32px;\n",
              "      padding: 0 0 0 0;\n",
              "      width: 32px;\n",
              "    }\n",
              "\n",
              "    .colab-df-convert:hover {\n",
              "      background-color: #E2EBFA;\n",
              "      box-shadow: 0px 1px 2px rgba(60, 64, 67, 0.3), 0px 1px 3px 1px rgba(60, 64, 67, 0.15);\n",
              "      fill: #174EA6;\n",
              "    }\n",
              "\n",
              "    .colab-df-buttons div {\n",
              "      margin-bottom: 4px;\n",
              "    }\n",
              "\n",
              "    [theme=dark] .colab-df-convert {\n",
              "      background-color: #3B4455;\n",
              "      fill: #D2E3FC;\n",
              "    }\n",
              "\n",
              "    [theme=dark] .colab-df-convert:hover {\n",
              "      background-color: #434B5C;\n",
              "      box-shadow: 0px 1px 3px 1px rgba(0, 0, 0, 0.15);\n",
              "      filter: drop-shadow(0px 1px 2px rgba(0, 0, 0, 0.3));\n",
              "      fill: #FFFFFF;\n",
              "    }\n",
              "  </style>\n",
              "\n",
              "    <script>\n",
              "      const buttonEl =\n",
              "        document.querySelector('#df-e9a5301e-16ba-44bd-99f2-dc17b3fe0972 button.colab-df-convert');\n",
              "      buttonEl.style.display =\n",
              "        google.colab.kernel.accessAllowed ? 'block' : 'none';\n",
              "\n",
              "      async function convertToInteractive(key) {\n",
              "        const element = document.querySelector('#df-e9a5301e-16ba-44bd-99f2-dc17b3fe0972');\n",
              "        const dataTable =\n",
              "          await google.colab.kernel.invokeFunction('convertToInteractive',\n",
              "                                                    [key], {});\n",
              "        if (!dataTable) return;\n",
              "\n",
              "        const docLinkHtml = 'Like what you see? Visit the ' +\n",
              "          '<a target=\"_blank\" href=https://colab.research.google.com/notebooks/data_table.ipynb>data table notebook</a>'\n",
              "          + ' to learn more about interactive tables.';\n",
              "        element.innerHTML = '';\n",
              "        dataTable['output_type'] = 'display_data';\n",
              "        await google.colab.output.renderOutput(dataTable, element);\n",
              "        const docLink = document.createElement('div');\n",
              "        docLink.innerHTML = docLinkHtml;\n",
              "        element.appendChild(docLink);\n",
              "      }\n",
              "    </script>\n",
              "  </div>\n",
              "\n",
              "\n",
              "<div id=\"df-3fe1a5ab-2e57-4eeb-add6-f2885def84a5\">\n",
              "  <button class=\"colab-df-quickchart\" onclick=\"quickchart('df-3fe1a5ab-2e57-4eeb-add6-f2885def84a5')\"\n",
              "            title=\"Suggest charts.\"\n",
              "            style=\"display:none;\">\n",
              "\n",
              "<svg xmlns=\"http://www.w3.org/2000/svg\" height=\"24px\"viewBox=\"0 0 24 24\"\n",
              "     width=\"24px\">\n",
              "    <g>\n",
              "        <path d=\"M19 3H5c-1.1 0-2 .9-2 2v14c0 1.1.9 2 2 2h14c1.1 0 2-.9 2-2V5c0-1.1-.9-2-2-2zM9 17H7v-7h2v7zm4 0h-2V7h2v10zm4 0h-2v-4h2v4z\"/>\n",
              "    </g>\n",
              "</svg>\n",
              "  </button>\n",
              "\n",
              "<style>\n",
              "  .colab-df-quickchart {\n",
              "    background-color: #E8F0FE;\n",
              "    border: none;\n",
              "    border-radius: 50%;\n",
              "    cursor: pointer;\n",
              "    display: none;\n",
              "    fill: #1967D2;\n",
              "    height: 32px;\n",
              "    padding: 0 0 0 0;\n",
              "    width: 32px;\n",
              "  }\n",
              "\n",
              "  .colab-df-quickchart:hover {\n",
              "    background-color: #E2EBFA;\n",
              "    box-shadow: 0px 1px 2px rgba(60, 64, 67, 0.3), 0px 1px 3px 1px rgba(60, 64, 67, 0.15);\n",
              "    fill: #174EA6;\n",
              "  }\n",
              "\n",
              "  [theme=dark] .colab-df-quickchart {\n",
              "    background-color: #3B4455;\n",
              "    fill: #D2E3FC;\n",
              "  }\n",
              "\n",
              "  [theme=dark] .colab-df-quickchart:hover {\n",
              "    background-color: #434B5C;\n",
              "    box-shadow: 0px 1px 3px 1px rgba(0, 0, 0, 0.15);\n",
              "    filter: drop-shadow(0px 1px 2px rgba(0, 0, 0, 0.3));\n",
              "    fill: #FFFFFF;\n",
              "  }\n",
              "</style>\n",
              "\n",
              "  <script>\n",
              "    async function quickchart(key) {\n",
              "      const charts = await google.colab.kernel.invokeFunction(\n",
              "          'suggestCharts', [key], {});\n",
              "    }\n",
              "    (() => {\n",
              "      let quickchartButtonEl =\n",
              "        document.querySelector('#df-3fe1a5ab-2e57-4eeb-add6-f2885def84a5 button');\n",
              "      quickchartButtonEl.style.display =\n",
              "        google.colab.kernel.accessAllowed ? 'block' : 'none';\n",
              "    })();\n",
              "  </script>\n",
              "</div>\n",
              "    </div>\n",
              "  </div>\n"
            ]
          },
          "metadata": {},
          "execution_count": 15
        },
        {
          "output_type": "display_data",
          "data": {
            "text/plain": [
              "<google.colab._quickchart_helpers.SectionTitle at 0x7fe960e09540>"
            ],
            "text/html": [
              "<h4 class=\"colab-quickchart-section-title\">Values</h4>\n",
              "<style>\n",
              "  .colab-quickchart-section-title {\n",
              "      clear: both;\n",
              "  }\n",
              "</style>"
            ]
          },
          "metadata": {}
        },
        {
          "output_type": "display_data",
          "data": {
            "text/plain": [
              "import numpy as np\n",
              "from google.colab import autoviz\n",
              "\n",
              "def value_plot(df, y, figscale=1):\n",
              "  from matplotlib import pyplot as plt\n",
              "  df[y].plot(kind='line', figsize=(8 * figscale, 4 * figscale), title=y)\n",
              "  plt.gca().spines[['top', 'right']].set_visible(False)\n",
              "  plt.tight_layout()\n",
              "  return autoviz.MplChart.from_current_mpl_state()\n",
              "\n",
              "chart = value_plot(_df_0, *['quantity tons'], **{})\n",
              "chart"
            ],
            "text/html": [
              "      <div class=\"colab-quickchart-chart-with-code\" id=\"chart-b822583e-e6d1-4cdf-b667-0212b86dac1c\">\n",
              "        <img src=\"data:image/png;base64,iVBORw0KGgoAAAANSUhEUgAAAYwAAADECAYAAACMRRb/AAAAOXRFWHRTb2Z0d2FyZQBNYXRwbG90\n",
              "bGliIHZlcnNpb24zLjcuMSwgaHR0cHM6Ly9tYXRwbG90bGliLm9yZy/bCgiHAAAACXBIWXMAAA9h\n",
              "AAAPYQGoP6dpAAAm3ElEQVR4nO3de1RTV94+8CeAQJWbityEgIigghARGX9UW0VbtSpa8K29YMW+\n",
              "CLbay1inVmecGWeWUqcutePMGnH01bf1UltFRVud6qt1GGuL1DveQMWggCgiNzGQZP/+iEmJoCZI\n",
              "OIk+n7WyJId9znkSQ77Z+5zsIxNCCBARET2CndQBiIjINrBgEBGRSVgwiIjIJCwYRERkEhYMIiIy\n",
              "CQsGERGZhAWDiIhMwoJBREQmYcEgIiKTsGAQtdL06dORmpoqdQyidsOCQWQCmUyGffv2GS1buXIl\n",
              "Vq9ebbgfFBRkdL811q1bB39//8faBpGlsGAQEZFJWDDIqpWXlyMxMREeHh4IDg7Ghg0bIJPJ8P33\n",
              "3wNo+RP5H//4RwwePNhw/+9//zsiIiLg5uYGHx8fTJ48GTdv3mzWfsGCBfD19UWXLl2Qnp4OtVoN\n",
              "AAgPDwcAjBs3Di4uLhg9ejQAICUlBcnJyQCA0aNHQ6lUYubMmXBxcUF4eDgKCwvh4OCAoqIio3xj\n",
              "x47FBx980Oyx5uTkYPr06SgpKYGLiwtcXFywYcMGAMDZs2cxevRoeHp6wt/fH+np6aiqqjKsO3To\n",
              "ULz//vt4/fXX4e7ujoCAAPzjH/8w/F6pVOKll15Cly5d4O7ujoiICOTk5JjzX0HEgkHWLTk5GXfu\n",
              "3MGlS5eQl5eHTZs2mb0NHx8fZGVl4fbt2/jpp59w4cIFvPvuu0ZtfvrpJ3Tq1AlXrlzBjz/+iK+/\n",
              "/hpffPEFACA/Px8AsHPnTtTW1mL37t3N9rF7927I5XL87W9/Q21tLfLz8xESEoL4+Hj885//NLRT\n",
              "KpXYs2cPpk+f3mwbQ4YMwcqVK+Hn54fa2lrU1tbijTfeQE1NDUaMGIG+fftCqVTiyJEjOHfuHKZM\n",
              "mWK0/rp165CamorKykosX74cM2fORGFhIQBg7ty56N69O0pKSlBZWYmtW7dy6IvMxoJBVuvatWvY\n",
              "u3cvPv30U3Tp0gVdunRBRkaG2dtJSkpCaGgo7OzsEBgYiI8//hjfffedUZuAgADMnj0bjo6OCA0N\n",
              "xfDhw5Gbm/vYj+Htt9/G2rVrDb2V1atXY/Dgwejdu7fJ29i1axcaGhqwePFidOzYEb6+vli+fDl2\n",
              "7NiBsrIyo8cZHx8POzs7JCUloUuXLvj5558BAI6OjigrK8PFixchk8kQFhaGHj16PPbjo6eLVReM\n",
              "9957D0FBQZDJZDh+/LhJ63zxxReIiopCREQEhg8fDqVSadmQZDFXr14FAKM3tta8yWVlZSEuLg5e\n",
              "Xl5wc3PD5MmTcevWLWg0GkMbPz8/o3U6deqEmpqaVib/RUJCAuzt7ZGdnQ21Wo01a9YgPT3drG0U\n",
              "FxcjMDAQDg4OhmUhISEAYPT6fthjWLJkCUJCQpCYmAhvb29MnToV169fb+3DoqeUVReMiRMn4j//\n",
              "+Q8CAwNNan/u3Dn85je/wZ49e3D69GlMnToVb7/9toVTkqXoh0yaHgO4/3iAq6sr6urqjJaVlJQY\n",
              "fr569Sr+67/+C++++y6USiWqq6sNQ03mXDtMJpM9so2dXfM/J3t7e0ybNg2rVq3Crl270NjYiKSk\n",
              "JLO2ERAQAKVSaeilAMDFixcBAHK53JT46Nq1K5YtW4bz58/j2LFjKCoqwqxZs0xal0jPqgvGc889\n",
              "1+I465EjRxAfH4+YmBj0798fX3/9NQDg9OnTiIyMhK+vLwDgpZdewu7du1FRUdGuualtdO/eHcOH\n",
              "D8dHH32EyspKVFZWYt68eUZt+vfvj5qaGmzevBlarRbff/+94fUAALW1tdBqtfD09ISzszMKCgpa\n",
              "Nazl4+OD8+fPt6rNtGnTcODAASxYsAApKSlwdHR86DZu3rxp9JodM2YMHBwcMG/ePNTX16OsrAy/\n",
              "/vWvMW7cOPj4+JiU/8svv8TFixeh1Wrh6uoKJycnox4LkSmsumC05Pbt20hLS8OGDRuQl5eHvXv3\n",
              "4sMPP8S1a9cQFRWFo0eP4sKFCwCA9evXQwiBK1euSJyaWmv9+vVwdHREUFAQoqOjMWnSJKPfBwcH\n",
              "429/+xtmz54NDw8PZGZmYurUqYbf9+7dGxkZGXjzzTfh6uqKKVOmGM5sMkdGRgYWL14MDw8PjB07\n",
              "tsU2v//977Fjxw54eHggMjLSsNzX1xcJCQk4ceLEI4ej4uPjMX78eISGhsLDwwMbN26Em5sb9u7d\n",
              "ixMnTsDf3x8DBgxASEgI/vd//9fk/CdOnEB8fDxcXV3Rs2dPeHh4YMmSJSavTwQAMlu4pndQUBC2\n",
              "b98OhUKBb7/9Fq+99prRWPatW7ewbt06xMfHY8uWLViyZAnUajXGjBmDv/71rzh48KDRHzDZLrVa\n",
              "jQ4dOuDAgQMYOnSo1HFMNmfOHBw9ehR79+6VOgpRq9lcn1QIgfDwcPzwww8t/n7ixImYOHEiAKCs\n",
              "rAyLFy82HCAkkoJSqcSaNWsMx06IbJXNDUnFxcXh8uXLRtM0HD9+HA0NDQCA0tJSAIBGo8GcOXMw\n",
              "Y8YMdOzYUZKsRG+88Qb69u2L119/3fCFPyJbZdVDUunp6fjmm29QVlaGrl27wtXVFYWFhTh69Chm\n",
              "z56NiooKNDY2Qi6XY/v27XB2dsbo0aNx5coVqFQqjBkzBp9++imcnJykfihERDbPqgsGERFZD5sb\n",
              "kiIiImmwYBARkUlYMIiIyCRWWTA+++wzqSMQEdF9rLJg8JvZRETWxyoLBhERWR+zCoap042vWbMG\n",
              "vXr1Qs+ePTFt2jQ0NjY+bk4iIpKYWQXDlOnGL1++jPnz5yMnJweFhYW4fv06Vq1a9dhBiYhIWmYV\n",
              "jAdNN97Uli1bkJCQAB8fH8hkMkyfPr1Vl9UkIqJH2/DTFXx1pBjVdy0/ktPmkw8qlUqjHkhQUNBD\n",
              "r3qnUqmgUqmMljW9EhoREbVMrdFi+b4C3KhRoUsnR4zo623R/Ul+0DsjIwPu7u5Gt7a4ljIR0ZPu\n",
              "0MUK3KhRoXPHDngutJvF99fmBUMulxudFltUVPTQy0jOnTsXVVVVRrfY2Ni2jkVE9MTZfuwaAGBs\n",
              "pB8cHSz/+b/N95CUlITs7GyUlZVBCIGVK1fi1VdffWB7JycnuLm5Gd3s7e3bOhYR0ROlTqXGntNl\n",
              "AICXo7u3yz7NKhjp6enw9/fH1atXMXLkSMOFiVJTU5GdnQ1Ad8nMBQsW4Nlnn0VISAi6dev2yMtS\n",
              "EhGReb47U4b6Rg2CunZE/wCPdtmnVU5vPmvWLCxdulTqGEREVuvN/8nFvy/cwAcjeuGDEaHtsk/J\n",
              "D3oTEZF5yqvv4j8FNwAAExTtMxwFsGAQEdmc7BMl0Aqgv9wDQZ6d2m2/LBhERDZm272zoxL7t1/v\n",
              "AmDBICKyKReu1yC/pBoOdjKMifRr132zYBAR2RD9dy+GhnmhSyfHdt03CwYRkY3QagV2HC8BALzc\n",
              "zsNRAAsGEZHNyC26hWu36+Hq5IDhfbzaff8sGERENmLbUd1w1Ev9fOHcof1nxGDBICKyAXcbNfj2\n",
              "VCkAYIIEw1EACwYRkU3Yf64cNSo1/Nyd8aseXSTJwIJBRGQDsu4NR43v3x12djJJMrBgEBFZuVt1\n",
              "Dfj+fDkAac6O0mPBICKyct+cLIFaKxDu54ZQb1fJcrBgEBFZOf1UIFL2LgAWDCIiq3alog5Hlbdh\n",
              "JwMSotp3KpD7sWAQEVkxfe/i2RBPeLk5S5rF7IJRUFCAuLg4hIaGYuDAgcjPz2/WRqvVYtasWejb\n",
              "ty8iIyMxbNgwFBYWtklgIqKnhRDCMHdUYjtdhvVhzC4Y6enpSEtLw4ULFzBnzhykpKQ0a5OdnY1D\n",
              "hw7hxIkTOHnyJIYPH4558+a1RV4ioqfGseLbKKq4g2c62OPFvj5SxzGvYJSXlyMvLw/JyckAgKSk\n",
              "JBQXFzfrPchkMqhUKty9exdCCFRXV8Pf37/tUhMRPQX0vYuR4d7o5OQgcRrArATFxcXw9fWFg4Nu\n",
              "NZlMBrlcDqVSiZCQEEO7cePG4cCBA/Dx8YGrqyu6d++OgwcPtrhNlUoFlUpltEyj0Zj7OIiIniiN\n",
              "Gi12nrg3M220dXzgtshB77y8PJw+fRrXrl1DSUkJhg8fjunTp7fYNiMjA+7u7ka33NxcS8QiIrIZ\n",
              "B8/fQOWdRni6OOHZnl2ljgPAzIIREBCA0tJSqNVqALoDMkqlEnK53Kjd559/jvj4eHh4eMDOzg5T\n",
              "pkzBgQMHWtzm3LlzUVVVZXSLjY1t5cMhInoybDt+byoQhR8c7K3jhFazUnh5eSE6Ohrr168HAGzd\n",
              "uhX+/v5Gw1EAEBwcjP3796OhoQEAsGvXLkRERLS4TScnJ7i5uRnd7O3bf9peIiJrUX23EXvPXAcg\n",
              "/Zf1mjL7KEpmZiZSUlKwaNEiuLm5Ye3atQCA1NRUJCQkICEhATNmzMDZs2cRFRWFDh06wMfHBytX\n",
              "rmzz8ERET6I9p8rQoNYixMsF4X5uUscxMLtghIWF4fDhw82Wr1692vCzk5MT/vnPfz5eMiKip1TT\n",
              "qUBkMmlmpm2JdQyMERERAKDkdj1+vFwBQHf8wpqwYBARWZEdx0sgBPCrHl3g37mj1HGMsGAQEVkJ\n",
              "IQS2HbsKwLoOduuxYBARWYkzpdW4cL0Wjg52GN3PV+o4zbBgEBFZCf1UICP6eMH9mQ4Sp2mOBYOI\n",
              "yApotAI7juumApmgsL7hKIAFg4jIKvxw8SbKa1Tw6NgBQ8O8pI7TIhYMIiIrsO2objhqbKQvHB2s\n",
              "863ZOlMRET1F7jSosSe/DIB1nh2lx4JBRCSxvWeu406DBvIuHREt7yx1nAdiwSAikljWveGoCVY2\n",
              "Fcj9WDCIiCR0o0aFnIIbAKx7OApgwSAiklT2iRJoBaAI8EAPz05Sx3koFgwiIgltbzIzrbVjwSAi\n",
              "kkhheQ1OXauCg50MYyOtbyqQ+7FgEBFJRH/di+dDu6Gri5PEaR7N7IJRUFCAuLg4hIaGYuDAgcjP\n",
              "z2+x3alTpzB06FD06dMHffr0QVZW1mOHJSJ6Umi1AtuP6aYCeTna+oejgFZccS89PR1paWlISUnB\n",
              "li1bkJKSgiNHjhi1uXPnDsaPH4/PP/8cgwcPhkajwa1bt9osNBGRrcu7Uolrt+vh4uSAEX28pY5j\n",
              "ErN6GOXl5cjLy0NycjIAICkpCcXFxSgsLDRqt3HjRgwaNAiDBw8GANjb26Nbt25tFJmIyPbpr3sx\n",
              "OsIHzh3sJU5jGrMKRnFxMXx9feHgoOuYyGQyyOVyKJVKo3ZnzpyBk5MTxo4dC4VCgTfffBM3btxo\n",
              "cZsqlQrV1dVGN41G08qHQ0Rk/e42arDrZCkA2xmOAix00FutVmPfvn3IzMzEsWPH0L17d7z99tst\n",
              "ts3IyIC7u7vRLTc31xKxiIiswoFz5ai5q4avuzMG9egqdRyTmVUwAgICUFpaCrVaDUB3OUGlUgm5\n",
              "XG7UTi6XY9iwYejeXfc19+TkZPz4448tbnPu3LmoqqoyusXGxrby4RARWT/92VHjFd1hZ2e9U4Hc\n",
              "z6yC4eXlhejoaKxfvx4AsHXrVvj7+yMkJMSo3SuvvIIjR46guroaAPDtt98iKiqqxW06OTnBzc3N\n",
              "6GZvbxvjeURE5rp9pwEHzpcDsI0v6zVl9llSmZmZSElJwaJFi+Dm5oa1a9cCAFJTU5GQkICEhATI\n",
              "5XLMmzcPcXFxsLOzQ/fu3bFq1ao2D09EZGt2nSxFo0agj68bwnxcpY5jFrMLRlhYGA4fPtxs+erV\n",
              "q43uT548GZMnT259MiKiJ5B+KpBEG+tdAPymNxFRu1FW3EHelUrYyYAEhZ/UcczGgkFE1E62H9f1\n",
              "Lp4N8YS3m7PEaczHgkFE1A6EEIbhqAkK2xuOAlgwiIjaxYmrVbh0sw7OHewwMsJH6jitwoJBRNQO\n",
              "9L2LkeE+cHEy+3wjq8CCQURkYY0aLXae0M1MO8EGz47SY8EgIrKwnIIbqKhrgKeLI4aEeEodp9VY\n",
              "MIiILGzbvetejIvyg4O97b7t2m5yIiIbUHO3Ed/llwGwvalA7seCQURkQXtOl0Gl1qJnt07o191d\n",
              "6jiPhQWDiMiC9DPTvtxfN3u3LWPBICKykNKqehy+VAFAN5W5rWPBICKykOzjJRACiA3qgoAuHaWO\n",
              "89hYMIiILEQ/HGXL371oigWDiMgCzpZW41xZDRzt7TCmn6/UcdoECwYRkQXoexfxvb3g3rGDxGna\n",
              "htkFo6CgAHFxcQgNDcXAgQORn5//wLZCCMTHx8PDw+NxMhIR2RSNVmDHvanMX45+MoajgFYUjPT0\n",
              "dKSlpeHChQuYM2cOUlJSHth22bJl6Nmz5+PkIyKyOT9eqsD1ahXcn+mAoWHdpI7TZswqGOXl5cjL\n",
              "y0NycjIAICkpCcXFxSgsLGzWNj8/H9u3b8fHH3/cNkmJiGxE1lFd72JMpC+cHOwlTtN2zJpjt7i4\n",
              "GL6+vnBw0K0mk8kgl8uhVCoREhJiaNfY2Ihp06ZhzZo1sLd/+JOlUqmgUqmMlmk0GnNiERFZjfoG\n",
              "DfacLgVgm9ftfhiLHPResGABEhMT0adPn0e2zcjIgLu7u9EtNzfXErGIiCzuuzNlqGvQIKDLMxgQ\n",
              "2FnqOG3KrIIREBCA0tJSqNVqALqD2kqlEnK53KjdwYMHsWLFCgQFBWHw4MGorq5GUFAQbty40Wyb\n",
              "c+fORVVVldEtNjb2MR4SEZF09BdKellh+1OB3M+sISkvLy9ER0dj/fr1SElJwdatW+Hv7280HAUA\n",
              "OTk5hp+LioqgUChQVFTU4jadnJzg5ORktOxRw1hERNboZq0K/y64CQAY/4QNRwGtGJLKzMxEZmYm\n",
              "QkND8cknn2Dt2rUAgNTUVGRnZ7d5QCIiW7HzRAk0WoEof3f07OYidZw2Z/aFZcPCwnD48OFmy1ev\n",
              "Xt1i+6CgINy+fdvsYEREtmZ7k5lpn0T8pjcRURu4eKMWJ65Wwd5OhrFRflLHsQgWDCKiNqDvXTwf\n",
              "2g2eLk6PaG2bWDCIiB6TEOKJm5m2JSwYRESPKe9KJa5W1sPFyQEv9PGWOo7FsGAQET0mfe9iVIQP\n",
              "nnF8cr8WwIJBRPQYVGoNvjmpmwrkST07So8Fg4joMRw4dwNV9Y3wcXPGoOCuUsexKBYMIqLHoD87\n",
              "arzCD/Z2T9ZUIPdjwSAiaqWqO43Yf64cwJN9dpQeCwYRUSt9c6oUDRotevu4oo+vm9RxLI4Fg4io\n",
              "lbYduwrgyT/YrceCQUTUCsW37uBIUSVkMmC8ggWDiIgeYMdx3cHuuJ5d4ePuLHGa9sGCQURkJiEE\n",
              "svRTgTwlvQuABYOIyGynrlXh0o06OHeww6gIH6njtBsWDCIiM2Ud1fUuXujrA1fnDhKnaT9mF4yC\n",
              "ggLExcUhNDQUAwcORH5+frM2+/fvR2xsLPr27Yvw8HB89NFH0Gq1bRKYiEhKjRotdp4oAQAkPiVn\n",
              "R+mZXTDS09ORlpaGCxcuYM6cOUhJSWnWpnPnzvjyyy9x5swZ/Pzzz/jhhx/w+eeft0VeIiJJ/afw\n",
              "JirqGtC1kyMG9/KUOk67MqtglJeXIy8vD8nJyQCApKQkFBcXo7Cw0Khd//79ERwcDABwdnaGQqFA\n",
              "UVFR2yQmIpLQtnvDUeOi/NDB/uka1Tfrmt7FxcXw9fWFg4NuNZlMBrlcDqVSiZCQkBbXKSsrw5Yt\n",
              "W7Br164Wf69SqaBSqYyWaTQac2IREbWLWpUa350pA/D0fFmvKYuWx+rqaowbNw4fffQRYmJiWmyT\n",
              "kZEBd3d3o1tubq4lYxERtcqe02W426hFsGcnRPq7Sx2n3ZlVMAICAlBaWgq1Wg1Ady6yUqmEXC5v\n",
              "1rampgajRo3C+PHjMWvWrAduc+7cuaiqqjK6xcbGmvkwiIgsTz8z7cv9u0Mme7Jnpm2JWQXDy8sL\n",
              "0dHRWL9+PQBg69at8Pf3bzYcVVtbi1GjRmHUqFH43e9+99BtOjk5wc3Nzehmb//kXrGKiGzT9eq7\n",
              "OHTxJoCnZyqQ+5k9JJWZmYnMzEyEhobik08+wdq1awEAqampyM7OBgB89tlnyM3NRVZWFhQKBRQK\n",
              "BRYuXNi2yYmI2tGO49cgBBAT2Bnyrh2ljiMJmRBCSB3ifrNmzcLSpUuljkFEZDD6sxycLa3Gwpcj\n",
              "8MavAqWOI4mn65wwIqJWOFdWjbOl1XC0t8OYfr5Sx5EMCwYR0SNsu3ewe1jvbvDo6ChxGumwYBAR\n",
              "PYRWK7DjmG4qkKfxuxdNsWAQET3Ej5cqUFZ9F27ODhjW20vqOJJiwSAiegj9cNSYSD84OTzdp/yz\n",
              "YBARPUB9gwa7Tz+9U4HcjwWDiOgB9p29jlqVGv6dn0FMYGep40iOBYOI6AG2N7kMq53d0zcVyP1Y\n",
              "MIiIWlBRq8LBCzcAABM4HAWABYOIqEW7TpZCrRWI9HdHiJeL1HGsAgsGEVELspoMR5EOCwYR0X0u\n",
              "3ajFieLbsLeTYVyUn9RxrAYLBhHRfbYf132ze0gvT3RzdZI4jfVgwSAiakIIYXShJPoFCwYRURNH\n",
              "lZVQ3rqDTo72eLGvj9RxrAoLBhFRE1lHdb2LkRE+eMbx6Z4K5H5mF4yCggLExcUhNDQUAwcORH5+\n",
              "fovt1qxZg169eqFnz56YNm0aGhsbHzssEZElNai12HWyFACQ2N9f4jTWx+yCkZ6ejrS0NFy4cAFz\n",
              "5sxBSkpKszaXL1/G/PnzkZOTg8LCQly/fh2rVq1qi7xERBbz/flyVNU3wsvVCf+vZ1ep41gdB3Ma\n",
              "l5eXIy8vD9999x0AICkpCTNnzkRhYSFCQkIM7bZs2YKEhAT4+OjG/6ZPn45FixZhxowZbRi9ZXca\n",
              "1FBrH3zV2Ud9uV8me3iLR6//sHUfvraAgFYAWiEghO7gm7h3Xyt0vxdNfv9LO30bAQHdetr7lze5\n",
              "L6BfV78d433q96Vfjvv2qXt69f8CdjLd8yYDYCeTwc5O91hlMt39pv/KIIOdDLCz07WXyWSG9e3u\n",
              "tcN929H9Xt/ml/3I7i230y9vct+QRbdTw7b1GR7x30xPKf1w1HiFH+w5FUgzZhWM4uJi+Pr6wsFB\n",
              "t5pMJoNcLodSqTQqGEqlEoGBv1zzNigoCEqlssVtqlQqqFQqo2UajcacWEbSv/gZOQU3W70+EdHL\n",
              "HI5qkVkFwxIyMjKwYMECo2WDBg2SKI11M/qUrP9kjiafzA2fto0/uf/yafve/RY/+d//Sf2XT/b6\n",
              "T+z39wb0PaaWekbalnpCLfRaDL0Z7b0eFZosN2zr3nKtfju/9Jy0Ak22pe9hSfQfRE+E50K7oY+v\n",
              "q9QxrJJZBSMgIAClpaVQq9VwcHCAEAJKpRJyudyonVwux8WLFw33i4qKmrXRmzt3LmbNmmW0bP78\n",
              "+ebEMrJmykDo3jYerC3fUEzZ1qPy6LfzoGEV/Rs4mUaI5oXl/iE5ogfp5GjPv7cHMKtgeHl5ITo6\n",
              "GuvXr0dKSgq2bt0Kf39/o+EoQHdsY/DgwfjjH/8Ib29vrFy5Eq+++mqL23RycoKTk/E3Ke3tW38q\n",
              "m6MDzxR+2ul7UQBg/8ijTkRkKrPfXTMzM5GZmYnQ0FB88sknWLt2LQAgNTUV2dnZAIDg4GAsWLAA\n",
              "zz77LEJCQtCtWzekp6e3bXIiImpXMiGsb8R31qxZWLp0qdQxiIioCY7fEBGRSayyh5GYmIigoKBW\n",
              "ravRaJCbm4vY2NjHOhbS3mwxNzO3D1vMDNhm7qc1c2BgIN5///1HtrPKgvE4qqur4e7ujqqqKri5\n",
              "uUkdx2S2mJuZ24ctZgZsMzczPxyHpIiIyCQsGEREZBIWDCIiMskTVzCcnJzwhz/8odmXAa2dLeZm\n",
              "5vZhi5kB28zNzA/3xB30JiIiy3jiehhERGQZLBhERGQSFgwiIjIJCwaA5cuXo6ysTOoYNqOoqAgr\n",
              "V658aJuYmBh8//337ROoFUpKSjBkyBBJM9y9excTJkxAaGgooqKi8MILL6CwsBAAMHToUPTo0QMK\n",
              "hQIKhQLLli0zrJeeno5+/fohPj4eVVVVAHRTuo8ePdrosgKWEhQUhLCwMEO2zZs3AwAKCgoQFxeH\n",
              "0NBQDBw4EPn5+QCAxsZGTJgwAVFRUUhMTIRarTY8/ueeew6VlZUWzVtRUWHIqlAoEBoaCgcHB9y6\n",
              "dcuqn2erJEgEBgaKY8eOSR3DZhw4cEBERUU9tM2AAQPEgQMH2iWPraqvrxfffPON0Gq1QgghVqxY\n",
              "IZ5//nkhhBDPP/+82LZtW7N1Tp06JYYNGyaEEGLBggVixYoVQgghVq1aJRYvXtwuuR/09zJs2DCx\n",
              "du1aIYQQX3/9tYiJiRFCCLFz504xdepUIYQQU6dOFTt37hRCCDFv3jyxefPmdsnc1KeffirGjh0r\n",
              "hLDu59kaWXUP4/Dhwxg8eDCioqIQGRmJHTt2IC8vD3FxcYiMjERsbCwOHToEQPep18PDw7BubW2t\n",
              "0UVQZDIZFi1ahNjYWPTo0cMwLfuf/vQnlJSUYNKkSVAoFDh+/PhjZZbJZFi4cCF+9atfISgoCNu3\n",
              "b0dGRgZiYmLQq1cvo0/d//rXvzB48GAMGDAAsbGxOHDgAACgrKwMw4YNw4ABAxAeHo6ZM2dCq9UC\n",
              "ANatW4cRI0bgtddeQ79+/RATE4NLly49VuaHqa+vx6RJk9C3b19ERUXhxRdfxPTp03H+/HkoFAok\n",
              "JCQAAH744QcoFApERERg6tSphk+R7c3U5//+18uDXh+W5OzsjJdeesnwOh00aBCKiooeuk6HDh2g\n",
              "Uqmg1WpRV1cHR0dHlJaWYtOmTc0uRNaeysvLkZeXh+TkZAC6a+IUFxejsLAQHTp0wJ07dwAAd+7c\n",
              "gaOjI06ePIlz587hlVdeafesa9aswX//938/tI01PM+mvpbVajVGjhyJmJgYhIeH4/XXX0ddXR0A\n",
              "YMOGDYiJiYFKpYIQAuPGjcPChQtbH0rqivUgFRUVwsvLS/z73/8WQgih0WjE9evXRUBAgNizZ48Q\n",
              "QoicnBzh7e0tampqxOXLl4W7u7th/ZqaGtH04QEQS5YsEUIIcfbsWeHi4iIaGxuFEG3bwwAgli9f\n",
              "LoQQYt++faJTp06GT11fffWV4VPXxYsXxaBBg0RVVZUQQoiCggLh4+Mj7t69K+rr60VNTY0QQgi1\n",
              "Wi3GjBkjNm3aJIQQYu3atcLNzU1cunRJCCHEnDlzRFpaWptkb0lWVpZ48cUXDfcrKiqa9TBUKpXw\n",
              "9/cXe/fuFUII8a9//UsAkKSHYerzf//r5WGvj/aSnJws3nvvPSGE7pNvWFiYiIiIEK+88oq4ePGi\n",
              "od1vf/tbERUVJSZOnCjq6urEpEmTRF5eXrvlDAwMFP369RMRERHirbfeEuXl5SIvL0+EhoYatRs4\n",
              "cKD4v//7P6HRaERqaqqIjIwUaWlporGxUQwfPlwUFxe3W2a9Q4cOCW9vb8P/rTU/z6a+lrVarbh5\n",
              "86bh5+nTp4uMjAzDdtLS0sSMGTPEX/7yFzFq1ChDj7ZVmVq9poXt2rVLDBkyxGjZyZMnRWBgoNGy\n",
              "yMhIkZOTY1LBKC0tNdz38PAwvGDbumDo93P79m0BQNTX1wshhCgqKjJk/Pvf/y48PT1FVFSU4ebn\n",
              "5ycuXLgg6urqxDvvvCMiIyNFv379hLe3t5gzZ44QQlcwRo4cadjf9u3bxfDhw9ske0suXrwoAgIC\n",
              "xNtvvy2+/PJLUV1d3axgnDhxQgQFBRmtFxwcLFnBMOX5b6lgPOj10R4WLlwoBg0aJOrq6oQQQiiV\n",
              "SiGE7g1gxYoVok+fPi2ut337djF79mxx8+ZNkZKSIhITE8WXX35p0axXrlwRQgjR0NAgPvroIzF6\n",
              "9OiHFoz7LVu2TKxYsUJcvnxZvPbaayIxMbHFdpbw1ltvid/85jeG+9b8PJv6WtZoNOK3v/2tUCgU\n",
              "IiIiQgQEBIhJkyYZtlNfXy8iIyNFQECAuHHjxmNlsuohKVPou/MODg7QaDSG5Xfv3m3W1tnZ2fCz\n",
              "vb29xYZN9PvRTzXc9L5+n0IIvPDCCzh+/Ljhdu3aNfTq1QtLly5FeXk5fvrpJ5w8eRKvv/660eNp\n",
              "r8cB6K6eeObMGYwaNQqHDh1CRESESQcppbwmsinP/8PWM6VtW1qyZAmysrKwe/dudOzYEQAQEBAA\n",
              "QPc8zpw5E5cuXUJFRYXRetXV1ViyZAkWLFiA5cuX4/nnn8fmzZvxpz/9CfX19RbLK5fLAeiGbT74\n",
              "4APk5OQgICAApaWlRq9vpVJpaKt35coVfPvtt3jnnXcwf/58pKWlYd26dXj33XctllevtrYWX331\n",
              "Fd566y3DMmt+ngHTXssbN27E/v37cfDgQZw6dQqzZ882er8oLy9HZWUltFotbt++/Vh5rLZgxMXF\n",
              "oaCgADk5OQAArVYLb29vaLVa7N27F4Bu3LysrAwKhQI+Pj4QQuDMmTMAgM8//9zkfbm5uRnOgmgv\n",
              "I0eOxL59+3Dy5EnDstzcXABAZWUlfHx84OzsjLKyMnz99dftmq2pq1evQiaTISEhAUuWLIEQAl27\n",
              "djV6vnr37g21Wm04BrNv376n9ywSMy1duhSbNm3C3r17DcdU1Go1rl+/bmizdetWeHt7o2vXrkbr\n",
              "fvzxx/j973+Pjh07oq6u7t61zGVobGxEQ0ODRfLW1dUZvels2rQJ/fv3h5eXF6Kjo7F+/XpDZn9/\n",
              "f4SEhBit//7772PZsmWws7MzZNb/bGmbN29GVFQUevfuDcC6n2dzVFZWwtPTE25ubqipqcG6desM\n",
              "v1Or1Xj11Vfx5z//GUuXLsUrr7wClUrV6n05tEFei+jcuTO2bduGDz/8EDU1NbCzs8Of//xnZGVl\n",
              "4b333sOHH34IZ2dnbNmyBS4uLgCAFStWYOzYsejatSsmTpxo8r7ee+89TJs2DR07dsS6deugUCgs\n",
              "9Kh+ERISgo0bNyI9PR137txBQ0MD+vfvj40bN+L999/HxIkTER4eDj8/P4wYMcLieR7k1KlTmDt3\n",
              "LoQQUKvVmDx5MuLi4hAeHo6IiAgEBwcjOzsbmzdvxjvvvAONRoOBAwciKipKssy24urVq/jwww8R\n",
              "HByMYcOGAdDNC7R//36MGTMGKpUKdnZ28PT0RHZ2ttG6hw4dQn19PV544QUAwIwZM/Daa69h8eLF\n",
              "mDx5Mtzd3S2S+fr160hKSoJGo4EQAsHBwYYPZ5mZmUhJScGiRYvg5ubW7MSBjRs3IioqCuHh4QB0\n",
              "b8TTpk1DQ0MD5s+fb5G8Ta1ZswbTpk0z3FepVFb7PJvjzTffxI4dOxAWFoZu3bphyJAhuHLlCgDd\n",
              "cxwWFoYpU6YAAA4ePIgPPvgA//jHP1q1L84lRUREJrHaISkiIrIuLBhERGQSFgwiIjIJCwYREZmE\n",
              "BYOIiEzCgkFERCZhwSAiIpOwYBARkUlYMIiIyCQsGEREZBIWDCIiMsn/B+H2nABsv7mkAAAAAElF\n",
              "TkSuQmCC\n",
              "\">\n",
              "        \n",
              "      </div>\n",
              "      <script></script>\n",
              "      <script type=\"text/javascript\">\n",
              "        (() => {\n",
              "          const chartElement = document.getElementById(\"chart-b822583e-e6d1-4cdf-b667-0212b86dac1c\");\n",
              "          async function getCodeForChartHandler(event) {\n",
              "            const chartCodeResponse =  await google.colab.kernel.invokeFunction(\n",
              "                'getCodeForChart', [\"chart-b822583e-e6d1-4cdf-b667-0212b86dac1c\"], {});\n",
              "            const responseJson = chartCodeResponse.data['application/json'];\n",
              "            await google.colab.notebook.addCell(responseJson.code, 'code');\n",
              "          }\n",
              "          chartElement.onclick = getCodeForChartHandler;\n",
              "        })();\n",
              "      </script>\n",
              "      <style>\n",
              "        .colab-quickchart-chart-with-code  {\n",
              "            display: block;\n",
              "            float: left;\n",
              "            border: 1px solid transparent;\n",
              "        }\n",
              "\n",
              "        .colab-quickchart-chart-with-code:hover {\n",
              "            cursor: pointer;\n",
              "            border: 1px solid #aaa;\n",
              "        }\n",
              "      </style>"
            ]
          },
          "metadata": {}
        },
        {
          "output_type": "display_data",
          "data": {
            "text/plain": [
              "import numpy as np\n",
              "from google.colab import autoviz\n",
              "\n",
              "def value_plot(df, y, figscale=1):\n",
              "  from matplotlib import pyplot as plt\n",
              "  df[y].plot(kind='line', figsize=(8 * figscale, 4 * figscale), title=y)\n",
              "  plt.gca().spines[['top', 'right']].set_visible(False)\n",
              "  plt.tight_layout()\n",
              "  return autoviz.MplChart.from_current_mpl_state()\n",
              "\n",
              "chart = value_plot(_df_1, *['customer'], **{})\n",
              "chart"
            ],
            "text/html": [
              "      <div class=\"colab-quickchart-chart-with-code\" id=\"chart-7af3efb0-8462-49b4-a265-e7183925f89c\">\n",
              "        <img src=\"data:image/png;base64,iVBORw0KGgoAAAANSUhEUgAAAYwAAADECAYAAACMRRb/AAAAOXRFWHRTb2Z0d2FyZQBNYXRwbG90\n",
              "bGliIHZlcnNpb24zLjcuMSwgaHR0cHM6Ly9tYXRwbG90bGliLm9yZy/bCgiHAAAACXBIWXMAAA9h\n",
              "AAAPYQGoP6dpAAAkZElEQVR4nO3de1xUdf4/8NfMcJeLBgIiNxHB4jJAwJdF06zMW5opD9Nqd9VV\n",
              "Me1r+9W2vrZf26+1Re760Pbrozbb9ae7a7mu18iywm9pZvvVXENN0wAFREEUFRCHYS7v3x8wE8PF\n",
              "htucAV/Px+M8nHPmc+a853iY15zLfI5KRAREREQ/Qq10AURE1DswMIiIyC4MDCIisgsDg4iI7MLA\n",
              "ICIiuzAwiIjILgwMIiKyCwODiIjswsAgIiK7MDCIiMguDAyiDlCpVNi3b5/SZRApgoFB1EcYDAal\n",
              "S6A+joFBfZJOp8N//dd/ISYmBj4+PoiKisJf/vIX/Pd//zdGjhxp03b27Nl46qmnAAAigpdeegmh\n",
              "oaHw8fFBaGgoXnzxRQBAXFwcAGDy5Mnw9vbGhAkTAAD19fV44YUXMGTIEAwYMAD33XcfDh8+bH39\n",
              "TZs2ITQ0FG+99RYiIiLQr18/zJ49G7W1tXj66afh7++PQYMGYf369TZ1HT58GPfffz/8/f0RERGB\n",
              "FStWwGg0Wp9XqVRYu3YtMjMz0a9fP+zYsaP7VyRRc0LUBz355JOSlpYmp0+fFrPZLBcvXpR//etf\n",
              "8pvf/EZGjBhh0/bnP/+5PPnkkyIi8umnn8rgwYOlpKRERESqqqrkq6++srYFIHl5eTbzP/PMMxIf\n",
              "Hy8FBQWi1+tl9erV4u3tLRcuXBARkY0bN4pGo5Fly5aJTqeToqIiGTBggNx9992yc+dOMRqNsm3b\n",
              "NnFxcZHS0lIRETlz5oz069dPtmzZIgaDQYqLiyUxMVF++9vf2tQSGxsrp06dErPZLLdu3er+FUnU\n",
              "DPcwqM+5evUq3n33Xbz11lu4++67oVKpEBISgpSUlB+d183NDfX19Th16hR0Oh3uuusu/OQnP2m3\n",
              "vdlsxoYNG/Db3/4W0dHRcHNzw7JlyxAVFYXNmzdb27m4uCAnJwceHh6IiorC6NGjERYWhsceewwa\n",
              "jQZZWVnw9PTEsWPHAABvvvkmJk+ejJkzZ8LFxQURERF4/vnnsXHjRpvl/8d//AfuueceqFQqeHp6\n",
              "dnKNEdnHqQNjyZIliIyMhEqlQn5+vl3z/O1vf4NWq0V8fDwefPBBlJaW9myR5HTOnz8PAIiNje3w\n",
              "vKNHj8bvfvc7vP766wgKCsKoUaOQl5fXbvurV69Cp9Nh6NChNtOjo6Nttr2AgAC4urpax/v164dB\n",
              "gwbZzOPl5YXa2loAQEFBAXbt2oX+/ftbh6effhoVFRU28wwZMqTD75Gos5w6MLKysvDll18iIiLC\n",
              "rvZnzpzBr371K3z88cf49ttvMWfOHDz99NM9XCU5m8jISADA999/3+o5Hx8f1NXV2Uy7dOmSzfjc\n",
              "uXNx4MABXLlyBVOnTsXkyZOtH+QqlcqmbUBAADw8PFBUVGQzvaioCOHh4Z1+D8HBwXjiiSdw48YN\n",
              "61BTU4ObN2/atFOrnfpPmPoYp97aRo0ahdDQ0FbTv/76azzwwANITU1FcnIytm3bBgD49ttvkZiY\n",
              "aP3mNnHiROzduxdVVVUOrZuUNXDgQMyaNQuLFy/G2bNnAQDl5eU4duwYUlNTcfLkSXz55ZcwmUzY\n",
              "tm0bvvjiC+u8R44cwRdffAGdTgc3Nzf4+PhApVJBo9EAaPwgt7wm0PiBPXfuXLz00ks4d+4cGhoa\n",
              "sHbtWhQWFuLJJ5/s9HtYtGgRtm/fjm3btqGhoQEmkwmFhYX4+OOPO/2aRF3l1IHRlhs3bmDBggV4\n",
              "9913cfToUeTl5WHZsmW4ePEitFotjh07Zv1muXnzZogISkpKFK6aHO1Pf/oTRo8ejQkTJsDb2xsj\n",
              "RozAqVOnMHr0aLz44ouYNm0aBg4ciP3792P69OnW+W7evImlS5ciMDAQ/fv3xzvvvINdu3bBy8sL\n",
              "AJCTk4NVq1ahf//+eOSRRwAAq1evxsMPP4wxY8YgMDAQO3bsQF5eHsLCwjpdf1paGvLy8vCnP/0J\n",
              "gwcPhr+/P7Kysrgtk6JUIs5/T+/IyEjs3r0bSUlJ+OijjzBr1iybY7fXrl3Dpk2b8MADD2D79u1Y\n",
              "vXo1jEYjJk2ahP/5n//BgQMHkJiYqOA7ICLq/VyULqCjRARxcXH46quv2nw+KysLWVlZAICKigqs\n",
              "WrUK0dHRjiyRiKhP6nWHpDIzM3H+/Hmb7hny8/PR0NAAoPFYNQCYTCa88MILWLx4sfVwAhERdZ5T\n",
              "H5LKzs7Ghx9+iIqKCvj7+8PHxweFhYU4duwYnnvuOVRVVcFgMCA8PBy7d++Gh4cHJkyYgJKSEuj1\n",
              "ekyaNAm///3v4e7urvRbISLq9Zw6MIiIyHn0ukNSRESkDAYGERHZhYFBRER2ccrA+MMf/qB0CURE\n",
              "1IJTBgZ/zUpE5HycMjCIiMj5MDCIiMguDAwiIrJLr+tLioiIfvDu4RK4qtWYkBAMHw/XH5+hCxgY\n",
              "RES9lNFkxhv7CnClVo+7+rnhoXuCenR5PCRFRNRLfVl41RoWo2MH9vjyGBhERL3UzmMXAQBTtCFw\n",
              "1fT8xzkDg4ioF6qtN+DT0xUAgGkpgx2yTAYGEVEvtPfbCtQbzIgO9EbCYD+HLLNDgVFfX4+pU6ci\n",
              "JiYGWq0WY8eORWFhYZtt9+zZg+HDh2PYsGGYNm0aampquqVgIiICdh4rAwA8ljwYKpXKIcvs8B7G\n",
              "ggULcPbsWRw/fhyPPvoo5s2b16rNzZs38Ytf/AK7d+9GQUEBQkJC8Morr3RLwUREd7qy67fwf+eu\n",
              "QaUCpiY75nAU0MHA8PDwwMSJE61plpGRgeLi4lbt9u7di+TkZAwfPhwAsGjRImzZsqXr1RIREd7P\n",
              "vwQA+EmUPwb393TYcrv0O4w//OEPePTRR1tNLy0tRUREhHU8MjIS5eXlMBqNcHGxXaRer4der7eZ\n",
              "ZjKZulIWEVGfJSLY0exwlCN1+qT3a6+9hsLCQuTk5HSpgJycHPj5+dkMR44c6dJrEhH1VcfLqnHu\n",
              "Sh08XNWYkDDIocvuVGCsXr0aO3fuxN69e+Hl5dXq+fDwcJsuyouLizFo0KBWexcAsHz5clRXV9sM\n",
              "6enpnSmLiKjPs5zsHh8XDG93x3bW0eHAWLNmDbZs2YK8vDz079+/zTbjx4/HsWPHcObMGQDAW2+9\n",
              "hZkzZ7bZ1t3dHb6+vjaDRqPpaFlERH1eg9GMD443nr+YlhLq8OV3KJ7KysqwbNkyREVFYcyYMQAa\n",
              "P/APHz6Ml156CSEhIVi4cCF8fHzw5z//GVOnToXRaER8fDz+8pe/9MgbICK6U+w/W4nrtwwI9HHH\n",
              "iOgAhy+/Q4ERGhoKEWnzuZdfftlmfMqUKZgyZUrnKyMiIhuWrkCmJg+GRu2Y3140x196ExH1Ajdu\n",
              "NeCzM5UAHNcVSEsMDCKiXmDPiXI0mMy4Z5Avhgf7KlIDA4OIqBewXB2l1N4FwMAgInJ656/W4Vjp\n",
              "DahVwJSkEMXqYGAQETm5Xd80nuweFTMQgT4eitXBwCAicmJms9j0TKskBgYRkRM7WnIdZdd18HZ3\n",
              "wcP3BCtaCwODiMiJ7fqmce9iYkIwPN2U7QWDgUFE5KTqDSbsOVEOQJmuQFpiYBAROal9311Gbb0R\n",
              "g/t7Ij3yLqXLYWAQETkrS1cgjyUPhlqBrkBaYmAQETmhqzf1OPD9FQDAYwr+WK85BgYRkRPKzb8E\n",
              "k1mgDeuPoQO9lS4HAAODiMgp7Wy6Omq6k+xdAAwMIiKn8/3lWnx7sQauGhUeSVSuK5CWGBhERE7G\n",
              "crJ7TGwg7urnpnA1P2BgEBE5EZNZsLup7ygle6ZtCwODiMiJ/LOoChU19fDzdMWY4YFKl2ODgUFE\n",
              "5EQsJ7snawfB3UXZrkBaYmAQETmJOr0RH39bAcA5ugJpqUOBsWTJEkRGRkKlUiE/P7/NNvv374en\n",
              "pyeSkpKsg06n645aiYj6tE9OVeBWgwlDAvohOay/0uW04tKRxllZWXj++ecxcuTI27aLjY1tN1CI\n",
              "iKhtzbsCUamU7wqkpQ4FxqhRo3qqDiKiO1pFdT0OFV0FoPyNktrTocCwV1FREVJSUqDRaDBnzhws\n",
              "WrSo3bZ6vR56vd5mmslk6omyiIic1u78ixAB0iPvQthdXkqX06ZuD4yUlBSUlZXBz88PZWVlmDhx\n",
              "IgICAjBjxow22+fk5GDlypU20zIyMrq7LCIipyXyw21Yne23F811+1VSvr6+8PPzAwCEhoZi1qxZ\n",
              "OHjwYLvtly9fjurqapshPT29u8siInJapy7V4PvLN+HmosbExEFKl9Oubg+M8vJymM1mAEBtbS32\n",
              "7NmD5OTkdtu7u7vD19fXZtBonOvaYyKinmQ52f3wPUHw9XBVuJr2dSgwsrOzERoairKyMowbNw7R\n",
              "0dEAgHnz5iE3NxcAsGPHDiQkJECr1SIjIwNjx47FnDlzur9yIqI+wGAyI/e4c3YF0pJKRETpIlpa\n",
              "unQp1qxZo3QZREQ97rMzlzF301EEeLvhn8sfhKvGeX9P7byVERHdASyHo6ZoBzt1WAAMDCIixVTr\n",
              "DPj09GUAzn84CmBgEBEpZu/JcjQYzYgJ8kZciK/S5fwoBgYRkUJ2Wu97EeqUXYG0xMAgIlLAhWu3\n",
              "cOT8NahUwNQk5z8cBTAwiIgUsatp72LE0AAE+3koXI19GBhERA7WW7oCaYmBQUTkYN9cuIHiqlvw\n",
              "ctNgXFyw0uXYjYFBRORglr2L8fHB6OfeI52G9wgGBhGRA+mNJnxwvBwAMC3Z+W7DejsMDCIiB/r8\n",
              "zBVU6wwI9vXAT4b6K11OhzAwiIgcyHI4amryYGjUzv/bi+YYGEREDnKtrgGfn60E0LuujrJgYBAR\n",
              "OcieE5dgMAniB/siJshH6XI6jIFBROQglp5pe9vJbgsGBhGRAxRduYn8CzegUaswJSlE6XI6hYFB\n",
              "ROQAu5r2LkbHDESAt7vC1XQOA4OIqIeZzWLtO6o3nuy2YGAQEfWwI8XXcPGGDj4eLnjo7iCly+k0\n",
              "BgYRUQ+z/PZiUsIgeLhqFK6m8xgYREQ9SNdgwkcnKwA03iipN+tQYCxZsgSRkZFQqVTIz89vt92G\n",
              "DRswbNgwDB06FPPnz4fBYOhqnUREvVLed5dxU29E2F2eSI0YoHQ5XdKhwMjKysKXX36JiIiIdtuc\n",
              "P38eK1aswMGDB1FYWIjLly/jnXfe6XKhRES9keVw1GPJoVD3sq5AWupQYIwaNQqhobffpdq+fTum\n",
              "TJmC4OBgqFQqLFy4EFu2bOlSkUREvVFlbT2++P4KAOCx5N57dZRFt3fEXlpaarMHEhkZidLS0nbb\n",
              "6/V66PV6m2kmk6m7yyIicrjc/EswC5AS3h9DAvopXU6XKX7SOycnB35+fjbDkSNHlC6LiKjLrF2B\n",
              "9PKT3RbdHhjh4eEoKSmxjhcXFyM8PLzd9suXL0d1dbXNkJ6e3t1lERE51HflNThdXgM3jRqPJA5S\n",
              "upxu0e2BMX36dOTm5qKiogIigrfffhszZ85st727uzt8fX1tBo2m916nTEQEwPrL7geGB6K/l5vC\n",
              "1XSPDgVGdnY2QkNDUVZWhnHjxiE6OhoAMG/ePOTm5gIAoqKisHLlSowYMQLR0dEYOHAgsrOzu79y\n",
              "IiInZTILdveBrkBaUomIKF1ES0uXLsWaNWuULoOIqFO++P4Kfvb/jmCAlysOv/gQ3FwUP13cLfrG\n",
              "uyAiciKW315M1ob0mbAAGBhERN3qpt6Ij0/1ja5AWmJgEBF1o4+/rUC9wYyogf2gDfVTupxuxcAg\n",
              "IupGlsNR01NCoVL17q5AWmJgEBF1k0s3dPjnuSoAwKO99Dast8PAICLqJrvzL0IEyIi6C6EDvJQu\n",
              "p9sxMIiIuoGI9LmuQFpiYBARdYOTF6tRWHkT7i5qTIgPVrqcHsHAICLqBpa9i3FxwfDxcFW4mp7B\n",
              "wCAi6iKDyYzc45cA9K2uQFpiYBARddGBs1dwra4BA33cMTI6QOlyegwDg4ioi3Z+0/jbi0e1IXDR\n",
              "9N2P1b77zoiIHKD6lgH7vqsE0HevjrJgYBARdcGHJ8vRYDRjeLAP7gnxVbqcHsXAICLqAktXIH35\n",
              "ZLcFA4OIqJNKqupwtOQ61Crg0SQGBhERtcNyG9aRwwYiyNdD4Wp6HgODiKgTmncFMv0OOBwFMDCI\n",
              "iDrlXyXXUXrtFvq5afDwPX2zK5CWGBhERJ2wo2nvYkLCIHi6aRSuxjE6HBgFBQXIzMxETEwM0tLS\n",
              "cOrUqVZt9u/fD09PTyQlJVkHnU7XLQUTESmt3mDChyf6flcgLbl0dIbs7GwsWLAAs2fPxvbt2zF7\n",
              "9mx8/fXXrdrFxsYiPz+/O2okInIqn52pRE29ESF+HsgY4q90OQ7ToT2MyspKHD16FE899RQAYPr0\n",
              "6bhw4QIKCwt7pDgiImdk+e3F1OTBUKv71m1Yb6dDgXHhwgUMGjQILi6NOyYqlQrh4eEoLS1t1bao\n",
              "qAgpKSlIS0vDW2+91e5r6vV61NTU2Awmk6mDb4OIyDGqbuqx/+wVAHfW4SigE4ek7JGSkoKysjL4\n",
              "+fmhrKwMEydOREBAAGbMmNGqbU5ODlauXGkzLSMjoyfKIiLqsg+OX4LRLNCG+iE60EfpchyqQ3sY\n",
              "YWFhKC8vh9FoBNB4HXJpaSnCw8Nt2vn6+sLPzw8AEBoailmzZuHgwYNtvuby5ctRXV1tM6Snp3fm\n",
              "vRAR9bidTT/Weyz5ztq7ADoYGIGBgUhJScHmzZsBADt27EBoaCiio6Nt2pWXl8NsNgMAamtrsWfP\n",
              "HiQnJ7f5mu7u7vD19bUZNJo74xI1IupdCitrcaKsGi5qFSZrQ5Qux+E6fFnt+vXrsX79esTExOD1\n",
              "11/Hxo0bAQDz5s1Dbm4ugMYgSUhIgFarRUZGBsaOHYs5c+Z0b+VERA5m+WX3/bGB8Pd2V7gax1OJ\n",
              "iChdREtLly7FmjVrlC6DiMjKbBaMWPUZyqvr8ccnUzAhYZDSJTkcf+lNRGSH/ztXhfLqevh6uOCB\n",
              "uwOVLkcRDAwiIjtYTnY/og2Bu8udeZ6VgUFE9CNuNRix92Q5gDunZ9q2MDCIiH7Ep6cuo67BhAh/\n",
              "L6SED1C6HMUwMIiIfsSOpq5AHkseDJXqzukKpCUGBhHRbVyuqcehwqsAgGnJoQpXoywGBhHRbbyf\n",
              "fxFmAdIiByDc30vpchTFwCAiug3Lj/Ueu8P3LgAGBhFRu05fqsGZilq4uagx6Q78oV5LDAwionZY\n",
              "7nsx9u4g+Hm5KlyN8hgYRERtMJrM2J1/592G9XYYGEREbThYeBVXb+rh388No2IGKl2OU2BgEBG1\n",
              "YVfTye7J2hC4avhRCTAwiIhaqa034JNTFQCA6Sm8OsqCgUFE1MLekxXQG82IDvRG/GBfpctxGgwM\n",
              "IqIWLF2BTEu5s7sCaYmBQUTUTNn1Wzh8/hpUKmBqEq+Oao6BQUTUzO6m+15kDvVHSH9PhatxLgwM\n",
              "IqImIsKuQG6DgUFE1OR4WTXOXa2Dp6sG4+ODlS7H6XQ4MAoKCpCZmYmYmBikpaXh1KlTbbbbsGED\n",
              "hg0bhqFDh2L+/PkwGAxdLpaIqCdZugIZHx8Mb3cXhatxPh1eI9nZ2ViwYAFmz56N7du3Y/bs2fj6\n",
              "669t2pw/fx4rVqzAsWPHEBQUhEcffRTvvPMOFi9e3G2FK0lEoDeaoWswQWdoGhpMqG/2WGdoGm8w\n",
              "QWcwtxhver75Y4MZAKBWARq1CiqVCmoVoG7613ZcBVWz5xrHmz2vtrRXQXPb5+18vabla9TNa2l8\n",
              "7KpRw91VDXcXDdxd1I2Da7PHLpqm520fu2nUffbqExFBg8mM+gazzfZh2Qbq29xm2tlGmsb1RrPS\n",
              "b6vDBKJ0CR1WWHkTQOONkqi1DgVGZWUljh49ik8//RQAMH36dDzzzDMoLCxEdHS0td327dsxZcoU\n",
              "BAc37tItXLgQr732mkMCw2gyN/tANtv5gd7WuBn1DSbcMhib5jX/8DpGE6T3/S04HbsCxq7nWweW\n",
              "R8v5mj0GgHqDudX20DLEO/KB3vKxmdtHrxV+lxdGRAcoXYZT6lBgXLhwAYMGDYKLS+NsKpUK4eHh\n",
              "KC0ttQmM0tJSREREWMcjIyNRWlra5mvq9Xro9XqbaSaTqSNl2Xjyz4dx+Py1Ts/fUW4aNTxc1fB0\n",
              "08DTVQMPV431saerBh7NHnu6NT3vqoFn0zyWcXdXDVQAzCIQafzXLIDJLJCmx43TbJ9vHG/+fOM3\n",
              "XLO5+fN2tG8+rc15m7924zSTCIwmgd7Y+A1YbzD/8NjY9Njww2PLXpSFpR3qjQ77/3I0jVoFrxbb\n",
              "QeNjdRvbRIvxZtuUu4sa6IU7ZL2wZMSF+EGj7o2V9zzFD9Ll5ORg5cqVNtMyMjI6/XqebhoAgEqF\n",
              "H/5A2/wQ79gfrOWxl9sP4x4uariwjxm7iQgMTQFT3zxcWgaNof3QuX371s83X05Di8M6tv/HLUK/\n",
              "nf//1l8C1K3aN2/DPoioL+lQYISFhaG8vBxGoxEuLi4QEZSWliI8PNymXXh4OIqKiqzjxcXFrdpY\n",
              "LF++HEuXLrWZtmLFio6UZePNJ1KgUavg7tJ3j5H3ViqVCm4uKri5qOHj4fjlm82N5xYAcPsg6oQO\n",
              "ff0JDAxESkoKNm/eDADYsWMHQkNDbQ5HAY3nNnJzc1FRUQERwdtvv42ZM2e2+Zru7u7w9fW1GTQa\n",
              "TSffDtDP3QUerhp+GFArarUKHk17DNw+iDquw/vL69evx/r16xETE4PXX38dGzduBADMmzcPubm5\n",
              "AICoqCisXLkSI0aMQHR0NAYOHIjs7OzurZyIiBxKJeJ81/ssXboUa9asUboMIiJqhmfkiIjILk65\n",
              "hzFt2jRERkZ2al6TyYQjR44gPT29S+dCHK031s2aHaM31gz0zrrv1JojIiLw7LPP/mg7pwyMrqip\n",
              "qYGfnx+qq6vh69t7bnzSG+tmzY7RG2sGemfdrPn2eEiKiIjswsAgIiK7MDCIiMgufS4w3N3d8Zvf\n",
              "/Abu7u5Kl9IhvbFu1uwYvbFmoHfWzZpvr8+d9CYiop7R5/YwiIioZzAwiIjILgwMIiKyCwMDwBtv\n",
              "vIGKigqly+g1iouL8fbbb9+2TWpqKvbv3++Ygjrh0qVLuO+++xStob6+HlOnTkVMTAy0Wi3Gjh2L\n",
              "wsJCAMD999+PIUOGICkpCUlJSVi7dq11vuzsbCQkJOCBBx5AdXU1gMZ7jUyYMMHmtgI9JTIyErGx\n",
              "sdbatm7dCgAoKChAZmYmYmJikJaWhlOnTgEADAYDpk6dCq1Wi2nTpsFoNFrf/6hRo3D9+vUerbeq\n",
              "qspaa1JSEmJiYuDi4oJr16459Xp2SkISEREh33zzjdJl9Bqff/65aLXa27a599575fPPP3dIPb2V\n",
              "TqeTDz/8UMxms4iIrFu3TkaPHi0iIqNHj5Zdu3a1mufkyZMyZswYERFZuXKlrFu3TkRE3nnnHVm1\n",
              "apVD6m7v72XMmDGyceNGERHZtm2bpKamiojIBx98IHPmzBERkTlz5sgHH3wgIiIvvviibN261SE1\n",
              "N/f73/9eHnnkERFx7vXsjJx6D+Of//wnRo4cCa1Wi8TERLz//vs4evQoMjMzkZiYiPT0dBw6dAhA\n",
              "47fe/v37W+e9efOmzT0PVCoVXnvtNaSnp2PIkCHWbtlffvllXLp0CY8//jiSkpKQn5/fpZpVKhVe\n",
              "ffVV/Nu//RsiIyOxe/du5OTkIDU1FcOGDbP51v3JJ59g5MiRuPfee5Geno7PP/8cAFBRUYExY8bg\n",
              "3nvvRVxcHJ555hmYzY03/tm0aRMeeughzJo1CwkJCUhNTcW5c+e6VPPt6HQ6PP7447jnnnug1Wrx\n",
              "8MMPY+HChTh79iySkpIwZcoUAMBXX32FpKQkxMfHY86cOdZvkY5m7/pvub20t330JA8PD0ycONG6\n",
              "nWZkZKC4uPi287i6ukKv18NsNqOurg5ubm4oLy/Hli1bWt2IzJEqKytx9OhRPPXUUwAa74lz4cIF\n",
              "FBYWwtXVFbdu3QIA3Lp1C25ubjhx4gTOnDmDGTNmOLzWDRs24Be/+MVt2zjDerZ3WzYajRg3bhxS\n",
              "U1MRFxeHJ554AnV1dQCAd999F6mpqdDr9RARTJ48Ga+++mrni1I6sdpTVVUlgYGB8sUXX4iIiMlk\n",
              "ksuXL0tYWJh8/PHHIiJy8OBBCQoKktraWjl//rz4+flZ56+trZXmbw+ArF69WkREvvvuO/H29haD\n",
              "wSAi3buHAUDeeOMNERHZt2+f9OvXz/qt6x//+If1W1dRUZFkZGRIdXW1iIgUFBRIcHCw1NfXi06n\n",
              "k9raWhERMRqNMmnSJNmyZYuIiGzcuFF8fX3l3LlzIiLywgsvyIIFC7ql9rbs3LlTHn74Yet4VVVV\n",
              "qz0MvV4voaGhkpeXJyIin3zyiQBQZA/D3vXfcnu53fbhKE899ZQsWbJERBq/+cbGxkp8fLzMmDFD\n",
              "ioqKrO1+/etfi1arlaysLKmrq5PHH39cjh496rA6IyIiJCEhQeLj42Xu3LlSWVkpR48elZiYGJt2\n",
              "aWlp8r//+79iMplk3rx5kpiYKAsWLBCDwSAPPvigXLhwwWE1Wxw6dEiCgoKs/7fOvJ7t3ZbNZrNc\n",
              "vXrV+njhwoWSk5NjfZ0FCxbI4sWL5Xe/+52MHz/eukfbqZo6PWcP27Nnj9x33302006cOCERERE2\n",
              "0xITE+XgwYN2BUZ5ebl1vH///tYNtrsDw7KcGzduCADR6XQiIlJcXGyt8c0335SAgADRarXWISQk\n",
              "RL7//nupq6uTRYsWSWJioiQkJEhQUJC88MILItIYGOPGjbMub/fu3fLggw92S+1tKSoqkrCwMHn6\n",
              "6afl73//u9TU1LQKjOPHj0tkZKTNfFFRUYoFhj3rv63AaG/7cIRXX31VMjIypK6uTkRESktLRaTx\n",
              "A2DdunVy9913tznf7t275bnnnpOrV6/K7NmzZdq0afL3v/+9R2stKSkREZGGhgZ5/vnnZcKECbcN\n",
              "jJbWrl0r69atk/Pnz8usWbNk2rRpbbbrCXPnzpVf/epX1nFnXs/2bssmk0l+/etfS1JSksTHx0tY\n",
              "WJg8/vjj1tfR6XSSmJgoYWFhcuXKlS7V5NSHpOxh2Z13cXGByWSyTq+vr2/V1sPjhxtJazSaHjts\n",
              "YlmOpavh5uOWZYoIxo4di/z8fOtw8eJFDBs2DGvWrEFlZSUOHz6MEydO4IknnrB5P456H0Dj3RNP\n",
              "nz6N8ePH49ChQ4iPj7frJKWSt0C1Z/3fbj572nan1atXY+fOndi7dy+8vLwAAGFhYQAa1+MzzzyD\n",
              "c+fOoaqqyma+mpoarF69GitXrsQbb7yB0aNHY+vWrXj55Zeh0+l6rN7w8HAAjYdtfvnLX+LgwYMI\n",
              "CwtDeXm5zfZdWlpqbWtRUlKCjz76CIsWLcKKFSuwYMECbNq0Cf/+7//eY/Va3Lx5E//4xz8wd+5c\n",
              "6zRnXs+Afdvye++9h88++wwHDhzAyZMn8dxzz9l8XlRWVuL69eswm824ceNGl+px2sDIzMxEQUEB\n",
              "Dh48CAAwm80ICgqC2WxGXl4egMbj5hUVFUhKSkJwcDBEBKdPnwYA/PWvf7V7Wb6+vtarIBxl3Lhx\n",
              "2LdvH06cOGGdduTIEQDA9evXERwcDA8PD1RUVGDbtm0Ora25srIyqFQqTJkyBatXr4aIwN/f32Z9\n",
              "DR8+HEaj0XoOZt++fXfuVSQdtGbNGmzZsgV5eXnWcypGoxGXL1+2ttmxYweCgoLg7+9vM+9//ud/\n",
              "4qWXXoKXlxfq6uqgUqmgUqlgMBjQ0NDQI/XW1dXZfOhs2bIFycnJCAwMREpKCjZv3mytOTQ0FNHR\n",
              "0TbzP/vss1i7di3UarW1ZsvjnrZ161ZotVoMHz4cgHOv5464fv06AgIC4Ovri9raWmzatMn6nNFo\n",
              "xMyZM/HKK69gzZo1mDFjBvR6faeX5dIN9faIAQMGYNeuXVi2bBlqa2uhVqvxyiuvYOfOnViyZAmW\n",
              "LVsGDw8PbN++Hd7e3gCAdevW4ZFHHoG/vz+ysrLsXtaSJUswf/58eHl5YdOmTUhKSuqhd/WD6Oho\n",
              "vPfee8jOzsatW7fQ0NCA5ORkvPfee3j22WeRlZWFuLg4hISE4KGHHurxetpz8uRJLF++HCICo9GI\n",
              "n/70p8jMzERcXBzi4+MRFRWF3NxcbN26FYsWLYLJZEJaWhq0Wq1iNfcWZWVlWLZsGaKiojBmzBgA\n",
              "jf0CffbZZ5g0aRL0ej3UajUCAgKQm5trM++hQ4eg0+kwduxYAMDixYsxa9YsrFq1Cj/96U/h5+fX\n",
              "IzVfvnwZ06dPh8lkgoggKirK+uVs/fr1mD17Nl577TX4+vq2unDgvffeg1arRVxcHIDGD+L58+ej\n",
              "oaEBK1as6JF6m9uwYQPmz59vHdfr9U67njviZz/7Gd5//33ExsZi4MCBuO+++1BSUgKgcR3Hxsbi\n",
              "5z//OQDgwIED+OUvf4k//vGPnVoW+5IiIiK7OO0hKSIici4MDCIisgsDg4iI7MLAICIiuzAwiIjI\n",
              "LgwMIiKyCwODiIjswsAgIiK7MDCIiMguDAwiIrILA4OIiOzy/wFZaxfIsGIVRQAAAABJRU5ErkJg\n",
              "gg==\n",
              "\">\n",
              "        \n",
              "      </div>\n",
              "      <script></script>\n",
              "      <script type=\"text/javascript\">\n",
              "        (() => {\n",
              "          const chartElement = document.getElementById(\"chart-7af3efb0-8462-49b4-a265-e7183925f89c\");\n",
              "          async function getCodeForChartHandler(event) {\n",
              "            const chartCodeResponse =  await google.colab.kernel.invokeFunction(\n",
              "                'getCodeForChart', [\"chart-7af3efb0-8462-49b4-a265-e7183925f89c\"], {});\n",
              "            const responseJson = chartCodeResponse.data['application/json'];\n",
              "            await google.colab.notebook.addCell(responseJson.code, 'code');\n",
              "          }\n",
              "          chartElement.onclick = getCodeForChartHandler;\n",
              "        })();\n",
              "      </script>\n",
              "      <style>\n",
              "        .colab-quickchart-chart-with-code  {\n",
              "            display: block;\n",
              "            float: left;\n",
              "            border: 1px solid transparent;\n",
              "        }\n",
              "\n",
              "        .colab-quickchart-chart-with-code:hover {\n",
              "            cursor: pointer;\n",
              "            border: 1px solid #aaa;\n",
              "        }\n",
              "      </style>"
            ]
          },
          "metadata": {}
        },
        {
          "output_type": "display_data",
          "data": {
            "text/plain": [
              "import numpy as np\n",
              "from google.colab import autoviz\n",
              "\n",
              "def value_plot(df, y, figscale=1):\n",
              "  from matplotlib import pyplot as plt\n",
              "  df[y].plot(kind='line', figsize=(8 * figscale, 4 * figscale), title=y)\n",
              "  plt.gca().spines[['top', 'right']].set_visible(False)\n",
              "  plt.tight_layout()\n",
              "  return autoviz.MplChart.from_current_mpl_state()\n",
              "\n",
              "chart = value_plot(_df_2, *['country'], **{})\n",
              "chart"
            ],
            "text/html": [
              "      <div class=\"colab-quickchart-chart-with-code\" id=\"chart-543b5b31-bedb-4134-a978-719e4863fbd6\">\n",
              "        <img src=\"data:image/png;base64,iVBORw0KGgoAAAANSUhEUgAAAYwAAADECAYAAACMRRb/AAAAOXRFWHRTb2Z0d2FyZQBNYXRwbG90\n",
              "bGliIHZlcnNpb24zLjcuMSwgaHR0cHM6Ly9tYXRwbG90bGliLm9yZy/bCgiHAAAACXBIWXMAAA9h\n",
              "AAAPYQGoP6dpAAAebElEQVR4nO3de1TUdf4/8Ocw3EQYNBG8cBMRNG4jAhnlGustL/ntqHlpSzEK\n",
              "y8zM2nXd1u1YP/W0a5pff7ub7rfFOiqRWlaameaNtG/8TA0Xb4gopAiKcglxYGZevz+QqUmgAWbm\n",
              "MwPPxzlzjvO5zevzYeTJ5/V5z2dUIiIgIiL6FS5KF0BERM6BgUFERBZhYBARkUUYGEREZBEGBhER\n",
              "WYSBQUREFmFgEBGRRRgYRERkEQYGERFZhIFBREQWYWAQOaiLFy9CpVLh/PnzSpdCBICBQeT06urq\n",
              "lC6BOgkGBlELamtr8ec//xkRERHw8fFBWFgY3nvvPQDAhg0bEB0dDY1Gg+joaNN0ADhw4ABUKhX0\n",
              "er1p2oYNGxAYGGh6npqaiunTp2PevHno0aMHAgICsGTJEtP8qKgoAEBcXBy8vb3x7LPPAgAeeugh\n",
              "zJs3D9OnT0f37t0xf/58DBs2DEuXLjWrfevWrQgICGCgkPUIETXrd7/7nSQmJsqpU6fEaDTK5cuX\n",
              "5bvvvpOtW7eKj4+P7N27V/R6vezZs0e6du0qH3/8sYiI7N+/XwBIfX29aVsZGRnSt29f0/NZs2aJ\n",
              "u7u7ZGZmil6vlyNHjoirq6vs27dPREQKCwsFgOTn55vVNHz4cPHy8pKdO3eKwWCQmpoa2bRpkwQF\n",
              "BYnBYDAtN3LkSFm0aJENjw51NjzDIGrG9evXsWnTJvzjH//AoEGDoFKp0KdPH8THx2P9+vVIS0vD\n",
              "iBEjoFarMXLkSKSlpeGdd95p1Ws88MADmD59OtRqNe6//35otVrk5OT86noTJ07EuHHj4OLiAi8v\n",
              "L0yZMgW3b9/Grl27AAAFBQXYv38/0tPT27TvRE1hYBA1o7CwEAAQGRl517zi4mL079/fbFp4eDiK\n",
              "iopa9Rp9+vQxe961a1dUV1f/6nr9+vUze+7u7o60tDSsW7cOALB+/XqMGDECYWFhraqHqCUMDKJm\n",
              "hIaGAgDOnTt317ygoCAUFBSYTSsoKEBwcDAAwMfHBwBQU1Njmn/lypVWvb6LS/P/PZuaN2fOHOze\n",
              "vRsXLlxARkaG6ZoHkbUwMIia0bNnT8yYMQPPP/88zp49CwAoKSnBsWPH8PTTT+Pf//43Dhw4AIPB\n",
              "gH379uHdd981tYAaL5KvW7cORqMRJ06cwPr161v9+i4uLqbX/jWhoaEYNWoUHnvsMbi5ueGRRx5p\n",
              "3Q4T/QoGBlEL/vWvf2H48OEYO3YsvL298cADDyAvLw+PPfYY3nrrLcydOxfdunXDCy+8gDVr1mDS\n",
              "pEkAGs4w3nvvPaxfvx4ajQaLFy9u9fWELl26YPny5Xj66afRrVs3zJ0791fXee6553Ds2DGkpaXB\n",
              "1dW1TftM1ByVCL/Tm6ijOH36NKKjo1FYWGhqjxFZCwODqIOoq6tDWloa6urqkJWVpXQ51AGxJUXU\n",
              "AezcuRPdu3dHXl4e3nrrLaXLoQ6KZxhERGQRnmEQEZFFGBhERGQRBgYREVmEgUFERBbptIGxZs0a\n",
              "pUsgInIqnTYwLl26pHQJREROpdMGBhERtQ4Dg4iILMLAICIiizAwWuFcaTVWfXkW50p//QtuiIg6\n",
              "GgZGK6zecw7/ve88th+/rHQpRER2x8BohfGxvQEAO0+WgLfgIqLOhoHRCr8d6A9PNxdcKr+FvCtV\n",
              "SpdDRGRXDIxW8HJ3xYiBAQCAHbklCldDRGRfDIxW+qktdYVtKSLqVBgYrZQS6Y8ubmoU36jFycuV\n",
              "SpdDRGQ3DIxW6uKuxohB/gCAnWxLEVEnwsBogwl32lI7cjlaiog6DwZGGzwU6Q8vdzUuV9Ti+x/Y\n",
              "liKizoGB0QaebmqMHNQwWmpn7hWFqyEisg8GRhuZRkuxLUVEnQQDo42GR/REV3c1rlTexvHiCqXL\n",
              "ISKyOQZGG3m6qTHq3sa2FEdLEVHHx8Boh/GxfQAAn58sgdHIthQRdWwMjHYYNsAPPh6uKKm8jePF\n",
              "N5Uuh4jIphgY7fDzthTvLUVEHR0Do50aR0uxLUVEHR0Do50eHOAHH09XlFbp8F0R21JE1HG1KjDm\n",
              "z5+P0NBQqFQqnDhxwjQ9NDQUkZGR0Gq10Gq1yMrKMs3Lz89HcnIyIiIikJiYiLy8PJvOszcPVzVG\n",
              "39sLAEdLEVEHJ61w8OBBKS4ulpCQEDl+/Lhp+i+f/1xKSopkZGSIiMiWLVskISHBpvMs9dJLL7V6\n",
              "nebsO10qIYt2SOL/2SN6g9Fq2yUiciStCoxGlgZGaWmp+Pj4SH19vYiIGI1GCQgIkPz8fJvMaw1r\n",
              "Boau3iAxr30hIYt2yP8WXLfadomIHInVrmHMnDkTMTExSEtLw7Vr1wAAxcXF6N27N1xdXQEAKpUK\n",
              "wcHBKCoqssm85uh0OlRVVZk9DAaDtXYd7q4uGB11py11km0pIuqYrBIYhw4dQm5uLo4dOwY/Pz/M\n",
              "mjXLGpu1mhUrVsDX19fskZOTY9XX+Gm01FUYOFqKiDogqwRGcHAwAMDNzQ0LFixAdnY2ACAoKAgl\n",
              "JSXQ6/UAABFBUVERgoODbTKvOYsXL0ZlZaXZIykpyRq7bvJAfz/4dnHD9R91yCm8YdVtExE5gnYH\n",
              "Rk1NDSoqKkzPMzMzMXjwYACAv78/4uPjsXHjRgDAtm3bEBgYiPDwcJvMa46Hhwc0Go3ZQ61Wt3fX\n",
              "zbi7umBMVMOH+D5nW4qIOqLWXPBIT0+Xvn37ilqtFn9/f+nfv78UFBSIVquVmJgYiY6OlokTJ0ph\n",
              "YaFpnTNnzsjQoUNlwIABMmTIEMnNzbXpPEtZ86J3owNnyyRk0Q4Z8saXHC1FRB2OSqRzfpnDwoUL\n",
              "sWrVKqtus95gROKyvai4VY/Nz9yH5P5+Vt0+EZGS+ElvK3JTu+DhKH6Ij4g6JgaGlTWOlvriP1eh\n",
              "NxgVroaIyHoYGFZ2f1gPdPdyQ3lNHb7laCki6kAYGFbmqnbBw9ENZxm85TkRdSQMDBuYYGpLlbAt\n",
              "RUQdBgPDBu7rdw96dHXHzVv1+OZCudLlEBFZBQPDBhraUhwtRUQdCwPDRkyjpfKuop5tKSLqABgY\n",
              "NnJfvx7w83ZHxa16HClgW4qInB8Dw0bULiqMvTNaamfuFYWrISJqPwaGDTW2pXbnlaJOz7YUETk3\n",
              "BoYNJYbeg54+HqisrcfhgutKl0NE1C4MDBtSu6gwjqOliKiDYGDY2PjYPgCA3XlX2ZYiIqfGwLCx\n",
              "hJDu8PfxQPVtPb4+f03pcoiI2oyBYWMuLiqMi+G9pYjI+TEw7KDx3lJ78kqh0xsUroaIqG0YGHYQ\n",
              "H9wdvTSeqNbpkX2Oo6WIyDkxMOzg522pnSfZliIi58TAsJPGD/HtOVWK2/VsSxGR82Fg2MngoG7o\n",
              "4+uJH3V6HDrH0VJE5HwYGHbCthQROTsGhh01tqX2si1FRE6IgWFH2qBu6NutC2rqDDhwlm0pInIu\n",
              "DAw7UqlUprMMtqWIyNkwMOxs/J3rGF+dLkVtHdtSROQ8WhUY8+fPR2hoKFQqFU6cOGGanp+fj+Tk\n",
              "ZERERCAxMRF5eXmKzXN0sYG+COzeBbfqDDhwtkzpcoiILCetcPDgQSkuLpaQkBA5fvy4aXpKSopk\n",
              "ZGSIiMiWLVskISFBsXmWeumll1q9jrUs//yUhCzaIXM3fadYDURErdWqwGj088AoLS0VHx8fqa+v\n",
              "FxERo9EoAQEBkp+fb/d5raFkYOQWV0jIoh0y8M+7pEZXr1gdRESt4dreM5Ti4mL07t0brq4Nm1Kp\n",
              "VAgODkZRURF8fX3tOi88PLzJGnU6HXQ6ndk0g0G56wfRfTUIvscLRTduYf+Za6YL4UREjqxTXPRe\n",
              "sWIFfH19zR45OTmK1WM+WuqKYnUQEbVGuwMjKCgIJSUl0Ov1AAARQVFREYKDg+0+rzmLFy9GZWWl\n",
              "2SMpKam9u94ujaOl9p0pQ41Or2gtRESWaHdg+Pv7Iz4+Hhs3bgQAbNu2DYGBgQgPD7f7vOZ4eHhA\n",
              "o9GYPdRqdXt3vV2i+mgQ2sMLt+uN2HeGo6WIyAm05oJHenq69O3bV9Rqtfj7+0v//v1FROTMmTMy\n",
              "dOhQGTBggAwZMkRyc3NN69h7nqWUvOjd6K9fnJaQRTtkzvtHlS6FiOhXqURElA4tJSxcuBCrVq1S\n",
              "tIZTV6ow7r+z4eHqgu+WjIK3R7vHIBAR2UynuOjtqAb19kGYX1fo9EZ8dbpU6XKIiFrEwFCQ2Wip\n",
              "XN5biogcGwNDYY2BceDcNVTfrle4GiKi5jEwFBYZ4IP+PbuiTm/EV6c5WoqIHBcDQ2ENbak+AIAd\n",
              "bEsRkQNjYDiACXfaUofOXUMV21JE5KAYGA4gIsAHA/y9UWcwYu8pjpYiIsfEwHAQHC1FRI6OgeEg\n",
              "Gu8tdSj/Gipr2ZYiIsfDwHAQAwJ8EBngg3qDYA/bUkTkgBgYDuSnthRveU5EjoeB4UDG3WlLZedf\n",
              "R+UttqWIyLEwMBxIuL83Bvbygd4o2H3qqtLlEBGZYWA4mAkcLUVEDoqB4WAa21KHz19Hxa06hash\n",
              "IvoJA8PBhPX0xqDeGuiNgi/zOFqKiBwHA8MBNbaldpxkW4qIHAcDwwH9vC11s4ZtKSJyDAwMB9TP\n",
              "ryui+mhgMAp253G0FBE5BgaGgzJ9iI9tKSJyEAwMB9V4b6kjBeUo/1GncDVERAwMhxXSoyti+vre\n",
              "aUtxtBQRKY+B4cB+akvx3lJEpDwGhgNrbEt9U1CO62xLEZHCGBgOLOgeL8QF+sIowBf/4WgpIlIW\n",
              "A8PB8Zv4iMhRWDUwQkNDERkZCa1WC61Wi6ysLABAfn4+kpOTERERgcTEROTl5ZnWscW8jqTxQ3zf\n",
              "FpajrPq2wtUQUacmVhQSEiLHjx+/a3pKSopkZGSIiMiWLVskISHBpvMs8dJLL7VqeSX91//9WkIW\n",
              "7ZD3jxQqXQoRdWI2D4zS0lLx8fGR+vp6ERExGo0SEBAg+fn5NplnKWcKjH8dKpCQRTtk6jtHlC6F\n",
              "iDoxq1/DmDlzJmJiYpCWloZr166huLgYvXv3hqurKwBApVIhODgYRUVFNpnXFJ1Oh6qqKrOHwWCw\n",
              "9q7bzNg7bamcizdQVsW2FBEpw6qBcejQIeTm5uLYsWPw8/PDrFmzrLn5NluxYgV8fX3NHjk5OUqX\n",
              "ZbG+3bogPrgbRIBdHC1FRAqxamAEBwcDANzc3LBgwQJkZ2cjKCgIJSUl0Ov1AAARQVFREYKDg20y\n",
              "rymLFy9GZWWl2SMpKcmau25z42P7AOBoKSJSjtUCo6amBhUVFabnmZmZGDx4MPz9/REfH4+NGzcC\n",
              "ALZt24bAwECEh4fbZF5TPDw8oNFozB5qtdpau24X42J6AQD+36UbuFrJthQR2Z9KRMQaG7pw4QIm\n",
              "T54Mg8EAEUFYWBjWrFmD0NBQnD17FqmpqSgvL4dGo0FGRgZiYmIAwCbzLLFw4UKsWrXKGrtuN1P+\n",
              "eQRHL93Ea4/ci9kP9FO6HCLqZKwWGM7GGQMj43Ahln52Cgkh3bH1uWSlyyGiToaf9HYiY6N7Q6UC\n",
              "jl66iZLKWqXLIaJOhoHhRHr5eiIx5B4AwOcnOVqKiOyLgeFkfrq3FG95TkT2xcBwMmOje0GlAo4V\n",
              "VeByBdtSRGQ/DAwn46/xRFJoQ1tqF7/vm4jsiIHhhCbcaUvt4If4iMiOGBhOaEx0L7iogBPFFSi+\n",
              "cUvpcoiok2BgOCF/H0/c168HAGDXf3iWQUT2wcBwUvwmPiKyNwaGk3r4Tlvq+x8q2ZYiIrtgYDgp\n",
              "P28P3N+/oS21k6OliMgOGBhObHwMb3lORPbDwHBiY6ICoHZR4eTlSlwqr1G6HCLq4BgYTqyHtweS\n",
              "2ZYiIjthYDi58TEcLUVE9sHAcHJjonpB7aJC3pUqFF5nW4qIbIeB4eS6d3XHA+F+AIDP2ZYiIhti\n",
              "YHQAE2J4bykisj0GRgcwOioAri4qnC6pQsG1H5Uuh4g6KAZGB9DNyx0PDrjTluJZBhHZCAOjgzCN\n",
              "luJ1DCKyEQZGBzH63l5wU6tw5mo1zpdVK10OEXVADIwOwtfLDcMG9AQA7My9qnA1RNQRMTA6kJ/a\n",
              "UlcUroSIOiIGRgcy8t4AuKtdcK70R5wrZVuKiKzLqQMjPz8fycnJiIiIQGJiIvLy8pQuSVG+Xdzw\n",
              "m4iG0VK8VQgRWZtTB8acOXOQnp6Oc+fOYdGiRUhNTVW6JMWZvonvZAlEROFqiKgjcVW6gLYqKyvD\n",
              "0aNH8eWXXwIAJk+ejHnz5uH8+fMIDw9XuDrljBwUAHdXF5wv+xG5P1Qi3N+7TdtRqdqwDtqwUhtf\n",
              "i5rmTH8jCO4utqn6m9ql5v4YanpZyxZsqp5m12/mtRqWt7y2lrffwg+zmVmaLm7wdFM3v147OW1g\n",
              "FBcXo3fv3nB1bdgFlUqF4OBgFBUV3RUYOp0OOp3ObJrBYLBbrfbk4+mG4RE9sedUKf7r74eVLoeI\n",
              "7Oh/ZiZg5L0BNtu+U7ekLLVixQr4+vqaPXJycpQuy2Zm3R8KD9dO8aMl6pBUqpYfLs08bF6XOGmj\n",
              "u6ysDOHh4bhx4wZcXV0hIujduze+/vpri84wlixZgjVr1tizZLuqNxhhMFr2o7X0HdDiKXKbt+k8\n",
              "2Dmzvl+2I5tqa1rSsmxqGUu21dSmVU1srKUSWqqvqW05M6dtSfn7+yM+Ph4bN25Eamoqtm3bhsDA\n",
              "wCavX3h4eMDDw8Nsmlptuz6fI3BTu8CGrUwi6oScNjAAYN26dUhNTcXy5cuh0WiQkZGhdElERB2W\n",
              "UwdGZGQkvvnmG6XLICLqFHhllIiILOK0F73ba9KkSQgNDW3VOgaDATk5OUhKSnL4ayDOUivrtC7W\n",
              "aV2dpc6QkBC8+OKLv7pcpw2MtqiqqoKvry8qKyuh0WiULqdFzlIr67Qu1mldrNMcW1JERGQRBgYR\n",
              "EVmEgUFERBZhYLSCh4cHXnvttbs+BOiInKVW1mldrNO6WKc5XvQmIiKL8AyDiIgswsAgIiKLMDCI\n",
              "iMgiDAwbe/vtt3H16lWly3A4Fy9exDvvvNPiMgkJCThw4IB9CrLAlStXMGzYMLu/7u3bt/Hoo48i\n",
              "IiICcXFxGDVqFM6fPw8AeOihh9CvXz9otVpotVqsXr3atN6cOXMQExOD3/72t6isrATQ8G1wY8eO\n",
              "RUFBgc3qDQ0NRWRkpKmmrKwsAEB+fj6Sk5MRERGBxMRE5OXlAQDq6+vx6KOPIi4uDpMmTYJerzft\n",
              "929+8xvcvHnT6jWWl5eb6tNqtYiIiICrqytu3LjhkMfUYQjZVEhIiBw/flzpMhzO/v37JS4ursVl\n",
              "hgwZIvv377dLPY6strZWdu7cKUajUURE1q5dK8OHDxcRkeHDh8vHH3981zonT56UlJQUERFZunSp\n",
              "rF27VkRE1q9fL2+++aZN623uPZ+SkiIZGRkiIrJlyxZJSEgQEZHPPvtMZs+eLSIis2fPls8++0xE\n",
              "RP70pz9JVlaWTWtt9Le//U0mTJggIo55TB1Fpz3D+Oabb/Dggw8iLi4OsbGx+OSTT3D06FEkJycj\n",
              "NjYWSUlJOHy44StOL168iG7dupnW/fHHH82+GEWlUmH58uVISkpCv379TLdZf/3113HlyhVMmzYN\n",
              "Wq0WJ06caHWdKpUKy5Ytw3333YfQ0FBs374dK1asQEJCAgYMGGD2F/ju3bvx4IMPYsiQIUhKSsL+\n",
              "/fsBAFevXkVKSgqGDBmCqKgozJs3D0ajEQCwYcMGjBw5EjNmzEBMTAwSEhJw4cKFVtfZktraWkyb\n",
              "Ng333nsv4uLiMHr0aDz77LM4e/YstFotJk6cCAA4cuQItFotoqOjMXv2bNNfmrZm6TH+5fuguZ+7\n",
              "tXl6emLcuHGm99zQoUNx8eLFFtdxc3ODTqeD0WhETU0N3N3dUVJSgszMTCxcuNAmdbakrKwMR48e\n",
              "xRNPPAEAmDx5MoqLi3H+/Hm4ubnh1q1bAIBbt27B3d0dubm5OHPmDKZOnWqX+t59912kpaW1uIwS\n",
              "x9TS96Zer8eYMWOQkJCAqKgoPP7446ipqQEAbNq0CQkJCdDpdBARPPLII1i2bFnbClI6sZRQXl4u\n",
              "/v7+cujQIRERMRgMUlpaKkFBQfLFF1+IiEh2drYEBARIdXW1FBYWiq+vr2n96upq+fmhAyArV64U\n",
              "EZHTp0+Lt7e31NfXi0j7zzAAyNtvvy0iInv37pWuXbua/kr78MMPTX+lFRQUyNChQ6WyslJERPLz\n",
              "86VXr15y+/Ztqa2tlerqahER0ev1Mn78eMnMzBQRkYyMDNFoNHLhwgUREVm0aJGkp6e3ud6mfPTR\n",
              "RzJ69GjT8/Ly8rvOMHQ6nQQGBsqePXtERGT37t0CwC5nGJYe41++D1r6udvSE088IfPnzxeRhr+G\n",
              "IyMjJTo6WqZOnSoFBQWm5V599VWJi4uTKVOmSE1NjUybNk2OHj1q8/pCQkIkJiZGoqOj5amnnpKy\n",
              "sjI5evSoREREmC2XmJgoX331lRgMBnn66aclNjZW0tPTpb6+XkaMGCHFxcU2r1VE5PDhwxIQEGD6\n",
              "2TnSMbX0vWk0GuX69eumfz/77LOyYsUK03bS09Pl+eefl7/+9a/y8MMPm85WW11PO/bFae3YsUOG\n",
              "DRtmNi03N1dCQkLMpsXGxkp2drZFgVFSUmJ63q1bN9Ob3RqB0bjtiooKASC1tbUiInLx4kVTXX//\n",
              "+9/Fz89P4uLiTI8+ffrIuXPnpKamRubOnSuxsbESExMjAQEBsmjRIhFpCIwxY8aYXm/79u0yYsSI\n",
              "NtfblIKCAgkKCpLnnntOPvjgA6mqqrorML7//nsJDQ01Wy8sLMxugWHJMW4qMJr7udvKsmXLZOjQ\n",
              "oVJTUyMiIkVFRSLS8Eti7dq1MmjQoCbX2759u7zyyity/fp1SU1NlUmTJskHH3xgkxovXbokIiJ1\n",
              "dXXyhz/8QcaOHdtiYPzS6tWrZe3atVJYWCgzZsyQSZMmNbmctTz11FPy+9//3vTckY6ppe9Ng8Eg\n",
              "r776qmi1WomOjpagoCCZNm2aaTu1tbUSGxsrQUFBcu3atTbX02lbUpZobAG4urrCYDCYpt++ffuu\n",
              "ZT09PU3/VqvVVm2nNG678bbFP3/e+DoiglGjRuHEiROmx+XLlzFgwACsWrUKZWVl+Pbbb5Gbm4vH\n",
              "H3/cbB9sWTsAhIWF4dSpU3j44Ydx+PBhREdHW3Qh057fh2zJMW5pPUuWba+VK1fio48+wq5du+Dl\n",
              "5QUACAoKAtBwrObNm4cLFy6gvLzcbL2qqiqsXLkSS5cuxdtvv43hw4cjKysLr7/+Ompra61eZ3Bw\n",
              "MICGFs6CBQuQnZ2NoKAglJSUmL1fi4qKTMs2unTpEj7//HPMnTsXS5YsQXp6OjZs2IAXXnjB6nUC\n",
              "De3lDz/8EE899ZRpmqMdU0vem5s3b8a+fftw8OBBnDx5Eq+88orZ//GysjLcvHkTRqMRFRUVba6l\n",
              "UwZGcnIy8vPzkZ2dDQAwGo0ICAiA0WjEnj17ADT0069evQqtVotevXpBRHDq1CkAwPvvv2/xa2k0\n",
              "GtNoClsaM2YM9u7di9zcXNO0nJwcAMDNmzfRq1cveHp64urVq9iyZYvN6/m5H374ASqVChMnTsTK\n",
              "lSshIujRo4fZcRk4cCD0er3pusvevXs7x6gTC61atQqZmZnYs2eP6TqKXq9HaWmpaZlt27YhICAA\n",
              "PXr0MFv3j3/8I/7yl7/Ay8sLNTU1UKlUUKlUqK+vR11dnVXrrKmpMfuFlJmZicGDB8Pf3x/x8fHY\n",
              "uHGjqdbAwECEh4ebrf/iiy9i9erVcHFxMdXa+G9byMrKQlxcHAYOHAjAMY+pJW7evAk/Pz9oNBpU\n",
              "V1djw4YNpnl6vR7Tp0/HG2+8gVWrVmHq1KnQ6XRteh2n/orWturevTs+/vhjvPzyy6iuroaLiwve\n",
              "eOMNfPTRR5g/fz5efvlleHp6YuvWrfD29gYArF27FhMmTECPHj0wZcoUi19r/vz5eOaZZ+Dl5YUN\n",
              "GzZAq9XaZJ/Cw8OxefNmzJkzB7du3UJdXR0GDx6MzZs348UXX8SUKVMQFRWFPn36YOTIkTapoTkn\n",
              "T57E4sWLISLQ6/V48sknkZycjKioKERHRyMsLAyffvopsrKyMHfuXBgMBiQmJiIuLs6udTqqH374\n",
              "AS+//DLCwsKQkpICoOHeQfv27cP48eOh0+ng4uICPz8/fPrpp2brHj58GLW1tRg1ahQA4Pnnn8eM\n",
              "GTPw5ptv4sknn4Svr69Vay0tLcXkyZNhMBggIggLCzP9gbVu3TqkpqZi+fLl0Gg0dw0S2Lx5M+Li\n",
              "4hAVFQWg4ZfyM888g7q6OixZssSqdTZ699138cwzz5ie63Q6hzumlpg5cyY++eQTREZGomfPnhg2\n",
              "bBguXboEoOE4RkZGYtasWQCAgwcPYsGCBfjnP//Z6tfhvaSIiMginbIlRURErcfAICIiizAwiIjI\n",
              "IgwMIiKyCAODiIgswsAgIiKLMDCIiMgiDAwiIrIIA4OIiCzCwCAiIoswMIiIyCL/H74BZ3Mongfn\n",
              "AAAAAElFTkSuQmCC\n",
              "\">\n",
              "        \n",
              "      </div>\n",
              "      <script></script>\n",
              "      <script type=\"text/javascript\">\n",
              "        (() => {\n",
              "          const chartElement = document.getElementById(\"chart-543b5b31-bedb-4134-a978-719e4863fbd6\");\n",
              "          async function getCodeForChartHandler(event) {\n",
              "            const chartCodeResponse =  await google.colab.kernel.invokeFunction(\n",
              "                'getCodeForChart', [\"chart-543b5b31-bedb-4134-a978-719e4863fbd6\"], {});\n",
              "            const responseJson = chartCodeResponse.data['application/json'];\n",
              "            await google.colab.notebook.addCell(responseJson.code, 'code');\n",
              "          }\n",
              "          chartElement.onclick = getCodeForChartHandler;\n",
              "        })();\n",
              "      </script>\n",
              "      <style>\n",
              "        .colab-quickchart-chart-with-code  {\n",
              "            display: block;\n",
              "            float: left;\n",
              "            border: 1px solid transparent;\n",
              "        }\n",
              "\n",
              "        .colab-quickchart-chart-with-code:hover {\n",
              "            cursor: pointer;\n",
              "            border: 1px solid #aaa;\n",
              "        }\n",
              "      </style>"
            ]
          },
          "metadata": {}
        },
        {
          "output_type": "display_data",
          "data": {
            "text/plain": [
              "import numpy as np\n",
              "from google.colab import autoviz\n",
              "\n",
              "def value_plot(df, y, figscale=1):\n",
              "  from matplotlib import pyplot as plt\n",
              "  df[y].plot(kind='line', figsize=(8 * figscale, 4 * figscale), title=y)\n",
              "  plt.gca().spines[['top', 'right']].set_visible(False)\n",
              "  plt.tight_layout()\n",
              "  return autoviz.MplChart.from_current_mpl_state()\n",
              "\n",
              "chart = value_plot(_df_3, *['application'], **{})\n",
              "chart"
            ],
            "text/html": [
              "      <div class=\"colab-quickchart-chart-with-code\" id=\"chart-47a5fd9c-1264-4bfa-b35f-51fee8fdaa4c\">\n",
              "        <img src=\"data:image/png;base64,iVBORw0KGgoAAAANSUhEUgAAAYwAAADECAYAAACMRRb/AAAAOXRFWHRTb2Z0d2FyZQBNYXRwbG90\n",
              "bGliIHZlcnNpb24zLjcuMSwgaHR0cHM6Ly9tYXRwbG90bGliLm9yZy/bCgiHAAAACXBIWXMAAA9h\n",
              "AAAPYQGoP6dpAAAf6klEQVR4nO3de1SUdf4H8PdwT2HwQgMoNxHB4jbKRZc0IzU1XXO1crt4baOy\n",
              "UrNac6ttyzVO5aHMU1t7arHWJCLMSrthppL1y2XVxfACosiYXATkKg7MzOf3BzI1XgecK7xf58w5\n",
              "zHP9PA+j75nP8+UZhYgIiIiIrsDF3gUQEZFzYGAQEZFZGBhERGQWBgYREZmFgUFERGZhYBARkVkY\n",
              "GEREZBYGBhERmYWBQUREZmFgEFnQ3/72N4wZM8b4fMqUKVi5cqVV9+nt7Y3t27dbdR9EAOBm7wKI\n",
              "erIvv/zSYttat24dnnnmGZw4ccJkenNzs8X2QXQ5/IRBRERmYWBQr/LGG28gJiYGSqUSAQEBmDNn\n",
              "DmpqagD82k5asWIFVCoVAgIC8OSTT6K9vd24vkKhQEZGBpKSkuDt7Y3k5GQUFBRccn833XQTnnnm\n",
              "GePzEydO4J577kFQUBCUSiXUajX27NkDAMjJyUFCQgL69+8PPz8/TJ8+HceOHQMA5Ofn48EHH8TJ\n",
              "kyfh7e0Nb29vfPDBB8aatm7datzHli1bkJCQAF9fX0RGRmL16tUwGAwmx7B27VrccMMN8Pb2Rmxs\n",
              "LL7//nsLnF3q6RgY1KsEBARg48aNqK+vx08//YTi4mI8+uijxvk//fQT3NzcoNFosH37duTm5uLl\n",
              "l1822cabb76J9957D7W1tbj11lsxZcoUNDQ0XHHfra2tuPnmm+Hh4YF9+/ahvr4eGzZswMCBAwEA\n",
              "Pj4++Ne//oWamhocOnQIIoK7774bADB27Fi89dZbGDRoEJqbm9Hc3Ix77rnngn385z//wR/+8Acs\n",
              "X74ctbW1yMrKQkZGBl5//XWT5d555x289957qK+vx/jx4y+6LaILCFEvtnHjRhkwYICIiDz33HOi\n",
              "UqlEp9MZ57/55psSHh5ufA5AXn/9deNzvV4vAQEB8v777xu3ccMNNxjnjxs3Tp5++mkREcnJyZEB\n",
              "AwbI2bNnzaptz549AkAaGxtFRCQzM1MGDx58wXIAJC8vT0RE0tLSZMaMGSbzMzIyJCoqymT59957\n",
              "z/j8559/FgBSWVlpVl3Ue/ETBvUqGzduREpKClQqFZRKJebMmYO6ujro9XoAQHBwMFxdXY3LDxky\n",
              "BBqNxmQbQ4YMMf7s4uKC0NDQC5a5mGPHjiEsLAyenp4Xnb9jxw6MHz8egYGBUCqVGDduHACgurra\n",
              "7OPTaDQYOnSoybSIiAiUl5ebTBs0aJDx5759+wIAmpqazN4P9U4MDOo1Tpw4gTvuuAOPPvooysvL\n",
              "0djYiH//+98AADn3PWIajcYYHgBQVlaGoKAgk+2UlZUZfzYYDCgvL79gmYsJCwtDWVkZ2traLpjX\n",
              "1taGadOmYfLkySguLkZjYyN27NhhUpuLy5X/uQYHB6O0tNRkWmlpKUJCQq64LtGVMDCo12hubobB\n",
              "YICfnx+8vLxQUlKC9PR0k2Xq6urwwgsvQKvV4vDhw3jllVewYMECk2XWrFmDgwcPoq2tDatWrUJb\n",
              "WxumT59+xf1PmzYN/fv3x6JFi1BTUwMRwYEDB3D8+HG0tbWhtbUV/fv3h4+PD06ePGlysRzouP5S\n",
              "U1OD2traS+5j4cKF2LJlC3Jzc6HX67F371688sorSEtL68KZIro4Bgb1GsOHD0d6ejrmzp0LHx8f\n",
              "zJs3D/fee6/JMqNGjUJbWxuCgoJw4403YsaMGXjqqadMlnnooYcwZ84cDBgwAJ999hm++OIL9OvX\n",
              "74r7v+aaa7Bt2zY0NzcjNjYWvr6+uOeee1BXVwdvb2+88847+Pvf/w5vb29MmTIFd9xxh8n6N998\n",
              "M2677TZERkaiX79+2LBhwwX7GDVqFD7++GOsWrUK/fv3xx133IHFixdjyZIlXT9hROdRiPA7vYmA\n",
              "jmG1W7duvewQU4VCgby8PEyYMMGGlRE5Bn7CICIiszAwiIjILGxJERGRWfgJg4iIzMLAICIiszAw\n",
              "iIjILAwMIiIyS68NjDVr1ti7BCIip9JrA+P48eP2LoGIyKn02sAgIqKuYWAQEZFZGBhERGQWBkYX\n",
              "FFc1IeObwyiu4hfNEFHvw8DoglfzivH6tiPYtPcXe5dCRGRzDIwumBoXCADYsr8CvAUXEfU2DIwu\n",
              "uHm4Cl7uLjheewZFJxvtXQ4RkU0xMLqgj4cbxg/3BwBsLqywczVERLbFwOiiX9tSJ9mWIqJehYHR\n",
              "RalRKlzj7gpNXSv2/9Jg73KIiGyGgdFF13i4Yvx1KgDAFraliKgXYWB0w7RzbanNhRwtRUS9BwOj\n",
              "G26KUqGPhyt+qW/F/06wLUVEvQMDoxu83F0x4bqO0VJbCk/auRoiIttgYHSTcbQU21JE1EswMLpp\n",
              "XOS16OvhipMNZ7FXU2/vcoiIrI6B0U1e7q6YeH1nW4qjpYio52NgXIWpcYMAAF/sr4DBwLYUEfVs\n",
              "DIyrMHaYH3w83VDRcBZ7NaftXQ4RkVUxMK7Cb9tSvLcUEfV0DIyr1Dlaim0pIurpGBhXacwwP/h4\n",
              "uaGqUYv/lrMtRUQ9V5cCY/HixQgLC4NCocC+ffuM08PCwhAVFQW1Wg21Wo3s7GzjvJKSEqSkpCAy\n",
              "MhJJSUkoKiqy6jxb83RzxS3XBwDgaCki6uGkC3bs2CEajUZCQ0Nl7969xunnP/+t1NRUyczMFBGR\n",
              "nJwcSUxMtOo8cz322GNdXudSth2sktDlmyXp73mi0xsstl0iIkfSpcDoZG5gVFVViY+Pj7S3t4uI\n",
              "iMFgEH9/fykpKbHKvK6wZGBo2/US+9xXErp8s/xfaY3FtktE5Egsdg1j7ty5iI2NxX333YdTp04B\n",
              "ADQaDQIDA+Hm5gYAUCgUCAkJQXl5uVXmXYpWq0VjY6PJQ6/XW+rQ4eHmgluiz7Wl9rMtRUQ9k0UC\n",
              "Y+fOnSgsLMSePXvg5+eHefPmWWKzFpOeng5fX1+Tx+7duy26j19HS1VCz9FSRNQDWSQwQkJCAADu\n",
              "7u5YunQp8vPzAQDBwcGoqKiATqcDAIgIysvLERISYpV5l7JixQo0NDSYPJKTky1x6EY3DPWD7zXu\n",
              "qGnWYvexOotum4jIEVx1YLS0tKC+vt74PCsrCyNGjAAAqFQqjBw5EuvXrwcA5ObmIigoCBEREVaZ\n",
              "dymenp5QKpUmD1dX16s9dBMebi6YFH3u3lL7ectzIuqBunLBIy0tTQYPHiyurq6iUqlk6NChUlpa\n",
              "Kmq1WmJjYyUmJkamT58ux44dM65z6NAhGT16tAwbNkwSEhKksLDQqvPMZcmL3p22H66W0OWbJWHl\n",
              "N9Ku01t8+0RE9qQQ6Z1f5rBs2TJkZGRYdJvtegOSVm1F/Zl2bPjTKKRE+Fl0+0RE9sS/9LYgd1cX\n",
              "TD43WmozR0sRUQ/DwLCwztFSX/9cCZ3eYOdqiIgsh4FhYb8LH4j+fdxR29KGnzhaioh6EAaGhbm5\n",
              "umByTMenDN7ynIh6EgaGFUw715b66ucKtqWIqMdgYFjBqCEDMLCvB06facePR2vtXQ4RkUUwMKyg\n",
              "oy3FW54TUc/CwLCSztFSXxVVop1tKSLqARgYVjJqyED4eXug/kw7fihlW4qInB8Dw0pcXRSYcm60\n",
              "1JZC3luKiJwfA8OKjH/EV1SFNh3bUkTk3BgYVpQUNgDX+niiobUdu0pr7F0OEdFVYWBYkauLArdy\n",
              "tBQR9RAMDCubGjcIAPB1USXbUkTk1BgYVpYY2h8qH080ndXh+yOn7F0OEVG3MTCszMVFgVtjeW8p\n",
              "InJ+DAwb6Ly3VF5RFbQ6vZ2rISLqHgaGDYwM6Y8ApReatDrkF3O0FBE5JwaGDfy2LbWF38RHRE6K\n",
              "gWEjnX/El3egCmfb2ZYiIufDwLCREcH9MMjXC81aHXYWc7QUETkfBoaNsC1FRM6OgWFDnW2prWxL\n",
              "EZETYmDYkDq4Hwb3uwYtbXpsP8y2FBE5FwaGDSkUCuOnDLaliMjZMDBsbOq56xjfHqxCaxvbUkTk\n",
              "PLoUGIsXL0ZYWBgUCgX27dtnnF5SUoKUlBRERkYiKSkJRUVFdpvn6OKCfBHU/xqcadNj++Fqe5dD\n",
              "RGQ+6YIdO3aIRqOR0NBQ2bt3r3F6amqqZGZmiohITk6OJCYm2m2euR577LEur2MpL35xQEKXb5ZF\n",
              "H/zXbjUQEXVVlwKj028Do6qqSnx8fKS9vV1ERAwGg/j7+0tJSYnN53WFPQOjUFMvocs3y/BnvpQW\n",
              "bbvd6iAi6gq3q/2EotFoEBgYCDe3jk0pFAqEhISgvLwcvr6+Np0XERFx0Rq1Wi20Wq3JNL3eftcP\n",
              "YgYrETKgD8rrzuC7Q6eMF8KJiBxZr7jonZ6eDl9fX5PH7t277VaP6Wipk3arg4ioK646MIKDg1FR\n",
              "UQGdTgcAEBGUl5cjJCTE5vMuZcWKFWhoaDB5JCcnX+2hX5XO0VLbDlWjRauzay1EROa46sBQqVQY\n",
              "OXIk1q9fDwDIzc1FUFAQIiIibD7vUjw9PaFUKk0erq6uV3voVyV6kBJhA/vgbLsB2w5xtBQROYGu\n",
              "XPBIS0uTwYMHi6urq6hUKhk6dKiIiBw6dEhGjx4tw4YNk4SEBCksLDSuY+t55rLnRe9OL391UEKX\n",
              "b5YH3i+wdylERFekEBGxd2jZw7Jly5CRkWHXGg6cbMStr+fD080F/312Irw9r3oMAhGR1fSKi96O\n",
              "6rpAH4T79YVWZ8C3B6vsXQ4R0WUxMOzIZLRUIe8tRUSOjYFhZ52Bsb34FJrOttu5GiKiS2Ng2FmU\n",
              "vw+GXtsXbToDvj3I0VJE5LgYGHbW0ZYaBADYzLYUETkwBoYDmHauLbWz+BQa2ZYiIgfFwHAAkf4+\n",
              "GKbyRpvegK0HOFqKiBwTA8NBcLQUETk6BoaD6Ly31M6SU2hoZVuKiBwPA8NBDPP3QZS/D9r1gjy2\n",
              "pYjIATEwHMivbSne8pyIHA8Dw4Hceq4tlV9Sg4YzbEsRkWNhYDiQCJU3hgf4QGcQfH2g0t7lEBGZ\n",
              "YGA4mGkcLUVEDoqB4WA621K7jtTgdEubnashIvoVA8PBhF/rjesCldAZBN+wLUVEDoSB4YA621K8\n",
              "txQRORIGhgPqbEv9UFqLOraliMhBMDAc0BC/vogepITeIPi6iG0pInIMDAwHxXtLEZGjYWA4qKnG\n",
              "tlQNapu1dq6GiIiB4bBCB/ZF7GBfGAT4im0pInIADAwHxrYUETkSBoYD62xL/d/RWpxqYluKiOyL\n",
              "geHAggf0QXwQ21JE5BgsGhhhYWGIioqCWq2GWq1GdnY2AKCkpAQpKSmIjIxEUlISioqKjOtYY15P\n",
              "wlueE5HDEAsKDQ2VvXv3XjA9NTVVMjMzRUQkJydHEhMTrTrPHI899liXlrcXTV2LhC7fLEOe2ixV\n",
              "ja32LoeIejGFiIilwicsLAybNm2CWq02TquurkZERATq6urg5uYGEUFgYCC+//57KJVKi8+LiIgw\n",
              "q9Zly5YhIyPDUoduVTPe2IV9mnqsvC0ac34XZu9yiKiXsvg1jLlz5yI2Nhb33XcfTp06BY1Gg8DA\n",
              "QLi5uQEAFAoFQkJCUF5ebpV5F6PVatHY2Gjy0Ov1lj50q+G9pYjIEVg0MHbu3InCwkLs2bMHfn5+\n",
              "mDdvniU3323p6enw9fU1eezevdveZZltyrnRUrvL6lDdeNbO1RBRb2XRwAgJCQEAuLu7Y+nSpcjP\n",
              "z0dwcDAqKiqg0+kAACKC8vJyhISEWGXexaxYsQINDQ0mj+TkZEseulUN7ncNRob0gwjw5c8cLUVE\n",
              "9mGxwGhpaUF9fb3xeVZWFkaMGAGVSoWRI0di/fr1AIDc3FwEBQUhIiLCKvMuxtPTE0ql0uTh6upq\n",
              "qUO3ialxgwDwj/iIyH4sdtH76NGjmDVrFvR6PUQE4eHhWLNmDcLCwnD48GHMnz8ftbW1UCqVyMzM\n",
              "RGxsLABYZZ45nOmiNwBUNLTid+nboFAAPz41HgG+XvYuiYh6GYuOknImzhYYAHD7P35AwfHTeO73\n",
              "12PBDUPsXQ4R9TL8S28nwntLEZE9MTCcyJSYQCgUQMHx06hoaLV3OUTUyzAwnEiArxeSQgcAAL7Y\n",
              "z9FSRGRbDAwnw3tLEZG9MDCczJSYACgUwJ7yevxSz7YUEdkOA8PJqJReSA7raEt9uZ8Xv4nIdhgY\n",
              "Toj3liIie2BgOKFJMQFwUQD7NPXQ1J2xdzlE1EswMJyQyscLo4YMBAB8+TM/ZRCRbTAwnBT/iI+I\n",
              "bI2B4aQmn2tL/e9EA9tSRGQTDAwn5eftid8N7WhLbeFoKSKyAQaGE5say1ueE5HtMDCc2KRof7i6\n",
              "KLD/lwYcr22xdzlE1MMxMJzYQG9PpLAtRUQ2wsBwclNjOVqKiGyDgeHkJkUHwNVFgaKTjThWw7YU\n",
              "EVkPA8PJ9e/rgRsi/AAAX7AtRURWxMDoAabF8t5SRGR9DIwe4JZof7i5KHCwohGlp5rtXQ4R9VAM\n",
              "jB6gXx8PjBl2ri3FTxlEZCUMjB7COFqK1zGIyEoYGD3ELdcHwN1VgUOVTThS3WTvcoioB2Jg9BC+\n",
              "fdwxdti1AIAthZV2roaIeiIGRg/ya1vqpJ0rIaKeiIHRg0y43h8eri4ormpGcRXbUkRkWU4dGCUl\n",
              "JUhJSUFkZCSSkpJQVFRk75Lsyvcad9wY2TFaircKISJLc+rAeOCBB5CWlobi4mIsX74c8+fPt3dJ\n",
              "dmf8Jr79FRARO1dDRD2Jm70L6K7q6moUFBTgm2++AQDMmjULjzzyCI4cOYKIiAg7V2c/E67zh4eb\n",
              "C45UN6PwRAOGqrztXdIVKbq7XjdXVHR7j45P4DxvEq70fuZKR2LOG6Irb+OKm7hgI+ef44tt4/xJ\n",
              "59d6sd2ev50LfpeXfwqgo8vg5e56kTmW4bSBodFoEBgYCDe3jkNQKBQICQlBeXn5BYGh1Wqh1WpN\n",
              "pun1epvVaks+Xu4YF3kt8g5U4bY3dtm7HCKyoXfmJmLC9f5W275Tt6TMlZ6eDl9fX5PH7t277V2W\n",
              "1cz7XRg83XrFr5aox1EoTB8u5z1cXRQmD7ffPLr7qdvs2sRJG93V1dWIiIhAXV0d3NzcICIIDAzE\n",
              "999/b9YnjGeffRZr1qyxZck2pdMboDM4/q+2u6++7rZeur+/7rfOLsca/8CdqeVmleM3c5tdOU/n\n",
              "b1NhMk9xyXkXXdfa/6tbkdO2pFQqFUaOHIn169dj/vz5yM3NRVBQ0EWvX3h6esLT09Nkmqur9fp8\n",
              "jsDN1QVuPfsQicjGnDYwAODtt9/G/Pnz8eKLL0KpVCIzM9PeJRER9VhOHRhRUVH48ccf7V0GEVGv\n",
              "wCujRERkFqe96H21Zs6cibCwsC6to9frsXv3biQnJzv8NRBnqZV1WhbrtKzeUmdoaCiWLFlyxeV6\n",
              "bWB0R2NjI3x9fdHQ0AClUmnvci7LWWplnZbFOi2LdZpiS4qIiMzCwCAiIrMwMIiIyCwMjC7w9PTE\n",
              "c889d8EfAToiZ6mVdVoW67Qs1mmKF72JiMgs/IRBRERmYWAQEZFZGBhERGQWBoaVvfbaa6isrLR3\n",
              "GQ6nrKwMb7311mWXSUxMxPbt221TkBlOnjyJsWPH2ny/Z8+exYwZMxAZGYn4+HhMnDgRR44cAQDc\n",
              "dNNNGDJkCNRqNdRqNV599VXjeg888ABiY2Nx8803o6GhAUDHN79NmTIFpaWlVqs3LCwMUVFRxpqy\n",
              "s7MBACUlJUhJSUFkZCSSkpJQVFQEAGhvb8eMGTMQHx+PmTNnQqfTGY/7xhtvxOnTpy1eY21trbE+\n",
              "tVqNyMhIuLm5oa6uziHPqcMQsqrQ0FDZu3evvctwON99953Ex8dfdpmEhAT57rvvbFKPI2ttbZUt\n",
              "W7aIwWAQEZG1a9fKuHHjRERk3Lhx8sknn1ywzv79+yU1NVVERJ5//nlZu3atiIj885//lJdeesmq\n",
              "9V7qNZ+amiqZmZkiIpKTkyOJiYkiIvL555/LggULRERkwYIF8vnnn4uIyF/+8hfJzs62aq2dXnnl\n",
              "FZk2bZqIOOY5dRS99hPGjz/+iDFjxiA+Ph5xcXH49NNPUVBQgJSUFMTFxSE5ORm7dnV8xWlZWRn6\n",
              "9etnXLe5udnkS1AUCgVefPFFJCcnY8iQIcbbrL/wwgs4efIkZs+eDbVajX379nW5ToVCgVWrVmHU\n",
              "qFEICwvDpk2bkJ6ejsTERAwbNszkHfjXX3+NMWPGICEhAcnJyfjuu+8AAJWVlUhNTUVCQgKio6Px\n",
              "yCOPwGAwAADWrVuHCRMm4K677kJsbCwSExNx9OjRLtd5Oa2trZg9ezauv/56xMfH45ZbbsGDDz6I\n",
              "w4cPQ61WY/r06QCAH374AWq1GjExMViwYIHxnaa1mXuOz38dXOr3bmleXl649dZbja+50aNHo6ys\n",
              "7LLruLu7Q6vVwmAwoKWlBR4eHqioqEBWVhaWLVtmlTovp7q6GgUFBbj33nsBALNmzYJGo8GRI0fg\n",
              "7u6OM2fOAADOnDkDDw8PFBYW4tChQ7jzzjttUt+7776L++6777LL2OOcmvva1Ol0mDRpEhITExEd\n",
              "HY27774bLS0tAIAPPvgAiYmJ0Gq1EBH8/ve/x6pVq7pXkL0Tyx5qa2tFpVLJzp07RUREr9dLVVWV\n",
              "BAcHy1dffSUiIvn5+eLv7y9NTU1y7Ngx8fX1Na7f1NQkvz11AGT16tUiInLw4EHx9vaW9vZ2Ebn6\n",
              "TxgA5LXXXhMRka1bt0rfvn2N79I++ugj47u00tJSGT16tDQ0NIiISElJiQQEBMjZs2eltbVVmpqa\n",
              "REREp9PJ1KlTJSsrS0REMjMzRalUytGjR0VEZPny5ZKWltbtei9m48aNcssttxif19bWXvAJQ6vV\n",
              "SlBQkOTl5YmIyNdffy0AbPIJw9xzfP7r4HK/d2u69957ZfHixSLS8W44KipKYmJi5M4775TS0lLj\n",
              "ck8//bTEx8fL7bffLi0tLTJ79mwpKCiwen2hoaESGxsrMTExsnDhQqmurpaCggKJjIw0WS4pKUm+\n",
              "/fZb0ev18qc//Uni4uIkLS1N2tvbZfz48aLRaKxeq4jIrl27xN/f3/i7c6Rzau5r02AwSE1NjfHn\n",
              "Bx98UNLT043bSUtLk4cfflhefvllmTx5svHTapfruYpjcVqbN2+WsWPHmkwrLCyU0NBQk2lxcXGS\n",
              "n59vVmBUVFQYn/fr18/4YrdEYHRuu76+XgBIa2uriIiUlZUZ63rjjTfEz89P4uPjjY9BgwZJcXGx\n",
              "tLS0yKJFiyQuLk5iY2PF399fli9fLiIdgTFp0iTj/jZt2iTjx4/vdr0XU1paKsHBwfLQQw/Jhx9+\n",
              "KI2NjRcExv/+9z8JCwszWS88PNxmgWHOOb5YYFzq924tq1atktGjR0tLS4uIiJSXl4tIx38Sa9eu\n",
              "leuuu+6i623atEmeeOIJqampkfnz58vMmTPlww8/tEqNx48fFxGRtrY2+fOf/yxTpky5bGCc79VX\n",
              "X5W1a9fKsWPH5K677pKZM2dedDlLWbhwoTz55JPG5450Ts19ber1enn66adFrVZLTEyMBAcHy+zZ\n",
              "s43baW1tlbi4OAkODpZTp051u55e25IyR2cLwM3NDXq93jj97NmzFyzr5eVl/NnV1dWi7ZTObXfe\n",
              "tvi3zzv3IyKYOHEi9u3bZ3z88ssvGDZsGDIyMlBdXY2ffvoJhYWFuPvuu02OwZq1A0B4eDgOHDiA\n",
              "yZMnY9euXYiJiTHrQqYtv/vYnHN8ufXMWfZqrV69Ghs3bsSXX36JPn36AACCg4MBdJyrRx55BEeP\n",
              "HkVtba3Jeo2NjVi9ejWef/55vPbaaxg3bhyys7PxwgsvoLW11eJ1hoSEAOho4SxduhT5+fkIDg5G\n",
              "RUWFyeu1vLzcuGyn48eP44svvsCiRYvw7LPPIi0tDevWrcOjjz5q8TqBjvbyRx99hIULFxqnOdo5\n",
              "Nee1uWHDBmzbtg07duzA/v378cQTT5j8G6+ursbp06dhMBhQX1/f7Vp6ZWCkpKSgpKQE+fn5AACD\n",
              "wQB/f38YDAbk5eUB6OinV1ZWQq1WIyAgACKCAwcOAADef/99s/elVCqNoymsadKkSdi6dSsKCwuN\n",
              "03bv3g0AOH36NAICAuDl5YXKykrk5ORYvZ7fOnHiBBQKBaZPn47Vq1dDRDBw4ECT8zJ8+HDodDrj\n",
              "dZetW7f2jlEnZsrIyEBWVhby8vKM11F0Oh2qqqqMy+Tm5sLf3x8DBw40Wfepp57CX//6V/Tp0wct\n",
              "LS1QKBRQKBRob29HW1ubRetsaWkx+Q8pKysLI0aMgEqlwsiRI7F+/XpjrUFBQYiIiDBZf8mSJXj1\n",
              "1Vfh4uJirLXzZ2vIzs5GfHw8hg8fDsAxz6k5Tp8+DT8/PyiVSjQ1NWHdunXGeTqdDn/84x+xcuVK\n",
              "ZGRk4M4774RWq+3Wfpz6K1q7q3///vjkk0/w+OOPo6mpCS4uLli5ciU2btyIxYsX4/HHH4eXlxc+\n",
              "/vhjeHt7AwDWrl2LadOmYeDAgbj99tvN3tfixYtx//33o0+fPli3bh3UarVVjikiIgIbNmzAAw88\n",
              "gDNnzqCtrQ0jRozAhg0bsGTJEtx+++2Ijo7GoEGDMGHCBKvUcCn79+/HihUrICLQ6XSYM2cOUlJS\n",
              "EB0djZiYGISHh+Ozzz5DdnY2Fi1aBL1ej6SkJMTHx9u0Tkd14sQJPP744wgPD0dqaiqAjnsHbdu2\n",
              "DVOnToVWq4WLiwv8/Pzw2Wefmay7a9cutLa2YuLEiQCAhx9+GHfddRdeeuklzJkzB76+vhattaqq\n",
              "CrNmzYJer4eIIDw83PgG6+2338b8+fPx4osvQqlUXjBIYMOGDYiPj0d0dDSAjv+U77//frS1teHZ\n",
              "Z5+1aJ2d3n33Xdx///3G51qt1uHOqTnmzp2LTz/9FFFRUbj22msxduxYHD9+HEDHeYyKisK8efMA\n",
              "ADt27MDSpUvxj3/8o8v74b2kiIjILL2yJUVERF3HwCAiIrMwMIiIyCwMDCIiMgsDg4iIzMLAICIi\n",
              "szAwiIjILAwMIiIyCwODiIjMwsAgIiKzMDCIiMgs/w94oDVe8UFt3wAAAABJRU5ErkJggg==\n",
              "\">\n",
              "        \n",
              "      </div>\n",
              "      <script></script>\n",
              "      <script type=\"text/javascript\">\n",
              "        (() => {\n",
              "          const chartElement = document.getElementById(\"chart-47a5fd9c-1264-4bfa-b35f-51fee8fdaa4c\");\n",
              "          async function getCodeForChartHandler(event) {\n",
              "            const chartCodeResponse =  await google.colab.kernel.invokeFunction(\n",
              "                'getCodeForChart', [\"chart-47a5fd9c-1264-4bfa-b35f-51fee8fdaa4c\"], {});\n",
              "            const responseJson = chartCodeResponse.data['application/json'];\n",
              "            await google.colab.notebook.addCell(responseJson.code, 'code');\n",
              "          }\n",
              "          chartElement.onclick = getCodeForChartHandler;\n",
              "        })();\n",
              "      </script>\n",
              "      <style>\n",
              "        .colab-quickchart-chart-with-code  {\n",
              "            display: block;\n",
              "            float: left;\n",
              "            border: 1px solid transparent;\n",
              "        }\n",
              "\n",
              "        .colab-quickchart-chart-with-code:hover {\n",
              "            cursor: pointer;\n",
              "            border: 1px solid #aaa;\n",
              "        }\n",
              "      </style>"
            ]
          },
          "metadata": {}
        },
        {
          "output_type": "display_data",
          "data": {
            "text/plain": [
              "<google.colab._quickchart_helpers.SectionTitle at 0x7fe95d13bd60>"
            ],
            "text/html": [
              "<h4 class=\"colab-quickchart-section-title\">Distributions</h4>\n",
              "<style>\n",
              "  .colab-quickchart-section-title {\n",
              "      clear: both;\n",
              "  }\n",
              "</style>"
            ]
          },
          "metadata": {}
        },
        {
          "output_type": "display_data",
          "data": {
            "text/plain": [
              "import numpy as np\n",
              "from google.colab import autoviz\n",
              "\n",
              "def histogram(df, colname, num_bins=20, figscale=1):\n",
              "  from matplotlib import pyplot as plt\n",
              "  df[colname].plot(kind='hist', bins=num_bins, title=colname, figsize=(8*figscale, 4*figscale))\n",
              "  plt.gca().spines[['top', 'right',]].set_visible(False)\n",
              "  plt.tight_layout()\n",
              "  return autoviz.MplChart.from_current_mpl_state()\n",
              "\n",
              "chart = histogram(_df_4, *['quantity tons'], **{})\n",
              "chart"
            ],
            "text/html": [
              "      <div class=\"colab-quickchart-chart-with-code\" id=\"chart-94f635b6-f94f-4317-a831-cf17df0c5c97\">\n",
              "        <img src=\"data:image/png;base64,iVBORw0KGgoAAAANSUhEUgAAAYwAAADECAYAAACMRRb/AAAAOXRFWHRTb2Z0d2FyZQBNYXRwbG90\n",
              "bGliIHZlcnNpb24zLjcuMSwgaHR0cHM6Ly9tYXRwbG90bGliLm9yZy/bCgiHAAAACXBIWXMAAA9h\n",
              "AAAPYQGoP6dpAAAXeUlEQVR4nO3de1BU5/0G8GeBuN6ALRDDhouIXEUhXspY1A5CMyPeSNE0iRLR\n",
              "BEGrMYYYL2naRONIbWyqiY0oYbTRNKZGoqlGWzGYwVpRxFjRinJdb0i8AkZRdt/fH477cwvR9yx7\n",
              "2AWez8xO3LPvOef7nST7eM7Z8x6NEEKAiIjoEZzsXQAREbUPDAwiIpLCwCAiIikMDCIiksLAICIi\n",
              "KQwMIiKSwsAgIiIpDAwiIpLCwCAiIikMDCIrzZgxA6mpqfYug6jNMDCIJGg0GuTl5Vksy8rKwscf\n",
              "f2x+HxAQYPHeGhs2bICvr2+rtkGkFgYGERFJYWCQQ6utrUVSUhJ0Oh0CAwPx6aefQqPRYN++fQBa\n",
              "/hv5O++8g+HDh5vf//nPf0b//v3h5uYGb29vvPjii7h8+XKz8YsXL4Zer4eHhwfS09PR1NQEAIiI\n",
              "iAAAjBs3Dj179kRCQgIAYOrUqUhOTgYAJCQkwGAwYPbs2ejZsyciIiJQVlYGFxcXVFVVWdQ3duxY\n",
              "zJ07t1mvBQUFmDFjBi5cuICePXuiZ8+e+PTTTwEA//3vf5GQkAAvLy/4+voiPT0dN27cMK8bGxuL\n",
              "V199FZMmTYK7uzv8/PywZs0a8+cGgwGjR4+Gh4cH3N3d0b9/fxQUFCj5V0HEwCDHlpycjB9++AEV\n",
              "FRUoKirCZ599pngb3t7eyM3NxfXr11FYWIjTp0/jlVdesRhTWFiIHj16oLq6GgcPHsSWLVuwceNG\n",
              "AMCJEycAAH//+9/R0NCAXbt2NdvHrl274O/vj9WrV6OhoQEnTpxAUFAQ4uLikJ2dbR5nMBiwe/du\n",
              "zJgxo9k2RowYgaysLDz55JNoaGhAQ0MDJk+ejPr6evziF79Av379YDAYcPjwYZw6dQopKSkW62/Y\n",
              "sAGpqam4du0aVq5cidmzZ6OsrAwAsGjRIvj4+ODChQu4du0atm7dylNfpBgDgxzW+fPnsWfPHrz3\n",
              "3nvw8PCAh4cHMjMzFW9nwoQJCAkJgZOTE3r37o2FCxfin//8p8UYPz8/zJs3D126dEFISAji4+Nx\n",
              "6NChVvcwc+ZMrF+/3ny08vHHH2P48OEICwuT3saOHTtw584dLF++HN27d4der8fKlSuxfft21NTU\n",
              "WPQZFxcHJycnTJgwAR4eHjhy5AgAoEuXLqipqUF5eTk0Gg1CQ0PRp0+fVvdHnQsDgxzWuXPnAMDi\n",
              "i82aL7nc3FzExMSgV69ecHNzw4svvoirV6/CaDSaxzz55JMW6/To0QP19fVWVv7/xo8fD2dnZ3z1\n",
              "1VdoampCTk4O0tPTFW3j7Nmz6N27N1xcXMzLgoKCANw7YrnvYT2sWLECQUFBSEpKwhNPPIFp06bh\n",
              "0qVL1rZFnRQDgxzW/VMmD14D+N/rAa6urrh586bFsgsXLpj/fO7cOTz77LN45ZVXYDAYUFdXZz7V\n",
              "pOTZYRqN5pFjnJya/+/k7OyM6dOnY926ddixYwfu3r2LCRMmKNqGn58fDAaD+SgFAMrLywEA/v7+\n",
              "MuXD09MTf/rTn1BaWoqjR4+iqqoKGRkZUusS3cfAIIfl4+OD+Ph4zJ8/H9euXcO1a9fw5ptvWowZ\n",
              "OHAg6uvr8fnnn8NkMmHfvn3YsmWL+fOGhgaYTCZ4eXmha9euOHPmjFWntby9vVFaWmrVmOnTpyM/\n",
              "Px+LFy/G1KlT0aVLl4du4/Lly7hy5Yp52ZgxY+Di4oI333wTt27dQk1NDV577TWMGzcO3t7eUvVv\n",
              "3rwZ5eXlMJlMcHV1hVartThiIZLBwCCHtmnTJnTp0gUBAQEYNGgQnnvuOYvPAwMDsXr1asybNw86\n",
              "nQ5r167FtGnTzJ+HhYUhMzMTU6ZMgaurK1JSUsy/bFIiMzMTy5cvh06nw9ixY1sc87vf/Q7bt2+H\n",
              "TqdDZGSkebler8f48eNx7NixR56OiouLQ2JiIkJCQqDT6fDXv/4Vbm5u2LNnD44dOwZfX18MHjwY\n",
              "QUFB+Mtf/iJd/7FjxxAXFwdXV1f07dsXOp0OK1askF6fCAA0fKY3tSdNTU147LHHkJ+fj9jYWHuX\n",
              "I23BggUoLi7Gnj177F0KkdV4TEqkMoPBgJycHPO1E6L2iqekiFQ0efJk9OvXD5MmTTLf8EfUXvGU\n",
              "FBERSeERBhERSWFgEBGRFAYGERFJYWAQEZEUhw2MVatW2bsEIiJ6gMMGRnV1tb1LICKiBzhsYBAR\n",
              "kWNhYBARkRQGBhERSWFgEBGRlA47+WDAwp2tWr/q92NsVAkRUcfAIwwiIpLCwCAiIikMDCIiksLA\n",
              "ICIiKQwMIiKSwsAgIiIpDAwiIpLCwCAiIikMDCIiksLAICIiKQwMIiKSwsAgIiIpqgZGY2MjZs+e\n",
              "jeDgYAwYMADJyclq7o6IiFSk6my1CxcuhEajwenTp6HRaFBTU6Pm7oiISEWqBcbNmzeRk5ODc+fO\n",
              "QaPRAAC8vb3V2h0REalMtVNS5eXl8PDwwLJlyzBkyBCMGDECe/fubXFsY2Mj6urqLF5Go1Gt0oiI\n",
              "yAqqBUZTUxOqq6vRr18/FBUV4YMPPsBzzz2HS5cuNRubmZkJd3d3i9ehQ4fUKo2IiKygWmD4+/vD\n",
              "yckJkydPBgAMHDgQffr0wfHjx5uNXbRoEW7cuGHxio6OVqs0IiKygmqB4eXlhfj4ePzjH/8AAFRW\n",
              "VqKyshLh4eHNxmq1Wri5uVm8nJ2d1SqNiIisoOqvpLKysvDyyy9jwYIFcHJywtq1a+Hj46PmLomI\n",
              "SCWqBkZgYCDy8/PV3AUREbUR3ulNRERSGBhERCSFgUFERFIYGEREJIWBQUREUhgYREQkhYFBRERS\n",
              "GBhERCRFcWDcn+qDiIg6F8WBsWTJEoSGhmLVqlWoq6tToyYiInJAigPjX//6FzZv3oySkhKEhITg\n",
              "17/+NU6ePKlGbURE5ECsuoYxcOBAZGdnY/fu3dixYwciIyPx9NNPtzh1ORERdQxWBUZeXh4SExOR\n",
              "lJSEWbNmoaamBunp6fjlL39p6/qIiMhBKJ6tNjw8HF5eXpgzZw6SkpLMz62YOHEicnJybF4gERE5\n",
              "BsWBsWnTJgwePLjFz3bt2tXqgoiIyDEpPiV15MgRXL161fz+ypUryM7OtmlRRETkeBQHxkcffQQP\n",
              "Dw/ze09PT3z00Uc2LYqIiByP4sAQQjRbZjQabVIMERE5LsWBodfr8be//c38/vPPP4der7dpUURE\n",
              "5HgUX/ReuXIlEhMTMX/+fABA9+7dsX37dpsXRkREjkVxYISFheHkyZMoLS0FAISGhpp/WktERB2X\n",
              "4sAAAI1GA51Oh6amJpw/fx4A4O/vb9PCiIjIsSgOjA0bNmDOnDl47LHH4OR07xKIRqNBbW2tzYsj\n",
              "IiLHoTgw3n33XRw+fBihoaFq1ENERA5K8a+kvLy8GBZERJ2Q4sB45plnsHLlStTW1qKurs78epj1\n",
              "69dDo9Fg27Zt1tZJRER2pviU1G9+8xsAQEZGBjQaDYQQ0Gg0P3rzXlVVFbKzszF06NDWVUpERHal\n",
              "+AjDZDKZX0aj0fzPHxubmpqKDz/8EFqtttXFEhGR/Vj1PIwjR45g48aNAIDr16/j4sWLLY57//33\n",
              "MWzYsB+d3fa+xsZGi9NbdXV1nG6EiMjBWDX54EsvvYR33nkHwL3ZaidNmtRsXElJCbZu3Yq33nrr\n",
              "kdvMzMyEu7u7xevQoUNKSyMiIhUpDox169bh4MGDcHNzAwD07dsX33//fbNxBQUFqKqqQnBwMAIC\n",
              "AnDw4EGkpaVhzZo1zcYuWrQIN27csHhFR0db0Q4REalF8UVvrVaLbt26WW7EpflmZs6ciZkzZ5rf\n",
              "x8bGYu7cuXjmmWda3Ob/XuPgdCNERI5F8RHG448/jtOnT0Oj0QC4d+c3pwUhIur4rJqt9oUXXsCp\n",
              "U6fg5+cHNzc37Nix45Hr7du3z5r6iIjIQSgOjKCgIBQWFqK0tBRCCM5WS0TUSSgODIPBAADo0aMH\n",
              "AHC2WiKiTkJxYAwePNh8h/ft27fxww8/wNPTk7PVEhF1cIoD439/Qpubm4tjx47ZrCAiInJMVt3p\n",
              "/aCkpCTs3LnTFrUQEZEDU3yE8eDMtEajEYWFhY+crZaIiNo/xYGh0+nM1zCcnZ0RHByMDz74QI3a\n",
              "iIjIgSgODJPJpEYdRETk4Fp9DYOIiDoHxUcYTk5O5mlBHvSoBykREVH7pjgwlixZglu3bpknFszK\n",
              "ykK3bt0wd+5cW9dGREQORHFgfPnllzhy5Ij5/dKlSzF48GDzo1uJiKhjUnwNo76+3uKu7traWtTX\n",
              "19u0KCIicjyKjzBef/11REVFYfTo0QCA3bt3m5++R0REHZfiwEhPT8ewYcOQn58PAMjIyEBERITN\n",
              "CyMiIseiODAAwNPTEwMGDEBsbCyamppw584ddOnSxda1ERGRA1F8DeOLL77A0KFDMW3aNADAiRMn\n",
              "WnzsKhERdSyKAyMzMxPFxcXQ6XQAgKioKFRXV9u6LiIicjCKA8PZ2Rmenp4Wy3g6ioio41McGK6u\n",
              "rrh06ZL5bu+9e/fCw8PD5oUREZFjUXzRe/ny5UhISEBFRQWGDx+OyspKPg+DiKgTUBQYJpMJRqMR\n",
              "+fn5OHDgAIQQiImJMV/PICKijktRYDg5OSEtLQ3Hjh1DQkKCWjUREZEDUnwNIzg4GGVlZWrUQkRE\n",
              "DkzxNYyrV6/iqaeeQkxMDHr27GlenpubazHu9u3beP7553Hy5El069YNvXr1wpo1axAUFNT6qomI\n",
              "qM1JB0ZaWhrWrVuHlJQUjB8/Hj/5yU+k1klISIBGo8Hq1auRmpqKffv2taZeIiKyE+nAKCoqAgCk\n",
              "pKRg0KBBKC4ufuj4rl27micoBIChQ4dixYoVVpZJRET2ZtVcUkIIxeusWrUKiYmJLX7W2NiIxsZG\n",
              "i2V8ch8RkWORDoxbt27h+PHjEELg9u3b5j/fFxkZ+aPrLlu2DGVlZdi7d2+Ln2dmZmLx4sUWy4YO\n",
              "HSpbGhERtQGNkDxcCAgIaPFZ3gCg0WhQUVHR4mcrVqzA5s2bkZeX96P3a7R0hPHb3/4Wq1atkimt\n",
              "5XoXtu5mwqrfj2nV+kREHY30EUZVVZXijb///vv47LPPHhoWAKDVaqHVai2WOTs7K94fERGpx6pr\n",
              "GDLOnTuH119/HYGBgRg5ciSAe8FQWFio1i6JiEhFqgWGr6+vVRfHiYjIMSm+05uIiDonBgYREUlh\n",
              "YBARkRQGBhERSWFgEBGRFAYGERFJYWAQEZEUBgYREUlhYBARkRQGBhERSWFgEBGRFAYGERFJUW3y\n",
              "QSIiktNent/DIwwiIpLCwCAiIikMDCIiksLAICIiKQwMIiKSwsAgIiIpDAwiIpLCwCAiIikMDCIi\n",
              "ksLAICIiKQwMIiKSwsAgIiIpqgbGmTNnEBMTg5CQEPz0pz/FiRMn1NwdERGpSNXASE9PR1paGk6f\n",
              "Po0FCxZg6tSpau6OiIhUpFpg1NbWoqioCMnJyQCACRMm4OzZsygrK1Nrl0REpCLVnodx9uxZ6PV6\n",
              "uLjc24VGo4G/vz8MBgOCgoIsxjY2NqKxsdFimdFoVKs0IiKygkM8QCkzMxOLFy+2WBYWFoaMjAyr\n",
              "tmc0GqE/dAjR0dFwdna2ahsZGXutWs/ejEYjDrWy9/asM/fP3ttv70mtWNdoNOJnP1vaqt579+6N\n",
              "V1999ZHjNEIIYdUeHqG2thZBQUG4evUqXFxcIISAXq/H/v37pY4wtFottFqtVfuuq6uDu7s7bty4\n",
              "ATc3N6t7aI86c+9A5+6fvbN3tXtX7RpGr169MGjQIGzatAkAsHXrVvj6+jYLC+BeOLi5uVm8rA0L\n",
              "IiJSh6qnpNauXYupU6di2bJlcHNzw/r169XcHRERqUjVwAgNDcW///1vNXdBRERtpEPe6a3VavH2\n",
              "2293ytNanbl3oHP3z97Zu9pUu+hNREQdS4c8wiAiIttjYBARkRQGBhERSWnXgSE7G25OTg6Cg4PR\n",
              "t29fTJ8+HXfv3m3jSm1PpvdvvvkG0dHR6NevHyIiIjB//nyYTCY7VGtbSmZBFkIgLi4OOp2u7QpU\n",
              "mWz/x48fR2xsLMLDwxEeHo7c3Nw2rtT2ZHo3mUzIyMhAv379EBkZiZEjR3aIOezmzJmDgIAAaDQa\n",
              "fPfddz86TtXvO9GOjRw5Uqxfv14IIcSWLVvEkCFDmo2pqKgQer1eXLx4UZhMJjFu3DixevXqNq7U\n",
              "9mR6Ly4uFuXl5UIIIW7duiWGDRtmXqc9k+n9vj/+8Y8iNTVVuLu7t01xbUCm/5s3b4o+ffqIgoIC\n",
              "IYQQTU1Nora2ti3LVIVM719++aWIjo4Wd+7cEUII8e6774pnn322LctUxbfffivOnj0revfuLY4e\n",
              "PdriGLW/79ptYFy6dEm4urqKu3fvCiGEMJlM4oknnhBnzpyxGPeHP/xBpKenm9/v3LlTDBs2rE1r\n",
              "tTXZ3v/XrFmzxNtvv90GFapHSe8lJSVixIgRoqysrMMEhmz/2dnZ4oUXXrBHiaqR7X3btm0iKipK\n",
              "1NXVCZPJJN544w3x2muv2aNkVTwsMNT+vmu3p6QeNhvugwwGA3r37m1+HxAQ0GxMeyPb+4Nqamrw\n",
              "xRdfYOzYsW1Vpipke7979y6mT5+OtWvXtsvJ6H6MbP8nT56EVqvF2LFj8dRTT2HKlCn4/vvv7VGy\n",
              "zcj2Pm7cOMTGxsLb2xt6vR579+7FkiVL7FFym1P7+67dBgbJq6urw7hx4zB//nwMGTLE3uW0icWL\n",
              "FyMpKQnh4eH2LsUumpqakJeXh7Vr1+Lo0aPw8fHBzJkz7V1WmygqKkJJSQnOnz+PCxcuID4+HjNm\n",
              "zLB3WR1Cuw0MPz8/XLx4EU1NTQDuXdw0GAzw9/e3GOfv74/q6mrz+6qqqmZj2hvZ3gGgvr4eo0aN\n",
              "QmJiotXTxTsS2d6//fZbfPjhhwgICMDw4cNRV1eHgICAdv+3bCX/3Y8cORI+Pj7QaDRITk7GwYMH\n",
              "7VGyzcj2/sknn5h/6ODk5ISUlBTk5+fbo+Q2p/b3XbsNDNnZcCdMmICvvvoKNTU1EEIgKysLzz//\n",
              "vD1KthnZ3hsaGjBq1CiMGjUKb731lj1KtTnZ3gsKClBdXY2qqirs378fbm5uqKqqwuOPP26Psm1G\n",
              "tv9f/epXOHz4MOrq6gAAX3/9NaKiotq8XluS7T0wMBDffPMN7ty5AwDYsWMH+vfv3+b12oPq33c2\n",
              "uxpiB6dOnRJDhw4VwcHBYvDgweI///mPEEKIl19+WWzfvt08bt26dSIwMFAEBgaKl156yfzrifZM\n",
              "pvelS5cKFxcXERUVZX4tXbrUnmXbhOy/9/sqKys7zEVvIeT7/+STT0RERIQYMGCAGDVqlDAYDPYq\n",
              "2WZker99+7ZITU0VYWFhYsCAAeLpp582/1qwPUtLSxM+Pj7C2dlZ9OrVS/Tt21cI0bbfd5xLioiI\n",
              "pLTbU1JERNS2GBhERCSFgUFERFIYGEREJIWBQUREUhgYRETtjOzMtQ/auHEjoqKi0L9/f8THx1s1\n",
              "ZQgDg4ionZk4cSL2799vMW/Uw5w6dQpvvPEGdu/ejZKSEkybNs2qqWIYGERE7czPf/5z+Pr6Nlt+\n",
              "+PBhxMXFYciQIRg4cCC2bNkCACgpKUFkZCT0ej0AYPTo0di1axeuXLmiaL8urS+diIjs7fr160hL\n",
              "S8PXX38NvV6Py5cvY9CgQYiJiUFUVBSKi4tx+vRphISEYNOmTRBCoLq6Gp6entL7YGAQEXUABw4c\n",
              "QEVFBRISEiyWl5aWIi4uDllZWZgyZQqampowZswY6HQ681TxshgYREQdgBACEREROHDgQIufT5w4\n",
              "ERMnTgRw7/k4y5cvbzZx46PwGgYRUQcQExODyspK5OXlmZd999135ll7L168CAAwGo1YsGABZs2a\n",
              "he7duyvaBycfJCJqZ9LT07Fz507U1NTA09MTrq6uKCsrQ3FxMebNm4crV67g7t278Pf3x7Zt29C1\n",
              "a1ckJCSguroajY2NGDNmDN577z1otVpF+2VgEBGRFJ6SIiIiKQwMIiKSwsAgIiIpDAwiIpLCwCAi\n",
              "IikMDCIiksLAICIiKQwMIiKSwsAgIiIpDAwiIpLCwCAiIin/B8/fskIgPotIAAAAAElFTkSuQmCC\n",
              "\">\n",
              "        \n",
              "      </div>\n",
              "      <script></script>\n",
              "      <script type=\"text/javascript\">\n",
              "        (() => {\n",
              "          const chartElement = document.getElementById(\"chart-94f635b6-f94f-4317-a831-cf17df0c5c97\");\n",
              "          async function getCodeForChartHandler(event) {\n",
              "            const chartCodeResponse =  await google.colab.kernel.invokeFunction(\n",
              "                'getCodeForChart', [\"chart-94f635b6-f94f-4317-a831-cf17df0c5c97\"], {});\n",
              "            const responseJson = chartCodeResponse.data['application/json'];\n",
              "            await google.colab.notebook.addCell(responseJson.code, 'code');\n",
              "          }\n",
              "          chartElement.onclick = getCodeForChartHandler;\n",
              "        })();\n",
              "      </script>\n",
              "      <style>\n",
              "        .colab-quickchart-chart-with-code  {\n",
              "            display: block;\n",
              "            float: left;\n",
              "            border: 1px solid transparent;\n",
              "        }\n",
              "\n",
              "        .colab-quickchart-chart-with-code:hover {\n",
              "            cursor: pointer;\n",
              "            border: 1px solid #aaa;\n",
              "        }\n",
              "      </style>"
            ]
          },
          "metadata": {}
        },
        {
          "output_type": "display_data",
          "data": {
            "text/plain": [
              "import numpy as np\n",
              "from google.colab import autoviz\n",
              "\n",
              "def histogram(df, colname, num_bins=20, figscale=1):\n",
              "  from matplotlib import pyplot as plt\n",
              "  df[colname].plot(kind='hist', bins=num_bins, title=colname, figsize=(8*figscale, 4*figscale))\n",
              "  plt.gca().spines[['top', 'right',]].set_visible(False)\n",
              "  plt.tight_layout()\n",
              "  return autoviz.MplChart.from_current_mpl_state()\n",
              "\n",
              "chart = histogram(_df_5, *['customer'], **{})\n",
              "chart"
            ],
            "text/html": [
              "      <div class=\"colab-quickchart-chart-with-code\" id=\"chart-2b9c5bc1-e704-4fb8-bbf7-afa2dbe86a02\">\n",
              "        <img src=\"data:image/png;base64,iVBORw0KGgoAAAANSUhEUgAAAYwAAADECAYAAACMRRb/AAAAOXRFWHRTb2Z0d2FyZQBNYXRwbG90\n",
              "bGliIHZlcnNpb24zLjcuMSwgaHR0cHM6Ly9tYXRwbG90bGliLm9yZy/bCgiHAAAACXBIWXMAAA9h\n",
              "AAAPYQGoP6dpAAAVWklEQVR4nO3df3AU9f3H8dcmkRAgPyAhQ0pIQkgIP5RA+DFp0AI6dBoogiFT\n",
              "QZiCaEMBh1qwolZELUOkZVDEhl/DYEc62AZQOlBogQGVUkFItfwoPwIkAUtEYCBRk0DuPt8/GK/c\n",
              "N8HsXXLkcnk+ZnZ09z67+77PLHnN7t5+1jLGGAEA0ICg5i4AANAyEBgAAFsIDACALQQGAMAWAgMA\n",
              "YAuBAQCwhcAAANhCYAAAbCEwAAC2EBgAAFsIDMADlmVp165dzV0G0CwIDCBA3Lx5s7lLQIAjMBCQ\n",
              "qqqq9OKLL6pnz54KDw9XcnKy/vCHP+jll1/W/fff79Z26tSpmjx5siTJGKOXXnpJ8fHxCg8PV3x8\n",
              "vF544QVJUt++fSVJY8aMUYcOHZSdnS1Jqq6u1rx589S9e3d17NhRDzzwgA4cOODa/ttvv634+HgV\n",
              "FBQoMTFR7du319SpU1VZWakZM2YoOjpacXFxWrVqlVtdBw4c0PDhwxUdHa3ExETNnz9ftbW1rs8t\n",
              "y9Lrr7+urKwstW/fXps2bWr6jgRuZ4AANGnSJDN48GBz/Phx43Q6zeeff24OHz5sFixYYIYOHerW\n",
              "dsqUKWbSpEnGGGP+/ve/m65du5rS0lJjjDFXrlwx+/fvd7WVZHbu3Om2/lNPPWXuvfdec/r0aVNT\n",
              "U2OWLFliOnToYM6fP2+MMWbdunUmODjYzJ0711RVVZkzZ86Yjh07mt69e5vNmzeb2tpaU1hYaEJC\n",
              "QkxZWZkxxpgTJ06Y9u3bmw0bNpibN2+akpIS069fP7Nw4UK3WtLS0syxY8eM0+k033zzTdN3JHAb\n",
              "zjAQcC5fvqw//vGPKigoUO/evWVZlr73ve8pIyOjwXXbtGmj6upqHTt2TFVVVerUqZO+//3v37G9\n",
              "0+nU2rVrtXDhQqWkpKhNmzaaO3eukpOTtX79ele7kJAQ5efnq23btkpOTtawYcPUrVs3PfLIIwoO\n",
              "DlZubq7CwsJUVFQkSfr973+vMWPGaMKECQoJCVFiYqKeffZZrVu3zm3/v/zlL9WnTx9ZlqWwsDAv\n",
              "ewywJ6S5CwCa2rlz5yRJaWlpHq87bNgw/fa3v9Vrr72mRx99VP3799f8+fM1cuTIettfvnxZVVVV\n",
              "6tGjh9vylJQUlZWVueZjYmJ0zz33uObbt2+vyMhIt3XatWunyspKSdLp06e1Z88eRUVFuT53Op1y\n",
              "Op1u63Tv3t3j7wh4izMMBJykpCRJ0qlTp+p8Fh4erq+//tpt2X//+1+3+WnTpumDDz7Ql19+qXHj\n",
              "xmnMmDGuP+SWZbm1jYmJUdu2bXXmzBm35WfOnFFCQoLX36FLly567LHHdO3aNddUUVGhr776yq1d\n",
              "UBD/hHH3cLQh4HTu3FkTJ07UrFmzdPLkSUnSxYsXVVRUpEGDBunIkSPat2+fHA6HCgsL9eGHH7rW\n",
              "PXjwoD788ENVVVWpTZs2Cg8Pl2VZCg4OlnTrD/m325Ru/cGeNm2aXnrpJZ09e1Y3btzQ66+/ruLi\n",
              "Yk2aNMnr7zBz5kxt3LhRhYWFunHjhhwOh4qLi7Vjxw6vtwk0FoGBgLRmzRoNGzZM2dnZ6tChg4YO\n",
              "Hapjx45p2LBheuGFF5STk6POnTtr7969Gj9+vGu9r776SnPmzFFsbKyioqK0evVqvffee2rXrp0k\n",
              "KT8/X4sXL1ZUVJR+/OMfS5KWLFmiH/7whxoxYoRiY2O1adMm7dy5U926dfO6/sGDB2vnzp1as2aN\n",
              "unbtqujoaOXm5qq0tLRxHQM0gmUM7/QGADSMMwwAgC0EBgDAFgIDAGALgQEAsIXAAADYQmAAAGwh\n",
              "MAAAtvhtYCxbtqy5SwAA3MZvA4MnWgHAv/htYAAA/AuBAQCwhcAAANhCYAAAbAnYN+4lPbetUeuX\n",
              "vDa6iSoBgMDAGQYAwBYCAwBgC4EBALCFwAAA2EJgAABsITAAALYQGAAAWwgMAIAtBAYAwBYCAwBg\n",
              "C4EBALCFwAAA2OLTwKipqdFTTz2l1NRU3XfffZo8ebIvdwcA8CGfjlb73HPPybIsnTp1SpZlqby8\n",
              "3Je7AwD4kM8C4+uvv9batWt14cIFWZYlSerSpYuvdgcA8DGfXZI6c+aMOnXqpEWLFmnQoEF64IEH\n",
              "tHv37nrb1tTUqKKiwm1yOBy+Kg0A4AWfBUZtba1KS0vVp08fHTp0SG+++aYeffRRffHFF3Xa5ufn\n",
              "KzIy0m06ePCgr0oDAHjBZ4GRkJCgoKAgTZo0SZI0YMAAde/eXUeOHKnT9vnnn9f169fdpiFDhviq\n",
              "NACAF3wWGDExMXrooYf0t7/9TZJ07tw5nTt3Tr17967TNjQ0VBEREW5TcHCwr0oDAHjBp7+SWrly\n",
              "pZ544gnNmzdPQUFBWrVqlbp27erLXQIAfMSngZGcnKw9e/b4chcAgLuEJ70BALYQGAAAWwgMAIAt\n",
              "BAYAwBYCAwBgC4EBALCFwAAA2EJgAABs8Tgwvh3qAwDQungcGK+++qrS0tK0bNkyVVRU+KImAIAf\n",
              "8jgw/vGPf+jdd9/V0aNH1bNnT82cOVPHjx/3RW0AAD/i1T2MAQMGaM2aNdqxY4e2bt2qfv36aeTI\n",
              "kfUOXQ4ACAxeBcauXbs0duxY5eTkaNasWSovL9f06dP1yCOPNHV9AAA/4fFotb1791ZMTIxmz56t\n",
              "nJwc13srcnNztXbt2iYvEADgHzwOjPXr12vgwIH1frZ9+/ZGFwQA8E8eX5I6fPiwrl696pq/cuWK\n",
              "1qxZ06RFAQD8j8eBUVBQoE6dOrnmo6OjVVBQ0KRFAQD8j8eBYYyps8zhcDRJMQAA/+VxYMTFxenP\n",
              "f/6za/5Pf/qT4uLimrQoAID/8fim9xtvvKGxY8fq2WeflSS1a9dOW7ZsafLCAAD+xePA6NWrl44f\n",
              "P66TJ09KktLS0lw/rQUABC6PA0OSLMtSVFSUamtr9fnnn0uSEhISmrQwAIB/8Tgw3n77bc2ePVv3\n",
              "3HOPgoJu3QKxLEuXLl1q8uIAAP7D48D4zW9+o08++URpaWm+qAcA4Kc8/pVUTEwMYQEArZDHgTFu\n",
              "3Di98cYbunTpkioqKlzTd1m3bp0sy9L777/vbZ0AgGbm8SWpX//615KkOXPmyLIsGWNkWdYdH94r\n",
              "KSnRmjVrlJmZ2bhKAQDNyuMzDKfT6ZocDofrv3dq++STT2r58uUKDQ1tdLEAgObj1fswDh8+rHfe\n",
              "eUeSdO3aNV28eLHedkuXLtXQoUPvOLrtt2pqatwub1VUVDDcCAD4Ga8GH5w2bZpefvllSbdGq33s\n",
              "scfqtDt69Kg2bdqkF198scFt5ufnKzIy0m06ePCgp6UBAHzI48BYvXq1Pv74Y0VEREiSevTooS+/\n",
              "/LJOu48++kglJSVKTU1VUlKSPv74Y+Xl5WnFihV12j7//PO6fv262zRkyBAvvg4AwFc8vukdGhqq\n",
              "sLAw942E1N3MjBkzNGPGDNf88OHD9fTTT2vcuHH1bvP/3+NguBEA8C8en2F07txZp06dkmVZkm49\n",
              "+c2wIAAQ+LwarXbixIk6ceKEunXrpoiICG3durXB9fbu3etNfQAAP+FxYKSkpOjAgQM6efKkjDGM\n",
              "VgsArYTHgVFWViZJat++vSQxWi0AtBIeB8bAgQNdT3hXV1frm2++UXR0NKPVAkCA8zgw/v9PaDdv\n",
              "3qzPPvusyQoCAPgnr570vl1OTo62bdvWFLUAAPyYx2cYt49M63A4dODAgQZHqwUAtHweB0ZUVJTr\n",
              "HkZwcLBSU1P15ptv+qI2AIAf8TgwnE6nL+oAAPi5Rt/DAAC0Dh6fYQQFBbmGBbldQy9SAgC0bB4H\n",
              "xquvvqqqqirXwIIrV65UWFiYnn766aauDQDgRzwOjPfee0+HDx92zS9cuFADBw50vboVABCYPL6H\n",
              "UVlZ6fZU96VLl1RZWdmkRQEA/I/HZxhz585Venq6Ro0aJUnasWOH6+17AIDA5XFgTJ8+XUOHDtWe\n",
              "PXskSXPmzFHfvn2bvDAAgH/xODAkKTo6Wvfdd5+GDx+u2tpa3bhxQ23atGnq2gAAfsTjexgbN25U\n",
              "ZmamHn/8cUnSsWPH6n3tKgAgsHgcGPn5+SoqKlJUVJQkKT09XaWlpU1dFwDAz3gcGMHBwYqOjnZb\n",
              "xuUoAAh8HgdGeHi4vvjiC9fT3rt371anTp2avDAAgH/x+Kb34sWLlZ2drbNnz+r+++/XuXPneB8G\n",
              "ALQCHgWG0+mUw+HQnj17tH//fhljlJWV5bqfAQAIXB4FRlBQkPLy8vTZZ58pOzvbVzUBAPyQx/cw\n",
              "UlNTVVxc7ItaAAB+zON7GFevXlX//v2VlZWlDh06uJZv3rzZrV11dbUmTJig48ePKywsTLGxsVqx\n",
              "YoVSUlIaXzUA4K6zHRh5eXlavXq1pkyZoocfflgdO3a0tU52drYsy9Jbb72lJ598Unv37m1MvQCA\n",
              "ZmI7MA4dOiRJmjJlijIyMlRUVPSd7du2besaoFCSMjMztWTJEi/LBAA0N6/GkjLGeLzOsmXLNHbs\n",
              "2Ho/q6mpUU1Njdsy3twHAP7FdmBUVVXpyJEjMsaourra9f/f6tev3x3XXbRokYqLi7V79+56P8/P\n",
              "z9crr7zitiwzM9NuaQCAu8AyNk8XkpKS6n2XtyRZlqWzZ8/W+9mSJUv07rvvateuXXd8XqO+M4z5\n",
              "8+dr2bJldkqrv97nGvcwYclroxu1PgAEGttnGCUlJR5vfOnSpdqwYcN3hoUkhYaGKjQ01G1ZcHCw\n",
              "x/sDAPiOV/cw7Lhw4YLmzp2r5ORkjRgxQtKtYDhw4ICvdgkA8CGfBUZ8fLxXN8cBAP7J4ye9AQCt\n",
              "E4EBALCFwAAA2EJgAABsITAAALYQGAAAWwgMAIAtBAYAwBYCAwBgC4EBALCFwAAA2EJgAABs8dng\n",
              "gwAAe1rK+3s4wwAA2EJgAABsITAAALYQGAAAWwgMAIAtBAYAwBYCAwBgC4EBALCFwAAA2EJgAABs\n",
              "ITAAALYQGAAAW3waGKdPn1ZWVpZ69uypwYMH69ixY77cHQDAh3waGNOnT1deXp5OnTqlefPmaerU\n",
              "qb7cHQDAh3wWGJcuXdKhQ4c0efJkSdL48eN1/vx5FRcX+2qXAAAf8tn7MM6fP6+4uDiFhNzahWVZ\n",
              "SkhIUFlZmVJSUtza1tTUqKamxm2Zw+HwVWkAAC/4xQuU8vPz9corr7gt69Wrl+bMmePV9hwOh+IO\n",
              "HtSQIUMUHBzs1TbmzNnt1XoticPh0MFG9lOgo4/soZ8a9l19lNPIbTf271ViYqJ+8YtfNNjOMsaY\n",
              "Ru3pDi5duqSUlBRdvXpVISEhMsYoLi5O+/bts3WGERoaqtDQUK/2XVFRocjISF2/fl0RERFef4dA\n",
              "Rz81jD6yh35qWCD0kc/uYcTGxiojI0Pr16+XJG3atEnx8fF1wkK6FQ4RERFuk7dhAQDwDZ9eklq1\n",
              "apWmTp2qRYsWKSIiQuvWrfPl7gAAPuTTwEhLS9M///lPX+4CAHCXBOST3qGhoVqwYAGXtRpAPzWM\n",
              "PrKHfmpYIPSRz256AwACS0CeYQAAmh6BAQCwhcAAANjSogPD7mi4a9euVWpqqnr06KGf/exnunnz\n",
              "5l2utHnZ6ae9e/cqLCxM/fv3d01VVVXNUG3zmD17tpKSkmRZlj799NM7tmvNx5KdPmrtx1F1dbXG\n",
              "jRunnj17Kj09XSNHjrzj+Hlbt25Vr169lJqaqpycHFVUVNzlar1gWrARI0aYdevWGWOMKSwsNIMG\n",
              "DarT5uzZsyYuLs5cvHjROJ1OM2bMGPPWW2/d5Uqbl51+2rNnj0lPT7+7hfmRDz74wJw/f94kJiaa\n",
              "f/3rX/W2ae3Hkp0+au3HUVVVldm2bZtxOp3GGGOWL19uhg0bVqddZWWliY2NNf/5z3+MMcbMmjXL\n",
              "PPPMM3ezVK+02DMMu6Phbty4UQ8//LC6dOkiy7L085//XBs2bGiOkpsFowbb84Mf/EDx8fHf2aa1\n",
              "H0t2+qi1a9u2rUaNGiXLsiRJmZmZKikpqdNu+/btGjBggHr16iVJmjlzZos4llpsYHzXaLi3Kysr\n",
              "U2Jioms+KSmpTptAZrefJOnMmTPKyMjQ4MGDVVBQcLdL9Xut/Viyi+Pof5YtW6axY8fWWV7fsXTx\n",
              "4kXV1tbezfI85hej1aL5ZWRk6MKFC4qMjNSFCxc0atQoxcTE6Cc/+Ulzl4YWhOPofxYtWqTi4mLt\n",
              "3h04I1+32DOMbt26uSWyMUZlZWVKSEhwa5eQkKDS0lLXfElJSZ02gcxuP0VERCgyMlKSFB8fr4kT\n",
              "J+qjjz666/X6s9Z+LNnBcXTLkiVLtHnzZm3fvl3t2rWr83l9x9LtVwL8VYsNDLuj4Y4fP15/+ctf\n",
              "VF5eLmOMVq5cqQkTJjRHyc3Cbj9dvHhRTqdTklRZWamtW7dqwIABd71ef9bajyU7OI6kpUuXasOG\n",
              "Ddq5c6eioqLqbfOjH/1IRUVFOnHihCSpoKCgZRxLzXvPvXFOnDhhMjMzTWpqqhk4cKD597//bYwx\n",
              "5oknnjBbtmxxtVu9erVJTk42ycnJZtq0aebGjRvNVXKzsNNPy5cvN3369DH9+vUzffr0MQsWLHD9\n",
              "0qM1yMvLM127djXBwcEmNjbW9OjRwxjDsXQ7O33U2o+j8+fPG0kmOTnZpKenm/T0dDNkyBBjjDHz\n",
              "5883K1ascLXdsmWLSUtLMz169DBjx441165da66ybWMsKQCALS32khQA4O4iMAAAthAYAABbCAwA\n",
              "gC0EBgDAFgIDAFoYu6Mr3+6dd95Renq67r33Xj300ENeDWtDYABAC5Obm6t9+/a5jUf1XU6cOKFf\n",
              "/epX2rFjh44eParHH39cM2bM8Hi/BAYAtDB3Gjn4k08+0YMPPqhBgwZpwIABKiwslCQdPXpU/fr1\n",
              "U1xcnCRp1KhR2r59u65cueLRfv174BIAgC3Xrl1TXl6e/vrXvyouLk6XL19WRkaGsrKylJ6erqKi\n",
              "Ip06dUo9e/bU+vXrZYxRaWmpoqOjbe+DwACAALB//36dPXtW2dnZbstPnjypBx98UCtXrtRPf/pT\n",
              "1dbWavTo0YqKivJ4sEMCAwACgDFGffv21f79++v9PDc3V7m5uZKk8vJyLV68uM4gpA3hHgYABICs\n",
              "rCydO3dOu3btci379NNPdePGDUm3RhKWJIfDoXnz5mnWrFn1Dr3+XRh8EABamOnTp2vbtm0qLy9X\n",
              "dHS0wsPDVVxcrKKiIj3zzDO6cuWKbt68qYSEBL3//vtq27atsrOzVVpaqpqaGo0ePVq/+93vFBoa\n",
              "6tF+CQwAgC1ckgIA2EJgAABsITAAALYQGAAAWwgMAIAtBAYAwBYCAwBgC4EBALCFwAAA2EJgAABs\n",
              "ITAAALb8Hxh8yMN3Yhw+AAAAAElFTkSuQmCC\n",
              "\">\n",
              "        \n",
              "      </div>\n",
              "      <script></script>\n",
              "      <script type=\"text/javascript\">\n",
              "        (() => {\n",
              "          const chartElement = document.getElementById(\"chart-2b9c5bc1-e704-4fb8-bbf7-afa2dbe86a02\");\n",
              "          async function getCodeForChartHandler(event) {\n",
              "            const chartCodeResponse =  await google.colab.kernel.invokeFunction(\n",
              "                'getCodeForChart', [\"chart-2b9c5bc1-e704-4fb8-bbf7-afa2dbe86a02\"], {});\n",
              "            const responseJson = chartCodeResponse.data['application/json'];\n",
              "            await google.colab.notebook.addCell(responseJson.code, 'code');\n",
              "          }\n",
              "          chartElement.onclick = getCodeForChartHandler;\n",
              "        })();\n",
              "      </script>\n",
              "      <style>\n",
              "        .colab-quickchart-chart-with-code  {\n",
              "            display: block;\n",
              "            float: left;\n",
              "            border: 1px solid transparent;\n",
              "        }\n",
              "\n",
              "        .colab-quickchart-chart-with-code:hover {\n",
              "            cursor: pointer;\n",
              "            border: 1px solid #aaa;\n",
              "        }\n",
              "      </style>"
            ]
          },
          "metadata": {}
        },
        {
          "output_type": "display_data",
          "data": {
            "text/plain": [
              "import numpy as np\n",
              "from google.colab import autoviz\n",
              "\n",
              "def histogram(df, colname, num_bins=20, figscale=1):\n",
              "  from matplotlib import pyplot as plt\n",
              "  df[colname].plot(kind='hist', bins=num_bins, title=colname, figsize=(8*figscale, 4*figscale))\n",
              "  plt.gca().spines[['top', 'right',]].set_visible(False)\n",
              "  plt.tight_layout()\n",
              "  return autoviz.MplChart.from_current_mpl_state()\n",
              "\n",
              "chart = histogram(_df_6, *['country'], **{})\n",
              "chart"
            ],
            "text/html": [
              "      <div class=\"colab-quickchart-chart-with-code\" id=\"chart-b1b284d9-668d-4902-9bed-7be97126a007\">\n",
              "        <img src=\"data:image/png;base64,iVBORw0KGgoAAAANSUhEUgAAAYwAAADECAYAAACMRRb/AAAAOXRFWHRTb2Z0d2FyZQBNYXRwbG90\n",
              "bGliIHZlcnNpb24zLjcuMSwgaHR0cHM6Ly9tYXRwbG90bGliLm9yZy/bCgiHAAAACXBIWXMAAA9h\n",
              "AAAPYQGoP6dpAAAUEElEQVR4nO3dfWxV9R3H8c9tK3eUtrQUeaaU0gfQllYqTaUj4JBkOAeMacRp\n",
              "LK6kDGRswWRAdHG6pd2iOKsLQhkWo8axIWyJDRqRMrcxqdAhCvLQ0kJVoGodIKMtvf3tD+INl5Zy\n",
              "zu097Wl5v5KbcB5uz7ff/LifnPPrPcdjjDECAOAawnq6AABA70BgAAAsITAAAJYQGAAASwgMAIAl\n",
              "BAYAwBICAwBgCYEBALCEwAAAWEJgAAAsITCAblJXVyePx6Pq6uqeLgUICoEBuExLS0tPlwB0iMDA\n",
              "deXChQt67LHHlJqaqujoaCUlJemll16SJG3cuFHp6emKiYlRenq6f70k7dy5Ux6PR62trf51Gzdu\n",
              "1KhRo/zLCxYs0Pz587V06VLFx8dr6NCh+uUvf+nffvPNN0uSMjMzFRUVpZ/85CeSpOnTp2vp0qWa\n",
              "P3++4uLitGzZMk2dOlVPPPFEQO2bN2/W0KFDCRT0HANcR+6//34zefJkc/DgQdPW1mY+/fRTs3fv\n",
              "XrN582YTHR1ttm/fblpbW83bb79tBgwYYLZu3WqMMaaiosJIMhcvXvT/rLKyMjNy5Ej/cn5+vunX\n",
              "r5957bXXTGtrq9m1a5eJiIgwO3bsMMYYU1tbaySZo0ePBtQ0bdo0ExkZacrLy43P5zPnz583r776\n",
              "qhk9erTx+Xz+/e644w6zYsUKB7sDdI4zDFw3vvjiC7366qtas2aNJkyYII/HoxEjRmjSpEkqLS1V\n",
              "QUGBZsyYofDwcN1xxx0qKCjQ2rVrbR0jLy9P8+fPV3h4uG677TZlZWWpsrLymu+bPXu27rzzToWF\n",
              "hSkyMlJ33323mpqatG3bNklSTU2NKioqVFhYGNTvDoQCgYHrRm1trSQpLS2t3bb6+nqNGzcuYF1y\n",
              "crJOnDhh6xgjRowIWB4wYIDOnTt3zfeNHTs2YLlfv34qKCjQunXrJEmlpaWaMWOGkpKSbNUDhBKB\n",
              "getGYmKiJOnIkSPtto0ePVo1NTUB62pqapSQkCBJio6OliSdP3/ev/2zzz6zdfywsKv/d+to26JF\n",
              "i/TWW2/p2LFjKisr8895AD2FwMB148Ybb9R9992nhx9+WIcPH5YknTx5UlVVVVq4cKFefPFF7dy5\n",
              "Uz6fTzt27NCGDRv8l4C+mSRft26d2tratG/fPpWWlto+flhYmP/Y15KYmKiZM2fqnnvu0Q033KDv\n",
              "f//79n5hIMQIDFxX1q9fr2nTpmnWrFmKiopSXl6eDhw4oHvuuUerV6/WkiVLFBsbq5/+9KcqKSnR\n",
              "vHnzJF06w3jppZdUWlqqmJgYrVq1yvZ8Qv/+/VVUVKSFCxcqNjZWS5YsueZ7Fi9erKqqKhUUFCgi\n",
              "IiKo3xkIFY8xPNMbcKuPP/5Y6enpqq2t9V8eA3oKgQG4VEtLiwoKCtTS0qJNmzb1dDkAl6QANyov\n",
              "L1dcXJwOHDig1atX93Q5gCTOMAAAFnGGAQCwhMAAAFhCYAAALCEwAACWuDYwSkpKeroEAMBlXBsY\n",
              "x48f7+kSAACXcW1gAADchcAAAFhCYAAALCEwAACWEBgAAEv67A32E1eWd+n9db/9XogqAYC+gTMM\n",
              "AIAlBAYAwBICAwBgCYEBALCEwAAAWEJgAAAsITAAAJYQGAAASwgMAIAlBAYAwBICAwBgCYEBALCE\n",
              "wAAAWEJgAAAscTQwmpubtXTpUqWkpCgjI0MPPPCAk4cDADjI0edhrFy5Uh6PR0eOHJHH49GpU6ec\n",
              "PBwAwEGOBcb58+e1YcMGffLJJ/J4PJKkYcOGOXU4AIDDHLskVVNTo0GDBqmoqEi33nqrpk6dqnfe\n",
              "eafDfZubm3X27NmAl8/nc6o0AEAQHAuM1tZWHT9+XDfddJP27Nmj5557Tvfee69Onz7dbt/i4mIN\n",
              "HDgw4FVZWelUaQCAIDgWGAkJCQoLC9P9998vSbrllls0duxYffjhh+32XbVqlc6cORPwysnJcao0\n",
              "AEAQHAuMwYMHa8aMGXrrrbckSbW1taqtrdWECRPa7ev1ehUTExPwCg8Pd6o0AEAQHP0rqbVr16qg\n",
              "oEArVqxQWFiY1q1bp5EjRzp5SACAQxwNjKSkJFVUVDh5CABAN+Gb3gAASwgMAIAlBAYAwBICAwBg\n",
              "CYEBALCEwAAAWEJgAAAsITAAAJYQGAAASwgMAIAlBAYAwBICAwBgie3A+OZ25QCA64vtwHjyySeV\n",
              "lpamkpISnT171omaAAAuZDsw/vWvf+lPf/qTPvroI6WmpmrJkiU6ePCgE7UBAFwkqDmMW265RevX\n",
              "r9ebb76pN954QxMnTtTMmTM7fPwqAKBvCCowtm/frjlz5mjevHl6+OGHderUKS1atEg/+MEPQl0f\n",
              "AMAlbD9xb8KECRo8eLCWLVumefPm+Z+9fffdd2vDhg0hLxAA4A62A+OVV15RdnZ2h9u2bdvW5YIA\n",
              "AO5k+5LU3r171djY6F/+8ssvtX79+pAWBQBwH9uBsWbNGg0aNMi/HB8frzVr1oS0KACA+9gODGNM\n",
              "u3U+ny8kxQAA3Mt2YAwfPlx//vOf/cubNm3S8OHDQ1oUAMB9bE96P/vss5ozZ45+8YtfSJIiIyP1\n",
              "t7/9LeSFAQDcxXZgjB8/XgcPHtThw4clSWlpaf4/rQUA9F22A0OSPB6PYmNj1draqk8//VSSlJCQ\n",
              "ENLCAADuYjswNm7cqGXLlumGG25QWNilKRCPx6OGhoaQFwcAcA/bgfHrX/9a77//vtLS0pyoBwDg\n",
              "Urb/Smrw4MG2w6KsrEwej0d//etf7R4OAOAStgNj7ty5evbZZ9XQ0KCzZ8/6X1dTV1en9evXKzc3\n",
              "t0uFAgB6lu3AePTRR7V8+XINGzZMcXFxio2NVVxcXIf7trW1aeHChXr++efl9Xq7XCwAoOfYnsNo\n",
              "a2uzvO8zzzyjvLy8q96s8BvNzc1qbm4OWMe3xwHAXYJ6HsbevXv18ssvS5L++9//6uTJk+32+eij\n",
              "j/T666/rscceu+bPKy4u1sCBAwNelZWVwZQGAHBIUDcf/PGPf6xf/epXki7drfZHP/pRu/3+8Y9/\n",
              "qK6uTikpKUpMTNR7772nwsJCvfDCC+32XbVqlc6cORPwysnJsf/bAAAcYzswSktL9d577ykmJkaS\n",
              "NG7cOH3++eft9lu8eLFOnjypuro61dXVKTc3V6WlpVq8eHG7fb1er2JiYgJefHscANzFdmB4vV71\n",
              "798/YF1ERFBfGAcA9CK2P+lvvPFGHTlyRB6PR9Klb35buS3Izp07bRcHAHCPoO5We9999+nQoUMa\n",
              "PXq0YmJi9MYbbzhRGwDARWwHRnJysnbv3q3Dhw/LGMPdagHgOmE7ME6cOCFJGjBggCRxt1oAuE7Y\n",
              "Dozs7Gx5PB4ZY9TU1KT//e9/io+P5261ANDH2Q6MK/+EdsuWLfrggw9CVhAAwJ2C+qb35ebNm6fy\n",
              "8vJQ1AIAcDHbZxiX35nW5/Np9+7dnd6tFgDQN9gOjNjYWP8cRnh4uFJSUvTcc885URsAwEUcvVst\n",
              "AKDv6PIcBgDg+mD7DCMsLMx/W5DLGWPk8Xh4jgUA9FG2A+PJJ5/UhQsX/HedXbt2rfr376+f//zn\n",
              "oa4NAOAitgNj69at2rt3r3/5N7/5jbKzs/Xoo4+GtDAAgLvYnsM4d+5cwLe6GxoadO7cuZAWBQBw\n",
              "H9tnGI888ogyMzN15513SpLefPNN/9P3AAB9l+3AWLRokfLy8lRRUSFJWr58uW6++eaQFwYAcJeg\n",
              "HpUXHx+vjIwMTZ8+Xa2trWppaVG/fv1CXRsAwEVsz2Fs3rxZubm5euihhyRJBw4c0Ny5c0NdFwDA\n",
              "ZWwHRnFxsaqqqhQbGytJyszM1PHjx0NdFwDAZWwHRnh4uOLj4wPWcTkKAPo+24ERHR2t06dP+7/t\n",
              "/c4772jQoEEhLwwA4C62J71/97vfadasWTp27Ji+/e1vq7a2ludhAMB1wFZgtLW1yefzqaKiQrt2\n",
              "7ZIxRlOmTPHPZwAA+i5bgREWFqbCwkJ98MEHmjVrllM1AQBcyPYcRkpKiqqrq52oBQDgYrbnMBob\n",
              "G5WVlaUpU6YoKirKv37Lli0hLQwA4C6WA6OwsFClpaXKz8/X7NmzFRcX52RdAACXsRwYe/bskSTl\n",
              "5+dr0qRJqqqqcqwoAID7BPWIVmNMqOsAALic5TOMCxcu6MMPP5QxRk1NTf5/f2PixIkB+zc1NWn+\n",
              "/Pk6ePCg+vfvryFDhuiFF15QcnJy6KoHAHQbW4Exe/Zs//Ll//Z4PDp27Fi79xQWFmrWrFnyeDz6\n",
              "wx/+oIULF2rnzp1dqxgA0CMsB0ZdXZ2tH/ytb33L/5AlScrNzdXTTz9t62cAANwjqOdhBKOkpERz\n",
              "5szpcFtzc7Oam5sD1vl8vu4oCwBgUVCT3nYVFRWpurpaxcXFHW4vLi7WwIEDA16VlZXdURoAwCLH\n",
              "A+Ppp5/Wli1btG3bNkVGRna4z6pVq3TmzJmAV05OjtOlAQBscPSS1DPPPKPXXntN27dv7/QGhV6v\n",
              "V16vN2BdeHi4k6UBAGxyLDA++eQTPfLII0pKStLtt98u6VIw7N6926lDAgAc5FhgjBo1ii/4AUAf\n",
              "0i2T3gCA3o/AAABYQmAAACwhMAAAlhAYAABLCAwAgCUEBgDAEgIDAGAJgQEAsITAAABYQmAAACwh\n",
              "MAAAlhAYAABLCAwAgCXd9kxvAEDHEleWd+n9db/9Xogq6RxnGAAASwgMAIAlBAYAwBICAwBgCYEB\n",
              "ALCEwAAAWEJgAAAsITAAAJYQGAAASwgMAIAlBAYAwBICAwBgCYEBALDE0cA4evSopkyZotTUVE2e\n",
              "PFkHDhxw8nAAAAc5GhiLFi1SYWGhjhw5ohUrVmjBggVOHg4A4CDHAqOhoUF79uzRAw88IEn64Q9/\n",
              "qPr6elVXVzt1SACAgxx7gFJ9fb2GDx+uiIhLh/B4PEpISNCJEyeUnJwcsG9zc7Oam5sD1vl8PqdK\n",
              "AwAEwRVP3CsuLtYTTzwRsG78+PFavnx5UD/P5/NpeGWlcnJyFB4eHtTPWL78naDeFwyfz6fKLtbb\n",
              "XXpTrVLvqrc31Sr1rnrdXuu8K5bt1tvVz6sxY8boZz/72TX38xhjTJeOdBUNDQ1KTk5WY2OjIiIi\n",
              "ZIzR8OHD9c9//tPSGYbX65XX6w3q2GfPntXAgQN15swZxcTEBP07dJfeVG9vqlXqXfX2plql3lVv\n",
              "b6pVcm+9js1hDBkyRJMmTdIrr7wiSXr99dc1atSodmEhXQqHmJiYgFewYQEAcIajl6TWrVunBQsW\n",
              "qKioSDExMSorK3PycAAABzkaGGlpafr3v//t5CEAAN2kT37T2+v16vHHH+81l7V6U729qVapd9Xb\n",
              "m2qVele9valWyb31OjbpDQDoW/rkGQYAIPQIDACAJQQGAMCSPhcYPXGH3KamJs2dO1epqanKzMzU\n",
              "zJkz/ffMmj59usaOHausrCxlZWXp97//vf99DQ0N+u53v6uUlBSlp6fr3Xff7fI2KxITE5WWluav\n",
              "adOmTZI6750T26z48ssv/XVmZWUpNTVVERERamxsdEVvly1bpsTERHk8Hu3bt8/RfoWizx3V29n4\n",
              "lXpuDF+tt1cbv27sbWfjtyd7GzTTx9x+++2mrKzMGGPMX/7yF3Prrbc6fswLFy6Y8vJy09bWZowx\n",
              "5vnnnzfTpk0zxhgzbdo0s3Xr1g7f99BDD5nHH3/cGGNMZWWlGTlypGlpaenSNivGjBlj/vOf/7Rb\n",
              "31nvnNgWjKeeesrcddddxhh39Pbvf/+7qa+vb9fT7u6l1T53VG9n49eYnuvz1Xp7tfHblR451dsr\n",
              "XT5+jXHHGLajTwXG6dOnTXR0tLl48aIxxpi2tjYzdOhQc/To0W6t4/333zdjxowxxnQ+IAYMGGBO\n",
              "njzpX548ebJ5++23u7TNio4GdGe9c2JbsMaPH+/vp5t6e3lPu7uXwfS5sw+1y8evMT3fZ6uB0Rt6\n",
              "e/n4Nabne2tXn7ok1dkdcrtTSUmJ5syZ419euXKlMjIydO+99+rYsWOSLp2qXrx4UcOGDfPvl5iY\n",
              "qBMnTgS9zY4HH3xQGRkZKigo0Oeff95p75zYFoxdu3bpq6++0l133eVf58bedncvQ93nK8ev5L4+\n",
              "Xzl+pe7vu10djV/Jfb3tTJ8KDDcoKipSdXW1iouLJUkvv/yyDh06pP3792vq1KntBktPePfdd7V/\n",
              "/35VVVVp8ODBys/P7+mSLNmwYYMefPBB/39eN/a2t7ty/Eru63NfGb+S+3p7TSE5T3GJnr4k9dRT\n",
              "T5ns7Gzz1VdfXXUfr9drvvjiC2OMMZGRkVc9dQx2m12fffaZiYqKcs3p/NWcO3fOREVFmY8//viq\n",
              "+/Rkb/vCJSkr49eY7u9zZ5d4vhm/xrj7kpSV8WuM+z4frtSnAsOYS9cEL5+gys7O7pbjrl692kya\n",
              "NMk0Njb61128eNGcOnXKv7x582aTkJDgX87Pzw+YnBoxYoR/cirYbdfy9ddfB3wgrF692kydOtUY\n",
              "03nvnNhmxx//+EeTl5fnX3Zbb6/8kOjuXtrt85X1djR+jXFHny+vtbPxe60+9FRvjWk/fo1xR2/t\n",
              "6nOBcejQIZObm2tSUlJMdna22b9/v+PHrK+vN5JMUlKSyczMNJmZmSYnJ8d8/fXXJjs726Snp5uJ\n",
              "Eyea73znO2bfvn3+9506dcrMnDnTJCcnm5tuusns2LGjy9uupaamxmRlZZmMjAyTnp5uZs+ebWpr\n",
              "a40xnffOiW123HbbbebFF1/0L7ult4WFhWbkyJEmPDzcDBkyxIwbN86xfoWizx3Ve7Xx29N97qjW\n",
              "zsavG3v7jSvHb0/3NljcSwoAYAmT3gAASwgMAIAlBAYAwBICAwBgCYEBALCEwAAAWEJgAAAsITAA\n",
              "AJYQGAAASwgMAIAlBAYAwJL/A9HDZR9YXOM9AAAAAElFTkSuQmCC\n",
              "\">\n",
              "        \n",
              "      </div>\n",
              "      <script></script>\n",
              "      <script type=\"text/javascript\">\n",
              "        (() => {\n",
              "          const chartElement = document.getElementById(\"chart-b1b284d9-668d-4902-9bed-7be97126a007\");\n",
              "          async function getCodeForChartHandler(event) {\n",
              "            const chartCodeResponse =  await google.colab.kernel.invokeFunction(\n",
              "                'getCodeForChart', [\"chart-b1b284d9-668d-4902-9bed-7be97126a007\"], {});\n",
              "            const responseJson = chartCodeResponse.data['application/json'];\n",
              "            await google.colab.notebook.addCell(responseJson.code, 'code');\n",
              "          }\n",
              "          chartElement.onclick = getCodeForChartHandler;\n",
              "        })();\n",
              "      </script>\n",
              "      <style>\n",
              "        .colab-quickchart-chart-with-code  {\n",
              "            display: block;\n",
              "            float: left;\n",
              "            border: 1px solid transparent;\n",
              "        }\n",
              "\n",
              "        .colab-quickchart-chart-with-code:hover {\n",
              "            cursor: pointer;\n",
              "            border: 1px solid #aaa;\n",
              "        }\n",
              "      </style>"
            ]
          },
          "metadata": {}
        },
        {
          "output_type": "display_data",
          "data": {
            "text/plain": [
              "import numpy as np\n",
              "from google.colab import autoviz\n",
              "\n",
              "def histogram(df, colname, num_bins=20, figscale=1):\n",
              "  from matplotlib import pyplot as plt\n",
              "  df[colname].plot(kind='hist', bins=num_bins, title=colname, figsize=(8*figscale, 4*figscale))\n",
              "  plt.gca().spines[['top', 'right',]].set_visible(False)\n",
              "  plt.tight_layout()\n",
              "  return autoviz.MplChart.from_current_mpl_state()\n",
              "\n",
              "chart = histogram(_df_7, *['application'], **{})\n",
              "chart"
            ],
            "text/html": [
              "      <div class=\"colab-quickchart-chart-with-code\" id=\"chart-7e87f03b-0bcb-461b-a42b-fdeae7d15191\">\n",
              "        <img src=\"data:image/png;base64,iVBORw0KGgoAAAANSUhEUgAAAYwAAADECAYAAACMRRb/AAAAOXRFWHRTb2Z0d2FyZQBNYXRwbG90\n",
              "bGliIHZlcnNpb24zLjcuMSwgaHR0cHM6Ly9tYXRwbG90bGliLm9yZy/bCgiHAAAACXBIWXMAAA9h\n",
              "AAAPYQGoP6dpAAAVjUlEQVR4nO3de3AV9d3H8c9JqEcgnFxI04RrgFzQEohEIgUpCGXGWAaQlrGV\n",
              "m6gTiq3YwWmBgRkoKnlakAq0iFxEitVaILYdKXZAAbVWriIick9IKJcIEUJaSODk9/zB43k4JITd\n",
              "k7PJJr5fM2cmu/s75/flO0s+s7s5ux5jjBEAALcQ0dAFAAAaBwIDAGAJgQEAsITAAABYQmAAACwh\n",
              "MAAAlhAYAABLCAwAgCUEBgDAEgIDuIVZs2bp3nvvDSzn5OTomWeecXTOqKgobdmyxdE5ALuaNXQB\n",
              "QGOzYcOGsH3WK6+8ohkzZujEiRNB68vLy8M2BxAuHGEAACwhMNDo/f73v1e3bt3k8/mUmJioMWPG\n",
              "6OzZs5L+/3TStGnTlJCQoMTERP3iF7/QlStXAu/3eDyaP3++evXqpaioKGVnZ2vnzp03nW/AgAGa\n",
              "MWNGYPnEiRMaNWqU2rVrJ5/Pp8zMTO3evVuStGbNGmVlZSk2Nlbx8fEaOnSoCgoKJEnvv/++fvKT\n",
              "n+jkyZOKiopSVFSU/vjHPwZq2rRpU2CO9evXKysrS9HR0UpLS9O8efNUVVUV9G9YtGiR+vbtq6io\n",
              "KGVkZOiDDz4IQ3eB/0dgoNFLTExUfn6+zp8/r23btunQoUN68sknA9u3bdumZs2aqbi4WFu2bNG6\n",
              "dev0m9/8JugzFi9erFWrVuncuXN64IEHlJOTowsXLtxy7kuXLmngwIG67bbbtGfPHp0/f16vvfaa\n",
              "WrduLUlq1aqVXn75ZZ09e1YHDhyQMUYPP/ywJKlfv35asmSJ2rRpo/LycpWXl2vUqFHV5tixY4ce\n",
              "fPBBTZkyRefOndPrr7+u+fPna+HChUHjli9frlWrVun8+fMaNGhQjZ8F1IkBmpj8/HwTFxdnjDFm\n",
              "5syZJiEhwVy9ejWwffHixaZz586BZUlm4cKFgWW/328SExPNH/7wh8Bn9O3bN7C9f//+Zvr06cYY\n",
              "Y9asWWPi4uLM5cuXLdW2e/duI8mUlZUZY4xZuXKladu2bbVxkszGjRuNMcbk5uaa4cOHB22fP3++\n",
              "SU9PDxq/atWqwPK+ffuMJHP69GlLdQFWcISBRi8/P199+vRRQkKCfD6fxowZo9LSUvn9fklS+/bt\n",
              "FRkZGRjfqVMnFRcXB31Gp06dAj9HRESoY8eO1cbUpKCgQMnJyfJ6vTVu37p1qwYNGqSkpCT5fD71\n",
              "799fklRSUmL531dcXKwuXboErUtJSVFRUVHQujZt2gR+btmypSTp4sWLlucBboXAQKN24sQJjRw5\n",
              "Uk8++aSKiopUVlam1atXS5LM/z0brLi4OBAeklRYWKh27doFfU5hYWHg56qqKhUVFVUbU5Pk5GQV\n",
              "FhaqsrKy2rbKykoNGTJE999/vw4dOqSysjJt3bo1qLaIiFv/F2zfvr2OHj0atO7o0aPq0KHDLd8L\n",
              "hBOBgUatvLxcVVVVio+P1+23367Dhw8rLy8vaExpaalmz56tiooKHTx4UHPnztX48eODxixYsECf\n",
              "f/65Kisr9dxzz6myslJDhw695fxDhgxRbGysnnjiCZ09e1bGGO3fv1/Hjx9XZWWlLl26pNjYWLVq\n",
              "1UonT54MulguXbv+cvbsWZ07d+6mczz66KNav3691q1bJ7/fr48//lhz585Vbm6ujU4BdUdgoFHr\n",
              "2rWr8vLyNHbsWLVq1Urjxo3T6NGjg8bcc889qqysVLt27fTd735Xw4cP19SpU4PGTJw4UWPGjFFc\n",
              "XJz+9re/6e9//7tiYmJuOX/z5s317rvvqry8XBkZGYqOjtaoUaNUWlqqqKgoLV++XM8++6yioqKU\n",
              "k5OjkSNHBr1/4MCBGjZsmNLS0hQTE6PXXnut2hz33HOP1q5dq+eee06xsbEaOXKkJk2apKeeesp+\n",
              "w4A68BjDM73RdM2aNUubNm2q9U9MPR6PNm7cqO9973v1WBnQ+HCEAQCwhMAAAFjCKSkAgCUcYQAA\n",
              "LCEwAACWEBgAAEsIDACAJa4NjAULFjR0CQCA67g2MI4fP97QJQAAruPawAAAuAuBAQCwhMAAAFhC\n",
              "YAAALCEwAACWNGvoApySPHV9nd5f+D/fD1MlANA0cIQBALCEwAAAWEJgAAAsITAAAJYQGAAASwgM\n",
              "AIAlBAYAwBICAwBgCYEBALCEwAAAWEJgAAAsITAAAJYQGAAASwgMAIAljgZGRUWFfvaznyk1NVUZ\n",
              "GRkaPXq0k9MBABzk6PMwpk6dKo/Ho0OHDsnj8ej06dNOTgcAcJBjgfGf//xHK1as0IkTJ+TxeCRJ\n",
              "iYmJTk0HAHCYY6ekjh49qri4OM2ZM0d33323+vXrp3feeafGsRUVFSorKwt6+f1+p0oDAITAscC4\n",
              "evWqjh8/rjvvvFM7d+7UwoUL9dBDD+nMmTPVxubl5Sk6OjrotX37dqdKAwCEwLHA6NChgyIiIjRq\n",
              "1ChJ0l133aVOnTrp008/rTZ22rRpunDhQtArOzvbqdIAACFwLDDi4+M1aNAg/eMf/5AkFRQUqKCg\n",
              "QHfccUe1sV6vVz6fL+gVGRnpVGkAgBA4+ldSS5Ys0WOPPaYpU6YoIiJCL730ktq2bevklAAAhzga\n",
              "GJ07d9bmzZudnAIAUE/4pjcAwBICAwBgCYEBALCEwAAAWEJgAAAsITAAAJYQGAAASwgMAIAlBAYA\n",
              "wBICAwBgCYEBALCEwAAAWGI7ML66XTkA4OvFdmDMnj1b6enpWrBggcrKypyoCQDgQrYD45///Kf+\n",
              "9Kc/ad++fUpLS9MTTzyh/fv3O1EbAMBFQrqGcdddd2nZsmV6++239dZbb6l79+4aPHhwjY9fBQA0\n",
              "DSEFxqZNmzRs2DCNGDFCP/3pT3X69GlNmDBBDz74YLjrAwC4hO0n7t1xxx2Kj4/XpEmTNGLEiMCz\n",
              "t3/4wx9qxYoVYS8QAOAOtgPj1VdfVVZWVo3bNmzYUOeCAADuZPuU1K5du1RaWhpYPnfunJYtWxbW\n",
              "ogAA7mM7MBYvXqy4uLjAcuvWrbV48eKwFgUAcB/bgWGMqbbO7/eHpRgAgHvZDoykpCT9+c9/Diy/\n",
              "8cYbSkpKCmtRAAD3sX3R+4UXXtCwYcP0y1/+UpLUokUL/fWvfw17YQAAd7EdGF27dtX+/ft18OBB\n",
              "SVJ6enrgT2sBAE2X7cCQJI/Ho5iYGF29elX//ve/JUkdOnQIa2EAAHexHRivvPKKJk2apG984xuK\n",
              "iLh2CcTj8aikpCTsxQEA3MN2YDzzzDPasWOH0tPTnagHAOBStv9KKj4+3nZYrFy5Uh6PR3/5y1/s\n",
              "TgcAcAnbgTF8+HC98MILKikpUVlZWeB1M4WFhVq2bJl69+5dp0IBAA3LdmBMnz5dkydPVmJiomJj\n",
              "YxUTE6PY2Ngax1ZVVenxxx/XokWL5PV661wsAKDh2L6GUVVVZXns/Pnz1bdv35verPArFRUVqqio\n",
              "CFrHt8cBwF1Ceh7Grl27tHr1aknS+fPnderUqWpj9u3bp3Xr1mnGjBm3/Ly8vDxFR0cHvbZv3x5K\n",
              "aQAAh4R088FHH31Us2bNknTtbrUPP/xwtXHvv/++CgsLlZqaquTkZH300UfKzc3Viy++WG3stGnT\n",
              "dOHChaBXdna2/X8NAMAxtgNj6dKl+uijj+Tz+SRJXbp00RdffFFt3MSJE3Xq1CkVFhaqsLBQvXv3\n",
              "1tKlSzVx4sRqY71er3w+X9CLb48DgLvYDgyv16vmzZsHrWvWLKQvjAMAGhHbv+m/+c1v6tChQ/J4\n",
              "PJKuffPbym1BtmzZYrs4AIB7hHS32h//+Mc6cOCA2rdvL5/Pp7feesuJ2gAALmI7MFJSUrRt2zYd\n",
              "PHhQxhjuVgsAXxO2A6OoqEiS1LJlS0nibrUA8DVhOzCysrLk8XhkjNHly5f13//+V61bt+ZutQDQ\n",
              "xNkOjBv/hDY/P1+ffPJJ2AoCALhTSN/0vt6IESO0fv36cNQCAHAx20cY19+Z1u/3a9u2bbXerRYA\n",
              "0DTYDoyYmJjANYzIyEilpqZq4cKFTtQGAHARR+9WCwBoOup8DQMA8PVg+wgjIiIicFuQ6xlj5PF4\n",
              "eI4FADRRtgNj9uzZunTpUuCus0uWLFHz5s3185//PNy1AQBcxHZgvPnmm9q1a1dg+dlnn1VWVpam\n",
              "T58e1sIAAO5i+xrGxYsXg77VXVJSoosXL4a1KACA+9g+wnj66afVo0cPPfDAA5Kkt99+O/D0PQBA\n",
              "02U7MCZMmKC+fftq8+bNkqTJkyfr29/+dtgLAwC4S0iPymvdurUyMjI0YMAAXb16VZWVlbrtttvC\n",
              "XRsAwEVsX8NYu3atevfurfHjx0uSPvvsMw0fPjzcdQEAXMZ2YOTl5Wn37t2KiYmRJPXo0UPHjx8P\n",
              "d10AAJexHRiRkZFq3bp10DpORwFA02c7MFq1aqUzZ84Evu39zjvvKC4uLuyFAQDcxfZF71//+tfK\n",
              "ycnRsWPHdO+996qgoIDnYQDA14CtwKiqqpLf79fmzZv14YcfyhijPn36BK5nAACaLluBERERodzc\n",
              "XH3yySfKyclxqiYAgAvZvoaRmpqqI0eOOFELAMDFbF/DKC0tVWZmpvr06aOoqKjA+vz8/LAWBgBw\n",
              "F8uBkZubq6VLl2rcuHEaOnSoYmNjnawLAOAylgNj586dkqRx48apZ8+e2r17t2NFAQDcJ6RHtBpj\n",
              "wl0HAMDlLB9hXLp0SZ9++qmMMbp8+XLg56907949aPzly5f1ox/9SPv371fz5s2VkJCgF198USkp\n",
              "KeGrHgBQb2wFxtChQwPL1//s8Xh07Nixau/Jzc1VTk6OPB6Pfve73+nxxx/Xli1b6lYxAKBBWA6M\n",
              "wsJCWx98++23Bx6yJEm9e/fWvHnzbH0GAMA9QnoeRigWLFigYcOG1bitoqJCFRUVQev8fn99lAUA\n",
              "sCiki952zZkzR0eOHFFeXl6N2/Py8hQdHR302r59e32UBgCwyPHAmDdvnvLz87Vhwwa1aNGixjHT\n",
              "pk3ThQsXgl7Z2dlOlwYAsMHRU1Lz58/X66+/rk2bNtV6g0Kv1yuv1xu0LjIy0snSAAA2ORYYJ06c\n",
              "0NNPP63OnTvrvvvuk3QtGLZt2+bUlAAABzkWGO3ateMLfgDQhNTLRW8AQONHYAAALCEwAACWEBgA\n",
              "AEsIDACAJQQGAMASAgMAYAmBAQCwhMAAAFhCYAAALCEwAACWEBgAAEsIDACAJQQGAMCSenumNwCg\n",
              "ZslT19fp/YX/8/0wVVI7jjAAAJYQGAAASwgMAIAlBAYAwBICAwBgCYEBALCEwAAAWEJgAAAsITAA\n",
              "AJYQGAAASwgMAIAlBAYAwBICAwBgiaOBcfjwYfXp00dpaWnq1auXPvvsMyenAwA4yNHAmDBhgnJz\n",
              "c3Xo0CFNmTJFjzzyiJPTAQAc5FhglJSUaOfOnRo9erQk6Qc/+IGKi4t15MgRp6YEADjIsQcoFRcX\n",
              "KykpSc2aXZvC4/GoQ4cOKioqUkpKStDYiooKVVRUBK3z+/1OlQYACIErnriXl5enX/3qV0Hrunbt\n",
              "qsmTJ4f0eX6/X0nbtys7O1uRkZEhfcbkye+E9L5Q+P1+ba9jvfWlMdUqNa56G1OtUuOq1+21jrhh\n",
              "2W69df191bFjRz311FO3HOcxxpg6zXQTJSUlSklJUWlpqZo1ayZjjJKSkvTBBx9YOsLwer3yer0h\n",
              "zV1WVqbo6GhduHBBPp8v5H9DfWlM9TamWqXGVW9jqlVqXPU2plol99br2DWMhIQE9ezZU6+++qok\n",
              "ad26dWrXrl21sJCuhYPP5wt6hRoWAABnOHpK6qWXXtIjjzyiOXPmyOfzaeXKlU5OBwBwkKOBkZ6e\n",
              "rn/9619OTgEAqCdN8pveXq9XM2fObDSntRpTvY2pVqlx1duYapUaV72NqVbJvfU6dtEbANC0NMkj\n",
              "DABA+BEYAABLCAwAgCVNLjAa4g65ly9f1vDhw5WWlqYePXpo8ODBgXtmDRgwQJ06dVJmZqYyMzP1\n",
              "29/+NvC+kpIS3X///UpNTVW3bt303nvv1XmbFcnJyUpPTw/U9MYbb0iqvXdObLPi3LlzgTozMzOV\n",
              "lpamZs2aqbS01BW9nTRpkpKTk+XxeLRnzx5H+xWOPtdUb237r9Rw+/DNenuz/deNva1t/23I3obM\n",
              "NDH33XefWblypTHGmDVr1pi7777b8TkvXbpk1q9fb6qqqowxxixatMj079/fGGNM//79zZtvvlnj\n",
              "+8aPH29mzpxpjDFm+/btpm3btqaysrJO26zo2LGj+fjjj6utr613TmwLxdy5c82QIUOMMe7o7dat\n",
              "W01xcXG1ntZ3L632uaZ6a9t/jWm4Pt+stzfbf+vSI6d6e6Pr919j3LEP29GkAuPMmTOmVatW5sqV\n",
              "K8YYY6qqqsy3vvUtc/jw4XqtY8eOHaZjx47GmNp3iJYtW5pTp04Flnv16mU2btxYp21W1LRD19Y7\n",
              "J7aFqmvXroF+uqm31/e0vnsZSp9r+6V2/f5rTMP32WpgNIbeXr//GtPwvbWrSZ2Squ0OufVpwYIF\n",
              "GjZsWGB56tSpysjI0EMPPaRjx45JunaoeuXKFSUmJgbGJScnq6ioKORtdowdO1YZGRl67LHH9MUX\n",
              "X9TaOye2heLDDz/Ul19+qSFDhgTWubG39d3LcPf5xv1Xcl+fb9x/pfrvu1017b+S+3pbmyYVGG4w\n",
              "Z84cHTlyRHl5eZKk1atX68CBA9q7d6/69etXbWdpCO+995727t2r3bt3Kz4+XuPGjWvokixZsWKF\n",
              "xo4dG/jP68beNnY37r+S+/rcVPZfyX29vaWwHKe4REOfkpo7d67JysoyX3755U3HeL1ec/bsWWOM\n",
              "MS1atLjpoWOo2+w6efKkiYqKcs3h/M1cvHjRREVFmc8///ymYxqyt03hlJSV/deY+u9zbad4vtp/\n",
              "jXH3KSkr+68x7vv9cKMmFRjGXDsneP0FqqysrHqZ9/nnnzc9e/Y0paWlgXVXrlwxp0+fDiyvXbvW\n",
              "dOjQIbA8bty4oItTbdq0CVycCnXbrZSXlwf9Qnj++edNv379jDG1986JbXYsX77c9O3bN7Dstt7e\n",
              "+Euivntpt8831lvT/muMO/p8fa217b+36kND9daY6vuvMe7orV1NLjAOHDhgevfubVJTU01WVpbZ\n",
              "u3ev43MWFxcbSaZz586mR48epkePHiY7O9uUl5ebrKws061bN9O9e3czcOBAs2fPnsD7Tp8+bQYP\n",
              "HmxSUlLMnXfead599906b7uVo0ePmszMTJORkWG6detmhg4dagoKCowxtffOiW12fOc73zEvv/xy\n",
              "YNktvc3NzTVt27Y1kZGRJiEhwXTp0sWxfoWjzzXVe7P9t6H7XFOtte2/buztV27cfxu6t6HiXlIA\n",
              "AEu46A0AsITAAABYQmAAACwhMAAAlhAYAABLCAwAgCUEBgDAEgIDAGAJgQEAsITAAABYQmAAACz5\n",
              "X/isDFPjRYUwAAAAAElFTkSuQmCC\n",
              "\">\n",
              "        \n",
              "      </div>\n",
              "      <script></script>\n",
              "      <script type=\"text/javascript\">\n",
              "        (() => {\n",
              "          const chartElement = document.getElementById(\"chart-7e87f03b-0bcb-461b-a42b-fdeae7d15191\");\n",
              "          async function getCodeForChartHandler(event) {\n",
              "            const chartCodeResponse =  await google.colab.kernel.invokeFunction(\n",
              "                'getCodeForChart', [\"chart-7e87f03b-0bcb-461b-a42b-fdeae7d15191\"], {});\n",
              "            const responseJson = chartCodeResponse.data['application/json'];\n",
              "            await google.colab.notebook.addCell(responseJson.code, 'code');\n",
              "          }\n",
              "          chartElement.onclick = getCodeForChartHandler;\n",
              "        })();\n",
              "      </script>\n",
              "      <style>\n",
              "        .colab-quickchart-chart-with-code  {\n",
              "            display: block;\n",
              "            float: left;\n",
              "            border: 1px solid transparent;\n",
              "        }\n",
              "\n",
              "        .colab-quickchart-chart-with-code:hover {\n",
              "            cursor: pointer;\n",
              "            border: 1px solid #aaa;\n",
              "        }\n",
              "      </style>"
            ]
          },
          "metadata": {}
        },
        {
          "output_type": "display_data",
          "data": {
            "text/plain": [
              "<google.colab._quickchart_helpers.SectionTitle at 0x7fe95ce02dd0>"
            ],
            "text/html": [
              "<h4 class=\"colab-quickchart-section-title\">2-d distributions</h4>\n",
              "<style>\n",
              "  .colab-quickchart-section-title {\n",
              "      clear: both;\n",
              "  }\n",
              "</style>"
            ]
          },
          "metadata": {}
        },
        {
          "output_type": "display_data",
          "data": {
            "text/plain": [
              "import numpy as np\n",
              "from google.colab import autoviz\n",
              "\n",
              "def scatter_plots(df, colname_pairs, figscale=1, alpha=.8):\n",
              "  from matplotlib import pyplot as plt\n",
              "  plt.figure(figsize=(len(colname_pairs) * 6 * figscale, 6 * figscale))\n",
              "  for plot_i, (x_colname, y_colname) in enumerate(colname_pairs, start=1):\n",
              "    ax = plt.subplot(1, len(colname_pairs), plot_i)\n",
              "    df.plot(kind='scatter', x=x_colname, y=y_colname, s=(32 * figscale), alpha=alpha, ax=ax)\n",
              "    ax.spines[['top', 'right',]].set_visible(False)\n",
              "  plt.tight_layout()\n",
              "  return autoviz.MplChart.from_current_mpl_state()\n",
              "\n",
              "chart = scatter_plots(_df_8, *[[['quantity tons', 'customer'], ['customer', 'country'], ['country', 'application'], ['application', 'thickness']]], **{})\n",
              "chart"
            ],
            "text/html": [
              "      <div class=\"colab-quickchart-chart-with-code\" id=\"chart-7764484f-af5d-4508-ac5f-5b6868241956\">\n",
              "        <img src=\"data:image/png;base64,iVBORw0KGgoAAAANSUhEUgAABKsAAAEnCAYAAABmNMCMAAAAOXRFWHRTb2Z0d2FyZQBNYXRwbG90\n",
              "bGliIHZlcnNpb24zLjcuMSwgaHR0cHM6Ly9tYXRwbG90bGliLm9yZy/bCgiHAAAACXBIWXMAAA9h\n",
              "AAAPYQGoP6dpAABK1UlEQVR4nO3deVyVdd7/8fcREHIENMylEHABLVmOqGiUuZS7495kM43auE+O\n",
              "ubRok1mNt7Q4Wo0Zlo6mzji5Vd5Z3Q+tXEpz+SGZpiYKoiYuqLgkyPL9/eHtuT0CCsjhLLyej8f1\n",
              "0Ov7vc7F53sO58N1Pue6vpfFGGMEAAAAAAAAuIAqzg4AAAAAAAAAuIZiFQAAAAAAAFwGxSoAAAAA\n",
              "AAC4DIpVAAAAAAAAcBkUqwAAAAAAAOAyKFYBAAAAAADAZVCsAgAAAAAAgMugWAUAAAAAAACXQbEK\n",
              "AAAAAAAALsNjilVjx45VWFiYLBaLkpOTS/SYxYsXKyYmRpGRkXr44YeVnp7u2CABAAAAAABwUx5T\n",
              "rBowYIC+/fZbhYaGlmj7ffv26dlnn9WXX36p3bt368knn9To0aMdHCUAAAAAAABuxmOKVQ899JCC\n",
              "g4MLtW/fvl0dO3ZUy5Yt1bx5cy1fvlyStHv3bkVHR6tevXqSpO7du+uLL75QZmZmhcYNAAAAAACA\n",
              "/+Pt7AAc6dy5cxoxYoQ+//xz1atXT6dPn1ZsbKzi4+MVExOjpKQk/fzzz4qIiNCSJUtkjNHhw4cV\n",
              "FBTk7NABAAAAAAAqJY8uVm3evFmHDh1St27d7Nr379+vjh07KjExUYMGDVJeXp569OihGjVqyNvb\n",
              "o58SAAAAAAAAl+bRlRljjJo1a6bNmzcX2T9gwAANGDBAkpSRkaHXX39djRs3rsgQAQAAAAAAcB2P\n",
              "mbOqKPHx8UpNTdW6detsbcnJybpy5Yok6fjx45Kk/Px8Pf/883rqqadUrVo1p8QKAAAAAAAAyWKM\n",
              "Mc4OojyMHDlSa9asUUZGhoKCguTv76+UlBQlJSXpmWeeUWZmpnJzcxUSEqJPPvlEfn5+6tatmw4f\n",
              "PqycnBz16NFDb775pnx9fZ09FAAAAAAAgErLY4pVAAAAAAAAcH8efRkgAAAAAAAA3AvFKgAAAAAA\n",
              "ALgMjyhWvf32284OAQBKjdwFwB2RuwC4I3IX4F48olh1+PBhZ4cAAKVG7gLgjshdANwRuQtwLx5R\n",
              "rAIAAAAAAIBnoFgFAAAAAAAAl0GxCgAAAAAAAC6DYhUAAAAAAABcBsUqAAAAAAAAuAyKVQAAAAAA\n",
              "AHAZ3s4OAIDr2pxyWku2piv19EU1qFVdT7QOUXzjWs4Oq9Lg+QcAoHLhbz8Ad+SI3EWxCkCRNqec\n",
              "1qRVP+rXK3ny8/HSttRM7T6Wpdf6RXHQVAF4/gEAqFz42w/AHTkqd3EZIIAiLdmarl+v5KlugJ9q\n",
              "VququgF++vVKnv61Nd3ZoVUKPP8AAFQu/O0H4I4clbsoVgEoUurpi/Lz8ZLFYpEkWSwW+fl46dDp\n",
              "i06OrHLg+QcAoHLhbz8Ad+So3EWxCkCRGtSqruzcfBljJEnGGGXn5qvhXdWdHFnlwPMPAEDlwt9+\n",
              "AO7IUbmLYhWAIj3ROkTVqnor43y2zv56RRnns1Wtqrf+0DrE2aFVCjz/AABULvztB+COHJW7KFYB\n",
              "KFJ841p6rV+UWjcIkr+ft1o3CNJr/aMU34gJPisCzz8AAJULf/sBuCNH5S6KVQCKFd+4lt79Q6y+\n",
              "ePohvfuHWJc4WBo7dqzCwsJksViUnJwsScrMzJTVarUtERER8vb21pkzZyRJ7du3V4MGDWz9s2bN\n",
              "su3v5MmT6tq1q8LDwxUZGamNGzfedl95ccXnH0DZVKbcBaDsXO1vP7kLQEk4Ind5l0NcAFBhBgwY\n",
              "oOeee04PPvigrS0oKMh2ACVJM2bM0IYNG3TnnXfa2mbNmqU+ffoU2t+kSZPUpk0bffnll9q+fbv6\n",
              "9u2r1NRU+fj4lLkPAG5E7gLgjshdAJyFYhUAt/LQQw/dcpv58+crISGhRPtbtmyZUlJSJEmtWrXS\n",
              "3XffrQ0bNuiRRx4pc19RcnJylJOTY9eWn59fohgBuD9yFwB3RO4C4CxcBgjAo2zevFlnz55Vz549\n",
              "7donTZqkqKgoPfbYYzp06JCkq6ex5+bmqm7durbtwsLClJ6eXua+4iQkJCgwMNBu2bZtW3kNG4Cb\n",
              "I3cBcEfkLgCOQrEKgEeZP3++Bg0aJG/v/ztxdPHixdq3b5927dqltm3bFjqgqgiTJ09WVlaW3RIX\n",
              "F1fhcQBwTeQuAO6I3AXAUShWAfAYFy9e1LJly/SnP/3Jrr1+/fqSJIvFojFjxujQoUPKzMxUUFCQ\n",
              "vL29lZGRYds2LS1NISEhZe4rjq+vrwICAuwWLy+v8ho6ADdG7gLgjshdAByJYhUAj/HRRx8pJiZG\n",
              "TZs2tbXl5eXpxIkTtvWVK1eqTp06CgoKkiQ9+uijSkxMlCRt375dx44dU7t27W6rDwBKg9wFwB2R\n",
              "uwA4ksMmWM/OztbAgQP1008/6Y477lDt2rX13nvvqXHjxoW2/eyzz/TMM88oPz9fUVFRWrhwoQIC\n",
              "AhwVGgA3NnLkSK1Zs0YZGRnq0qWL/P39bRNuzp8/X8OHD7fbPicnRz169FBOTo6qVKmiWrVqafXq\n",
              "1bb+119/XX/84x8VHh6uqlWrasmSJbY7y5S1DwBuRO4C4I7IXQCcxWKMMY7YcXZ2tr7++mt169ZN\n",
              "FotFs2fP1ooVK7R+/Xq77S5evKhGjRppw4YNatq0qcaMGaM77rhDb775Zol/1oQJEzRz5sxyHgEA\n",
              "OBa5C4A7IncBcEfkLsC9OOwyQD8/P3Xv3l0Wi0WS1KZNG6WlpRXa7osvvlDz5s1tp4/++c9/1tKl\n",
              "S4vdb05Ojs6fP2+3cBtSAAAAAAAAz1Bhc1a9/fbb6t27d6H29PR0hYaG2tbDwsJ0/Phx5eXlFbkf\n",
              "bkMKAAAAAADguSqkWDV9+nSlpKQoISHhtvfFbUgBAAAAAAA8l8MmWL9mxowZWrVqldatW6dq1aoV\n",
              "6g8JCdHatWtt62lpaapXr568vYsOzdfXV76+vnZt3IYUAAAAAADAMzj0zKqZM2dq6dKlWrt2rWrU\n",
              "qFHkNl27dlVSUpL27dsnSZozZ44GDhzoyLAAAAAAAADgohx2ZtXRo0c1ceJENWzYUB06dJB09ayo\n",
              "rVu36qWXXtLdd9+tUaNGyd/fX/PmzVOfPn2Ul5enyMhIffjhh44KCwAAAAAAAC7MYcWq4OBgGWOK\n",
              "7Hv11Vft1nv16qVevXo5KhQAAAAAAAC4iQq7GyAAAAAAAABwKxSrAAAAAAAA4DIoVgEAAAAAAMBl\n",
              "UKwCAAAAAACAy6BYBQAAAAAAAJdBsQoAAAAAAAAug2IVAAAAAAAAXAbFKgAAAAAAALgMilUAAAAA\n",
              "AABwGRSrAAAAAAAA4DIoVgEAAAAAAMBlUKwCAAAAAACAy6BYBQAAAAAAAJdBsQqAWxk7dqzCwsJk\n",
              "sViUnJxsaw8LC1OTJk1ktVpltVr10Ucf2foOHDig+Ph4RUREqFWrVtqzZ49D+wDgRuQuAO6K/AXA\n",
              "KYwHGD9+vLNDAFBBNmzYYI4cOWJCQ0PNzp07be03rl+vQ4cOZsGCBcYYY5YvX25atmzp0L6SIncB\n",
              "lQe5C4C78pT8Re4C3AvFKgBuqaQHTCdOnDD+/v4mNzfXGGNMQUGBqVOnjjlw4IBD+oqTnZ1tsrKy\n",
              "7JaxY8eW07MBwF2QuwC4K3fKX+QuwP1xGSAAjzFo0CBFRUVp6NChOnXqlCTpyJEjqlevnry9vSVJ\n",
              "FotFISEhSk9Pd0hfcRISEhQYGGi3bNu2zZFPBwA3Qe4C4K5cNX+RuwD3R7EKgEfYuHGjdu3apaSk\n",
              "JNWqVUuDBw92dkh2Jk+erKysLLslLi7O2WEBcDJyFwB35cr5i9wFuD9vZwcAAOUhJCREkuTj46Nx\n",
              "48YpIiJCklS/fn0dP35ceXl58vb2ljFG6enpCgkJUUBAQLn3FcfX11e+vr52bV5eXo57QgC4BXIX\n",
              "AHflyvmL3AW4P86sAuD2Ll26pHPnztnWly5dqubNm0uSateurdjYWC1ZskSStHLlSgUHB6tx48YO\n",
              "6QOAkiJ3AXBX5C8ADuecqbLKFxOsA5XHiBEjzD333GO8vLxM7dq1TaNGjczBgweN1Wo1UVFRJjIy\n",
              "0vTq1cukpqbaHrNv3z7Tpk0bEx4eblq0aGF27drl0L6SIncBlQe5C4C78pT8Re4C3IvFGGOcXTC7\n",
              "XRMmTNDMmTOdHQYAlAq5C4A7IncBcEfkLsC9cBkgAAAAAAAAXAbFKgAAAAAAALgMilUAAAAAAABw\n",
              "GRSrAAAAAAAA4DIoVgEAAAAAAMBlUKwCAAAAAACAy6BYBQAAAAAAAJdBsQoAAAAAAAAug2IVAAAA\n",
              "AAAAXAbFKgAAAAAAALgMilUAAAAAAABwGRSrAAAAAAAA4DIoVgEAAAAAAMBlUKwCAAAAAACAy6BY\n",
              "BQAAAAAAAJdBsQoAAAAAAAAug2IVAAAAAAAAXAbFKgAAAAAAALgMhxarxo4dq7CwMFksFiUnJxe5\n",
              "zfr163XHHXfIarXalsuXLzsyLAAAAAAAALgob0fufMCAAXruuef04IMP3nS7Jk2aFFvMAgAAAAAA\n",
              "QOXh0DOrHnroIQUHB5frPnNycnT+/Hm7JT8/v1x/BgDXVdQZm9nZ2erTp48iIiIUExOjTp06KSUl\n",
              "xfaY9u3bq0GDBrazN2fNmmXrO3nypLp27arw8HBFRkZq48aNt90HADcidwFwR+QuAM7iEnNWHTx4\n",
              "ULGxsWrVqpXmzJlz020TEhIUGBhot2zbtq2CIgXgbAMGDNC3336r0NBQu/YRI0Zo//79+uGHH9S7\n",
              "d28NGzbMrn/WrFlKTk5WcnKyxo8fb2ufNGmS2rRpowMHDmjBggX6/e9/r9zc3NvqA4AbkbsAuCNy\n",
              "FwBncXqxKjY2VkePHlVSUpI+/vhjJSYmatmyZcVuP3nyZGVlZdktcXFxFRgxAGcq6oxNPz8/de/e\n",
              "XRaLRZLUpk0bpaWllWh/y5Yt06hRoyRJrVq10t13360NGzbcVl9ROCsUqNzIXQDcEbkLgLM4vVgV\n",
              "EBCgwMBASVJwcLAef/xxbdq0qdjtfX19FRAQYLd4eXlVVLgA3MDbb7+t3r1727VNmjRJUVFReuyx\n",
              "x3To0CFJUmZmpnJzc1W3bl3bdmFhYUpPTy9zX3E4KxTArZC7ALgjchcAR3B6ser48eMqKCiQJF24\n",
              "cEGfffaZmjdv7uSoALir6dOnKyUlRQkJCba2xYsXa9++fdq1a5fatm2rnj17VnhcnBUK4GbIXQDc\n",
              "EbkLgKM4tFg1cuRIBQcH6+jRo+rSpYsaN24sSRo2bJhWr14tSVq5cqWioqIUExOjNm3aqFOnTnry\n",
              "yScdGRYADzVjxgytWrVKX3zxhapVq2Zrr1+/viTJYrFozJgxOnTokDIzMxUUFCRvb29lZGTYtk1L\n",
              "S1NISEiZ+4rDWaEAikPuAuCOyF0AHMmhxaq5c+fq6NGjysvL04kTJ2x3iZg3b5569eolSRozZoz2\n",
              "7NmjH374QXv27NHLL79su/4ZAEpq5syZWrp0qdauXasaNWrY2q/ln2tWrlypOnXqKCgoSJL06KOP\n",
              "KjExUZK0fft2HTt2TO3atbutPgAoKXIXAHdE7gLgaN7ODgAASmPkyJFas2aNMjIy1KVLF/n7+2v9\n",
              "+vWaOHGiGjZsqA4dOki6+o3a1q1blZOTox49eignJ0dVqlRRrVq1bGd2StLrr7+uP/7xjwoPD1fV\n",
              "qlW1ZMkS+fj43FYfANyI3AXAHZG7ADiLxRhjnB3E7ZowYYJmzpzp7DAAoFTIXQDcEbkLgDsidwHu\n",
              "xekTrAMAAAAAAADXUKwCAAAAAACAy6BYBQAAAAAAAJdBsQoAAAAAAAAug2IVAAAAAAAAXAbFKgAA\n",
              "AAAAALgMb2cHAAAA4I7y8vK0cuVKHTx4UHl5ebb2l156yYlRAQAAuD+KVQAAAGUwcOBAZWRkKC4u\n",
              "Tl5eXs4OBwAAwGNQrAIAACiDH3/8Ufv27ZPFYnF2KAAAAB6lVHNW5efn65133nFULAAAAG6jfv36\n",
              "unLlirPDAAAA8DilOrPKy8tLH374ocaOHeuoeAAAANxC48aN1b59e/Xt21d+fn62do6TALiLrKws\n",
              "HTlyRJGRkc4OBQDslPpugJ06ddK//vUvR8QCAADgNnJyctS0aVPt3btXO3fu1M6dO5WcnOzssADg\n",
              "prp27apz587p4sWLiomJUc+ePbkxBACXU+o5q+bOnausrCwNHTpU1apVkzFGFotFZ86ccUR8AAAA\n",
              "LmnBggXODgEASu3EiROqUaOGli1bpt69e2vGjBmKjY3Vq6++6uzQAMCm1MUqvjEEAACQ8vLyNGvW\n",
              "LK1du1aS1KVLFz399NPy9ub+NQBcV25uriRp48aN6tq1q3x8fMhbAFxOqbNSaGiojh8/rv3796t9\n",
              "+/bKy8tTQUGBI2IDAABwWRMmTNDBgwf15z//WRaLRfPmzdPhw4e5GQ0AlxYZGalu3bpp7969euON\n",
              "N/Trr786OyQAKKTUxaoVK1Zo4sSJslgsSktL0549ezR58mR9/vnnjogPQCWwb98+NW3a1NlhAECp\n",
              "rF+/XsnJyapS5eoUoD169FBsbKyTowKAm1u4cKG+/PJLxcTEqFq1ajp27JgSEhKcHRYA2Cn1BOsJ\n",
              "CQlKSkpSzZo1JUkxMTE6fPhwuQcGoPLo2rWrOnXqpE8//VTGGGeHAwAlYoyxO7vcGEMOA+DyTp06\n",
              "pe7du6tBgwb67rvv9PHHH+uBBx5wdlgAYKfUxSovLy8FBQXZtVWtWrXcAgJQ+Rw6dEh//vOfNXv2\n",
              "bDVq1EhvvPEGN20A4PK6du2qzp07a9GiRVq0aJG6deumbt26OTssALip3r17q6CgQMeOHdPAgQP1\n",
              "3Xff6U9/+pOzwwIAO6UuVvn7++vEiROyWCySpK+++kp33nlnuQcGoPKoUqWK+vbtq7Vr12r58uWa\n",
              "PXu2goODNXz4cP3yyy/ODg8AivT666/r0Ucf1erVq7V69WoNGDBAr732mrPDAoBb8vPz05o1azRy\n",
              "5EgtXbpUP//8s7NDAgA7pZ6z6vXXX1e3bt106NAhPfjgg0pNTdWaNWscERuASuTAgQN69913tXz5\n",
              "cvXq1UvDhw/X119/ra5du2rXrl3ODg8ACqlSpYpGjx6t0aNHOzsUACixnJwc5eTkaO3atRo3bpyz\n",
              "wwGAIpX6zKqWLVvqm2++0dKlS/XCCy9oz549slqtDggNQGXRpUsXdenSRcHBwdqzZ4/ee+89xcbG\n",
              "6plnnil0t9GxY8cqLCxMFotFycnJtvYDBw4oPj5eERERatWqlfbs2eO0PgCe7e9//7skafz48Zow\n",
              "YUKhpSjkLgCu4vHHH1fdunWVnp6u+Ph4HT9+XNWqVSt2e/IXAKcwZZSVlWUyMzNtizONHz/eqT8f\n",
              "QNkVFBSYDz/80OTn55do+w0bNpgjR46Y0NBQs3PnTlt7hw4dzIIFC4wxxixfvty0bNnSaX0lRe4C\n",
              "3FNiYqIxxpiXX365yKUo5C4AruTs2bO2Y68LFy6Yo0ePFrutp+QvchfgXkpdrPrPf/5j7rrrLuPt\n",
              "7W18fHxs/zoTiQdwXwUFBaZZs2alftz1B0wnTpww/v7+Jjc317bPOnXqmAMHDlR4X3Gys7NNVlaW\n",
              "3TJ27NhSjxuA6/jhhx9K1HY9chcAZ8vNzTUzZswwo0ePNsYYk5KSYr766qtbPs6d8he5C3B/pb4M\n",
              "cPLkyfr888+Vm5urK1eu2P4FgLKwWCwKDg7W6dOny7yPI0eOqF69evL29rbtMyQkROnp6RXeV5yE\n",
              "hAQFBgbaLdu2bSvzmAE435AhQ0rUVhxyFwBnGDNmjPbt26dvvvlGkhQUFKTnnnuuVPtw9fxF7gLc\n",
              "X6knWK9bt65atmzpiFgAVFLVq1eX1WpV9+7dVb16dVv7zJkznRhV+Zo8eXKhuWymTJnipGgA3I6T\n",
              "J08qIyNDly9f1o8//ihjjCQpKytLly5dcnJ05YvcBXie77//XsnJyWrevLkkqUaNGsrNzXVyVOWL\n",
              "3AW4v1IXq0aMGKHp06drwIAB8vPzs7WHhISUa2AAKo+oqChFRUWV+fH169fX8ePHlZeXJ29vbxlj\n",
              "lJ6erpCQEAUEBFRoX3F8fX3l6+tr1+bl5VXmMQNwnqVLl+qtt97SL7/8ol69etnaAwMDS3V2ArkL\n",
              "gDNc/xlOkvLz8wvd0OZWXD1/kbsA91fqywBzcnI0bdo0tWnTRi1atFCLFi040wrAbenbt6+mTp1q\n",
              "t/Tt27fEj69du7ZiY2O1ZMkSSdLKlSsVHBysxo0bV3gfAM/39NNPKzU1VS+++KJSU1NtS3JysoYO\n",
              "HVri/ZC7ADhDdHS0lixZooKCAqWkpGjUqFFq3759qfZB/gLgcKWd5CokJMSkpKSUx3xZ5YYJ1gH3\n",
              "1rx58xK1GWPMiBEjzD333GO8vLxM7dq1TaNGjYwxxuzbt8+0adPGhIeHmxYtWphdu3bZHlPRfSVF\n",
              "7gI8w40T+RaF3AXAVVy4cMGMGDHC1K5d29SuXduMGDHCXLx4sdjtPSV/kbsA92Ix5n8nWiihBx54\n",
              "QN99952jamdlMmHCBI+a2waoLK7N+/LYY49p2bJldvO+DBs2TPv373dyhI5F7gLc29atWzVkyBD9\n",
              "/PPPdu35+flOiqhikLsAuCNyF+BeSj1nVceOHTVx4kQ99thjdtc7R0dHl2tgADxfec37AgDOMHbs\n",
              "WC1cuFCjRo3Sxo0b9c477xSaCwYAXNHWrVt18OBB5eXl2doGDRrkxIgAwF6pi1XXrhNetWqVrc1i\n",
              "sejQoUPlFxWASuHpp5/W008/rb/97W/coQWA28nNzVXr1q2Vl5cnf39//fWvf1WrVq00ceJEZ4cG\n",
              "AMUaPXq0/ud//kdWq9U26bjFYqFYBcCllLpYlZqa6og4AFRiU6ZMUUFBgTIyMuy+4eMuowBcmY+P\n",
              "jyQpKChISUlJql+/vk6dOuXkqADg5tatW6effvqJM0EBuLRSF6skadu2bVq3bp0kqXPnztwNEMBt\n",
              "+fDDD/WXv/xFPj4+qlLl6k1KLRaLTp486eTIAKB4AwcOVGZmpl544QW1a9dOubm5mjZtmrPDAoCb\n",
              "qlevnnx9fZ0dBgDcVKmLVe+//76mTZumfv36yWKxqH///poyZYqGDRvmiPgAVAKvvvqqtm/friZN\n",
              "mjg7FAAosfHjx0u6+sXdmTNnlJ2dLX9/fydHBQA317p1aw0YMKDQHMTXzx8KAM5W6mLV7Nmz9f/+\n",
              "3//TXXfdJUl64YUX9PDDD1OsAlBmtWrVolAFwO28//77GjBggO688075+Pjo/Pnz+uCDDzR8+HBn\n",
              "hwYAxdqxY4ck6b333rO1WSwWilUAXEqZLgO8Vqi68f8AUBZ9+vTRW2+9pd///vd23/AFBAQ4MSoA\n",
              "uLk5c+ZoxIgRtvWgoCDNmTOHYhUAl/bNN98UasvPz3dCJABQvCqlfUB4eLj++te/Kj09Xenp6Zoy\n",
              "ZYrCw8MdERuASuKvf/2rJkyYoLp166pmzZqqUaOGatas6eywAOCmjDGF2vjAB8DV3Ti3njGGOwEC\n",
              "cDmlLlYlJibq4MGDio2NVYsWLZSSkmJ3Cun1xo4dq7CwMFksFiUnJxe7z/nz5ys8PFyNGjXS8OHD\n",
              "lZubW9qwALixgoIC25Kfn2/7FwBcWb169bRs2TLb+kcffaR69eo5MSIAuLVNmzbpX//6l219xIgR\n",
              "TLgOwOWU+jJAi8Wi//znP3Ztp0+fLnLbAQMG6LnnntODDz5Y7P5SU1M1ZcoUJSUlqU6dOurdu7fe\n",
              "f/99PfXUU6UNDQAAoMK89dZb6t27t5577jlJUrVq1fTpp586OSoAuLnly5erY8eOuvvuu/Xf//3f\n",
              "unDhgv797387OywAsFPqYlXnzp2VlJR0yzZJeuihh265vxUrVqhXr16qW7euJGnUqFGaPn16scWq\n",
              "nJwc5eTk2LVxBgbg3qpUqSKLxVKonfc2AFfWtGlT/fTTT9q/f78kqUmTJvLy8nJyVABwcwEBAfrk\n",
              "k0/00EMPKSoqSqtWrVKVKqW+4AYAHKrExaorV64oOztb+fn5unDhgm2ehqysLF26dKnMAaSnpys0\n",
              "NNS2HhYWpvT09GK3T0hI0CuvvGLX1qZNmzL/fADOd+HCBdv/L1++rEWLFlGoAuCyLl26pN/85jc6\n",
              "f/68JCk4ONjWLnFzCACuqXnz5nZfDmZnZ+vAgQNq1aqVJBV58gEAOEuJi1XXikQWi0WBgYG29oCA\n",
              "AE2cONEhwRVl8uTJmjBhgl3blClTKuznAyh/v/nNb+z+P2HCBLVu3VrPPvusE6MCgKK1bdtWSUlJ\n",
              "qlGjhiwWi4wxdv9SbAfgit566y1nhwAAJVbiYtXUqVM1depUjR49utgJ1csiJCREBw8etK2npaUp\n",
              "JCSk2O19fX0LTQDIKfeAZ9m3b1+xc+EBgLNdO/ugoKDAyZEAQMm1a9dO0tUzqnx9fW1nWRUUFOjK\n",
              "lSvODA0ACin1xckvvPCCLZl99913mj17tt0lPKXVv39/rV69WhkZGTLGKDExUQMHDizz/gC4n5o1\n",
              "a+rOO+/UnXfeqYCAAMXFxemll15ydlgAAAAep2PHjrbLmKWr0zE88sgjTowIAAor9QTrvXv31ubN\n",
              "m3Xs2DENHDhQDz74oDZs2KDly5cX2nbkyJFas2aNMjIy1KVLF/n7+yslJUXDhg1Tr1691KtXLzVs\n",
              "2FCvvPKKHnjgAUlS+/btNXLkyNsfGQC3kZycbPu/t7e36tatyxmTAFxWzZo1i7wpxLXLAM+cOeOE\n",
              "qACgZH799Ve7aV0CAwN18eJFJ0YEAIWVulglSX5+flqzZo1GjhypF198UTExMUVuN3fu3CLb582b\n",
              "Z7c+fPhwDR8+vCyhAPAAoaGh+vXXX21Fq5o1a6patWrODQoAinF9gR0A3E1BQYEuXryo6tWrS5LO\n",
              "nz+vvLw8J0cFAPZKXazKyclRTk6O1q5dq3HjxjkgJACVzebNm9W/f3/VrVtXknTixAmtXLlS999/\n",
              "v5MjA4DCrr+L8aVLl7Rz505ZLBZZrVa7G0YAgCv6wx/+oEceeUSjRo2SJCUmJmrw4MFOjgoA7JW6\n",
              "WPX444+rbt26ioiIUHx8vI4fP84ZEABuy4QJE7RixQrb5cCbN2/W+PHj9f333zs5MgAo3ldffaXf\n",
              "//73uueee2SM0fHjx7V06VJ16NDB2aEBQLGef/551a1bV2vWrJEkjRkzRk888YSTowIAe6WeYP3F\n",
              "F19UamqqtmzZIovFIn9/f61YscIRsQGoJC5fvmwrVElSfHy8srOzS72fzMxMWa1W2xIRESFvb2+d\n",
              "OXNG7du3V4MGDWx9s2bNsj3u5MmT6tq1q8LDwxUZGamNGzfedh8Azzdu3DitXr1aSUlJ2rlzp1av\n",
              "Xq2xY8eWej/kLgAVbfDgwVq2bJmWLVtW5kIVuQuAI5X6zKriksI999xz28EAqJyqV6+udevW2e5E\n",
              "89VXX5XpUpqgoCC7uWRmzJihDRs26M4775QkzZo1S3369Cn0uEmTJqlNmzb68ssvtX37dvXt21ep\n",
              "qany8fEpcx8Az1elShW1bt3ath4XF1emm0OQuwBUhL///e+aOHGixo8fX+RNImbOnFmq/ZG7ADhS\n",
              "qYtVEydOtP0/Oztb+/fvV2RkpJKSkso1MACVxzvvvKN+/frZPuQVFBRo1apVt73f+fPnKyEh4Zbb\n",
              "LVu2TCkpKZKkVq1a6e6779aGDRv0yCOPlLnvRtfm+7tefn7+7Q4RgBN17txZCxcutM31snjxYnXu\n",
              "3Pm290vuAuAI1yZUr1GjhkP2T+4CUJ5KXazavn273fq2bdu0cOHC8ooHQCX0yy+/aMeOHTpx4oQk\n",
              "qU6dOtq2bdtt7XPz5s06e/asevbsaWubNGmSpkyZovvuu08JCQlq2LChMjMzlZuba5vcXZLCwsKU\n",
              "np5e5r6iJCQk6JVXXrFra9OmzW2NEYBzzZs3T1lZWRo5cqQkKTc3V4GBgfrggw9ksVh05syZUu+T\n",
              "3AXAUa7lqqlTp5b7vsldAMpbqYtVN4qLi7MlPgAoiylTpig5OVl33XWXJMkYoylTpqhHjx5l3uf8\n",
              "+fM1aNAgeXtfTXOLFy9W/fr1ZYzRu+++q549e+qnn34ql/hLYvLkyZowYYJd25QpUyrs5wMof9df\n",
              "/lJeyF0AHC0vL08rV67UwYMHlZeXZ2t/6aWXyrxPcheA8lbqYtWuXbts/8/Pz9fWrVuVm5tbrkEB\n",
              "qNwsFsttnap98eJFLVu2zO5M0Pr169v2PWbMGD3zzDPKzMxUUFCQvL29lZGRYfu2Li0tTSEhIWXu\n",
              "K4qvr698fX3t2soytw0A1xEaGqpLly5p586dslgsslqtZZpv7xpyF4CKMHDgQGVkZJR5nr0bkbsA\n",
              "OEKp7wbYu3dv9enTR71799bvfvc7rV69WosWLXJEbAAqCX9/f23evNm2/t1338nf37/M+/voo48U\n",
              "ExOjpk2bSrr6DeK1SwwlaeXKlapTp46CgoIkSY8++qgSExMlXb3U+dixY2rXrt1t9QHwfF999ZUa\n",
              "NmyosWPHasyYMWrUqJG++eabMu+P3AWgIvz444/atGmTZs6cqTfffNO2lBW5C4AjlPrMqrfffltt\n",
              "27ZVzZo1JUlnz561+5AJAKX1xhtvqG/fvraDnAMHDujjjz8u8/7mz5+v4cOH29ZzcnLUo0cP5eTk\n",
              "qEqVKqpVq5ZWr15t63/99df1xz/+UeHh4apataqWLFliu7NMWfsAeL5x48Zp9erVtjsCbtu2TUOH\n",
              "DtWPP/5Ypv2RuwBUhPr16+vKlSuFzjwqK3IXAEewGGNMaR5gtVrt5mgwxqhFixZOvRvghAkTSn2r\n",
              "VQCu5ezZs9qyZYskKT4+3mF3qnEl5C7AvcXExOiHH36wa7vxOMkTkbsA9/TOO+9Ikn766Sf98MMP\n",
              "6tu3r/z8/Gz9Y8eOdVZoFYLcBbiX255g/XbnlgEASapZs6a6d+/u7DAAoMQ6d+6shQsXavDgwZKu\n",
              "TijcuXNnJ0cFAEXbuXOnJOnUqVNq2rSp9u7da+s7deqUxxerALiXUherrs0tEx8fL+n255YBAABw\n",
              "R/PmzVNWVpZGjhwpY4zy8vIUGBioDz74QBaLRWfOnHF2iABgs2DBAklSbGysPvvsM7u+2NhYZ4QE\n",
              "AMUqdbGqvOeWAQAAcEeefrkfAM9y5coVZWdnKz8/XxcuXNC12WCysrJ06dIlJ0cHAPZKXay6//77\n",
              "tXfv3ko3twwAAMD17rjjDr388stKTk5Wdna2rd2Z83gCQHESEhL0yiuvyGKxKDAw0NYeEBCgiRMn\n",
              "OjEyACisSlkedG1ume7du1OoAgAAldLQoUMVGhqq06dP65VXXtHdd9+tHj16ODssACjS1KlTVVBQ\n",
              "oBEjRqigoMC2nDt3TlOmTHF2eABgp0zFKgAAgMruyJEjev755+Xr66vf/va3WrVqldatW+fssADg\n",
              "pt577z1nhwAAt0SxCgAAoAyqVq0qSfLz81NmZqa8vb11+vRpJ0cFAADg/ko9ZxUAAACkiIgIZWZm\n",
              "6oknnlDr1q0VEBCgFi1aODssAAAAt0exCgAAoAyWLFkiSXr66afVsmVLnT17Vl27dnVyVAAAAO6P\n",
              "YhUAAMBteuCBB5wdAgAAgMdgzioAAAAAAAC4DIpVAAAAAAAAcBkUqwAAAAAAAOAyKFYBAAAAAADA\n",
              "ZVCsAgAAAAAAgMugWAUAAAAAAACXQbEKAAAAAAAALoNiFQAAAAAAAFwGxSoAAAAAAAC4DIpVAAAA\n",
              "AAAAcBkUqwB4lLCwMDVp0kRWq1VWq1UfffSRJOnAgQOKj49XRESEWrVqpT179tge44g+ACgNchcA\n",
              "d0TuAuAwxgOMHz/e2SEAcBGhoaFm586dhdo7dOhgFixYYIwxZvny5aZly5YO7SsJcheAa8hdANwR\n",
              "uQuAo1iMMcbZBbPbNWHCBM2cOdPZYQBwAWFhYfrkk09ktVptbSdPnlTjxo115swZeXt7yxijevXq\n",
              "6dtvv1VAQEC59zVu3LhQXDk5OcrJybFrmzJlit5++21HPyUA3AC5C4A7IncBcBQuAwTgcQYNGqSo\n",
              "qCgNHTpUp06d0pEjR1SvXj15e3tLkiwWi0JCQpSenu6QvqIkJCQoMDDQbtm2bVsFPBsA3AW5C4A7\n",
              "IncBcASKVQA8ysaNG7Vr1y4lJSWpVq1aGjx4sLNDkiRNnjxZWVlZdktcXJyzwwLgIshdANwRuQuA\n",
              "o3g7OwAAKE8hISGSJB8fH40bN04RERGqX7++jh8/rry8PNup4+np6QoJCVFAQEC59xXF19dXvr6+\n",
              "dm1eXl4Ofz4AuAdyFwB3RO4C4CicWQXAY1y6dEnnzp2zrS9dulTNmzdX7dq1FRsbqyVLlkiSVq5c\n",
              "qeDgYDVu3NghfQBQGuQuAO6I3AXAkZhgHYDHOHTokPr376/8/HwZY9SwYUO9/fbbCgsL0/79+zVk\n",
              "yBBlZmYqICBACxYsUFRUlCQ5pK8kyF0AJHIXAPdE7gLgSBSrAMBJyF0A3BG5C4A7IncB7sWhlwEe\n",
              "OHBA8fHxioiIUKtWrbRnz55C26xfv1533HGHrFarbbl8+bIjwwIAAAAAAICLcugE6yNHjtSIESM0\n",
              "ZMgQrVixQkOGDNH27dsLbdekSRMlJyc7MhQAAAAAAAC4AYedWXXy5Ent2LFDTzzxhCSpf//+OnLk\n",
              "iFJSUm5rvzk5OTp//rzdkp+fXx4hAwAAAAAAwMkcVqw6cuSI6tWrJ2/vqydvWSwWhYSEKD09vdC2\n",
              "Bw8eVGxsrFq1aqU5c+bcdL8JCQkKDAy0W7Zt2+aQMQAAAAAAAKBiOXTOqpKIjY3V0aNHlZSUpI8/\n",
              "/liJiYlatmxZsdtPnjxZWVlZdktcXFwFRgwAAAAAAABHcVixqn79+jp+/Ljy8vIkScYYpaenKyQk\n",
              "xG67gIAABQYGSpKCg4P1+OOPa9OmTcXu19fXVwEBAXaLl5eXo4YBAAAAAACACuSwYlXt2rUVGxur\n",
              "JUuWSJJWrlyp4OBgNW7c2G6748ePq6CgQJJ04cIFffbZZ2revLmjwgIAAAAAAIALc+hlgHPnztXc\n",
              "uXMVERGh1157TQsWLJAkDRs2TKtXr5Z0tYgVFRWlmJgYtWnTRp06ddKTTz7pyLAAAAAAAADgorwd\n",
              "ufMmTZpoy5YthdrnzZtn+/+YMWM0ZswYR4YBAAAAAAAAN+H0CdYBAAAAAACAayhWAQAAAAAAwGVQ\n",
              "rAIAAAAAAIDLoFgFAAAAAAAAl0GxCgAAAAAAAC6DYhUAAAAAAABcBsUqAAAAAAAAuAyKVQAAAAAA\n",
              "AHAZFKsAAAAAAADgMihWAQAAAAAAwGVQrAIAAAAAAIDLoFgFwGNkZ2erT58+ioiIUExMjDp16qSU\n",
              "lBRJUvv27dWgQQNZrVZZrVbNmjXL9riTJ0+qa9euCg8PV2RkpDZu3HjbfQBQUuQuAO6I3AXAkbyd\n",
              "HQAAlKcRI0aoW7duslgsmj17toYNG6b169dLkmbNmqU+ffoUesykSZPUpk0bffnll9q+fbv69u2r\n",
              "1NRU+fj4lLkPAEqD3AXAHZG7ADgKZ1YB8Bh+fn7q3r27LBaLJKlNmzZKS0u75eOWLVumUaNGSZJa\n",
              "tWqlu+++Wxs2bLitvhvl5OTo/Pnzdkt+fv5tjReAZyB3AXBH5C4AjkSxCoDHevvtt9W7d2/b+qRJ\n",
              "kxQVFaXHHntMhw4dkiRlZmYqNzdXdevWtW0XFham9PT0MvcVJSEhQYGBgXbLtm3bynvIADwAuQuA\n",
              "OyJ3AShPFKsAeKTp06crJSVFCQkJkqTFixdr37592rVrl9q2bauePXtWaDyTJ09WVlaW3RIXF1eh\n",
              "MQBwfeQuAO6I3AWgvFGsAuBxZsyYoVWrVumLL75QtWrVJEn169eXJFksFo0ZM0aHDh1SZmamgoKC\n",
              "5O3trYyMDNvj09LSFBISUua+ovj6+iogIMBu8fLycsTwAbgpchcAd0TuAuAIFKsAeJSZM2dq6dKl\n",
              "Wrt2rWrUqCFJysvL04kTJ2zbrFy5UnXq1FFQUJAk6dFHH1ViYqIkafv27Tp27JjatWt3W30AUBrk\n",
              "LgDuiNwFwFG4GyAAj3H06FFNnDhRDRs2VIcOHSRd/Wbt66+/Vo8ePZSTk6MqVaqoVq1aWr16te1x\n",
              "r7/+uv74xz8qPDxcVatW1ZIlS2x3lilrHwCUFLkLgDsidwFwJIsxxjg7iNs1YcIEzZw509lhAECp\n",
              "kLsAuCNyFwB3RO4C3AuXAQIAAAAAAMBlUKwCAAAAAACAy6BYBQAAAAAAAJdBsQoAAAAAAAAug2IV\n",
              "AAAAAAAAXAbFKgAAAAAAALgMilUAAAAAAABwGRSrAAAAAAAA4DIoVgEAAAAAAMBlUKwCAAAAAACA\n",
              "y6BYBQAAAAAAAJdBsQoAAAAAAAAug2IVAAAAAAAAXAbFKgAAAAAAALgMilUAAAAAAABwGRSrAAAA\n",
              "AAAA4DIoVgEAAAAAAMBleDs7gIowdOE2fb3vlMz/rt9VvareHthc8Y1rOTUuAAAAAIBr2JxyWku2\n",
              "piv19EU1qFVdT7QO4TMj4CQef2bV0IXb9NV1hSpJOnXxiv60cLs2p5x2WlwAAAAAANewOeW0Jq36\n",
              "UdtSM3UhO0/bUjM1adWPfGYEnMTji1Xf7D9VZHt2XoH+tTW9gqMBAAAAALiaJVvT9euVPNUN8FPN\n",
              "alVVN8BPv17J4zMj4CQOvQzwwIEDGjx4sE6fPq3AwEAtXLhQzZo1K7Td/Pnz9dprr6mgoEAdO3bU\n",
              "nDlz5OPjUy4xFJji+w6dvlguPwNA5VXSPFcW15+K/svZy8rKzrP1Na8fqI+ferBcfg7gabiM49Yc\n",
              "mbse+ft6pZy6ZFv/TVUvfTCoJa8BgNvmyNy1+1iWMi9e0emLV2xtPl4WPjMCTuLQM6tGjhypESNG\n",
              "6Oeff9bzzz+vIUOGFNomNTVVU6ZM0aZNm5SSkqITJ07o/fffL7cYLDfpa3hX9XL7OQAqp5LkubK4\n",
              "/lT0lBMX7QpVkrTzSJb6vvttufwswJNwGUfJOCp33ViokqRLV/I16J/beA0A3DZHHncdOfOrbjzP\n",
              "ITff6Pi57HL5GQBKx2HFqpMnT2rHjh164oknJEn9+/fXkSNHlJKSYrfdihUr1KtXL9WtW1cWi0Wj\n",
              "Ro3S0qVLi91vTk6Ozp8/b7fk5+cXu723V/Hlqj+0DinlqADg/5Q0z0mlz13Xn4qeW8wpojuPZJXP\n",
              "QAAPwmUct+bI3HVjoeqavALDawDgtjj6uKu4C3LOXc4tj/ABlJLDilVHjhxRvXr15O199UpDi8Wi\n",
              "kJAQpafbH6ikp6crNDTUth4WFlZom+slJCQoMDDQbtm2bVux21exFF2s8vGyKL4Rp6MDKLuS5jmp\n",
              "9Lkr9fRF+fl4yVJMDgNQtBvfOxaLRX4+XlzGcR1H5q6b4TUAcDscfdwFwLW43QTrkydPVlZWlt0S\n",
              "FxdX7PY1f1NVFkm+3hbd4eMlX2+LLJJqVfetsJgBoLS5q0Gt6srOzZcxN5l4D0AhN753jDHKzs3n\n",
              "0v8yKm3uuhleAwAVpSzHXQBci8MmWK9fv76OHz+uvLw8eXt7yxij9PR0hYTYX3oXEhKigwcP2tbT\n",
              "0tIKbXM9X19f+fraF5q8vLyK3X7oA2F6/cv9upJnVMWSrwIjeVWx6E8PhpVtYADwv0qa56TS564n\n",
              "Wodo97EsZZzPlk8VS5GXAjavH3j7gwA8zPXvHT8fL2Xn5qtaVW8u/b+OI3NX47t+U+SlgN5VLLwG\n",
              "AG6Lo4+71v6Uodx8jrcAV+GwM6tq166t2NhYLVmyRJK0cuVKBQcHq3Hjxnbb9e/fX6tXr1ZGRoaM\n",
              "MUpMTNTAgQPLLY7hDzXS812bqG6gn7y9qqhuoJ+e79ZEw9s2KrefAaByKmmeK4v4xrX0Wr8otW4Q\n",
              "pMZ1qqvGHfbfLXA3QKBo1793/P281bpBkF7rH8Wl/9dxZO5aN7G9Gt/1G7u231T10qKhcbwGAG6L\n",
              "o4+7PnwyjuMtwIVYjAOvMdm/f7+GDBmizMxMBQQEaMGCBYqKitKwYcPUq1cv9erVS5L0wQcf6LXX\n",
              "XpMktW/fXomJifLx8Snxz5kwYYJmzpzpkDEAwM0Ul+dKgtwFwFnIXQDcEbkLqDwcdhmgJDVp0kRb\n",
              "tmwp1D5v3jy79eHDh2v48OGODAUAHKK4PAcArozcBcAdkbuAysPtJlgHAAAAAACA56JYBQAAAAAA\n",
              "AJdBsQoAAAAAAAAug2IVAAAAAAAAXIZD7wZYUfr166ewsLCbbpOfn69t27YpLi5OXl5eFRNYGbhD\n",
              "nO4Qo+QecXpijKGhoXr66acrIDL350m562bcfQzE71wVFT+5q+QqS+66FcboGdx9jOSukiN3/Z/K\n",
              "ME7G6NpKkrs8olhVEufPn1dgYKCysrIUEBDg7HCK5Q5xukOMknvESYy4FU94/t19DMTvXO4ef2VV\n",
              "GV43xugZKsMYUXKV5fehMoyTMbo/LgMEAAAAAACAy6BYBQAAAAAAAJdBsQoAAAAAAAAuo9IUq3x9\n",
              "fTV16lT5+vo6O5Sbcoc43SFGyT3iJEbciic8/+4+BuJ3LnePv7KqDK8bY/QMlWGMKLnK8vtQGcbJ\n",
              "GN1fpZlgHQAAAAAAAK6v0pxZBQAAAAAAANdHsQoAAAAAAAAug2IVAAAAAAAAXAbFKgAAAAAAALgM\n",
              "jytWHThwQPHx8YqIiFCrVq20Z8+eIrebP3++wsPD1ahRIw0fPly5ubkuF+fXX3+tuLg43XfffWrW\n",
              "rJmee+45FRQUuFSM1xhj1LFjR9WoUaPC4pNKHuOPP/6o9u3b695779W9996rVatWuVycBQUFmjBh\n",
              "gu677z5FR0erQ4cOSklJqbAYx44dq7CwMFksFiUnJxe7nbPfO57KXXJXcUoS//r163XHHXfIarXa\n",
              "lsuXLzsh2sLc/fe/JPG78vOfnZ2tPn36KCIiQjExMerUqVOx+e+zzz5T06ZNFR4ern79+un8+fMV\n",
              "HC1KojTHEM4WFhamJk2a2N4XH330kaSbj8ERfeWpuJxQ0WNy5HiLG2Nxr6c7jhEVz51eT3KXc/oc\n",
              "NUZyVxGMh+nQoYNZsGCBMcaY5cuXm5YtWxba5tChQ6ZevXrm+PHjpqCgwPz2t781s2fPdrk4k5KS\n",
              "zMGDB40xxly+fNk88MADtse4SozX/P3vfzfDhg0zgYGBFRPc/ypJjJcuXTINGjQwmzZtMsYYk5eX\n",
              "Z06ePFmRYZYozo8//tjExcWZK1euGGOM+dvf/mYeffTRCotxw4YN5siRIyY0NNTs3LmzyG1c4b3j\n",
              "qdwldxWnJPF/8803JiYmpmIDKyF3//0vSfyu/PxfvnzZrFmzxhQUFBhjjPnHP/5h2rVrV2i7Cxcu\n",
              "mNq1a5u9e/caY4x56qmnzDPPPFORoaKESnMM4WzFvW9uNgZH9JWn4nJCRY/JkeMtbow3y4PuNkZU\n",
              "PHd6Pcldzulz1BjJXYV5VLHqxIkTxt/f3+Tm5hpjjCkoKDB16tQxBw4csNvujTfeMCNHjrStr1mz\n",
              "xjzwwAMuF+eNnnrqKTN16tQKiLB0Me7evdu0bdvWpKSkVGixqqQxfvDBB+bxxx+vsLhuVNI4P/nk\n",
              "ExMTE2POnz9vCgoKzLPPPmvGjx9f4fHeLFE6+73jqdwldxWnpPG7crHkGnf//XfXYtWNtm/fbkJD\n",
              "Qwu1L1u2zHTp0sW2vmfPHnPPPfdUYGQoibIe5zhLUe+bm43BEX0VMbaKHlNFjbekH/jceYyoGO72\n",
              "epK7yF2uPsbb5VGXAR45ckT16tWTt7e3JMlisSgkJETp6el226Wnpys0NNS2HhYWVmgbV4jzehkZ\n",
              "GVqxYoV69uzpUjHm5uZq+PDhmjt3rry8vCokttLG+NNPP8nX11c9e/aU1WrVoEGDdOrUKZeL87e/\n",
              "/a3at2+vunXrql69evrqq6/06quvVlicJeHs946ncpfcVZzS5LSDBw8qNjZWrVq10pw5cyo61Nvi\n",
              "qs9/abjL8//222+rd+/ehdqLeg2OHz+uvLy8igwPt1CW4xxnGzRokKKiojR06FCdOnXqpmNwRF9F\n",
              "qOgxOXO8N76ezhg/3I87vp7kLs8aL7nLnkcVqzzV+fPn9dvf/lbPPfecWrZs6exw7Lzyyivq16+f\n",
              "7r33XmeHUqy8vDytW7dOc+fO1c6dO3XPPfdo9OjRzg6rkB07dmj37t06duyYfvnlFz388MMaNWqU\n",
              "s8MCyk1sbKyOHj2qpKQkffzxx0pMTNSyZcucHVal4S7P//Tp05WSkqKEhARnh4JKYuPGjdq1a5eS\n",
              "kpJUq1YtDR482Nkh4TbweqKy4Hfds/B6Fubt7ADKU/369W3fsHp7e8sYo/T0dIWEhNhtFxISooMH\n",
              "D9rW09LSCm3jCnFK0oULF9S1a1f17t1bEyZMcLkYN2zYoPT0dM2ePVt5eXk6f/68wsLCtH37dt11\n",
              "110uEWNISIg6dOige+65R5L0xBNPqEuXLg6NrSxxLlq0yG6S+sGDB6tz584VFmdJOPu946ncJXcV\n",
              "p6TxBwQE2P4fHBysxx9/XJs2bdLvfve7ig65TFz1+S8pd3j+Z8yYoVWrVmndunWqVq1aof6QkBCt\n",
              "XbvWtp6Wlmb3zSBcQ2mOc1zBtbh8fHw0btw4RURE3HQMAQEB5d5XESp6TM4ab1GvpzPGD/dD7nLN\n",
              "33Nyl+e9piXlUWdW1a5dW7GxsVqyZIkkaeXKlQoODlbjxo3ttuvfv79Wr16tjIwMGWOUmJiogQMH\n",
              "ulycFy9eVNeuXdW1a1e9+OKLFRZfaWLctGmTDh8+rLS0NH377bcKCAhQWlqawwtVpYnxd7/7nbZv\n",
              "3267Y9Tnn3+umJgYh8dX2jgbNmyor7/+WleuXJF09Y5XkZGRFRZnSTj7veOp3CV3Faek8R8/ftx2\n",
              "R9MLFy7os88+U/PmzSs83rJy1ee/pFz9+Z85c6aWLl2qtWvXFntn2a5duyopKUn79u2TJM2ZM8et\n",
              "XoPKoqQ5wRVcunRJ586ds60vXbpUzZs3v+kYHNFXESp6TM4Yb3GvpzPGD/fjTq8nuYvc5W5jLBMH\n",
              "zoflFPv27TNt2rQx4eHhpkWLFmbXrl3GGGOGDh1qPv30U9t277//vmnYsKFp2LCh+dOf/mS7A5sr\n",
              "xTlt2jTj7e1tYmJibMu0adNcKsbrpaamVvjdAEsa46JFi0yzZs1MVFSU6dq1q0lPT3e5OLOzs82w\n",
              "YcNM06ZNTVRUlOnUqZPtbpAVYcSIEeaee+4xXl5epnbt2qZRo0aFYjTG+e8dT+Uuuas4JYn/H//4\n",
              "h7nvvvtMdHS0ue+++8zUqVNtd39zNnf//S9J/K78/B85csRIMg0bNrT9vYuLizPGGDNlyhTz3nvv\n",
              "2bb99NNPTZMmTUyjRo1M7969zblz55wVNm6iuJzgag4ePGisVquJiooykZGRplevXiY1NdUYc/Mx\n",
              "OKKvPBWXEyp6TI4cb1FjvNnr6Y5jRMVzl9eT3EXucuUxlheLMcY4u2AGAAAAAAAASB52GSAAAAAA\n",
              "AADcG8UqAAAAAAAAuAyKVagwCxcutE2KK0mrV6/W+PHjJV29o1NiYmK57BcAytvLL7+s7OxsZ4cB\n",
              "AA731ltvKSMjw9lhAKhk0tLS7G6wYrVadeHChTLv78ZclpiYqDfffPN2QkQFY84qVJj27dtr3Lhx\n",
              "6tOnT6G+9evXa9y4cUpOTi7X/QJAebBYLDp79myxd6lztGu3FgYARwsLC9Mnn3wiq9VaqO/aHUWr\n",
              "VOH7bgDlKy0tTVar1e6ueLfjZrkM7oG/NJXY6tWrde+99yo6OlrPPfecatWqpbS0NElX39zXF45a\n",
              "tmyp9evXS7p6e/FWrVrJarWqVatW2rJli227sLAwvfTSS7r//vvVoEEDTZs2TZI0b9487dixQ+PH\n",
              "j5fVatXnn3+uhQsX2gpMo0aN0v79+2W1WtWrVy+tWLFCnTt3tu03Pz9foaGh+umnn+zGUNR+8/Pz\n",
              "9eyzzyoyMlKRkZH6y1/+oitXrkiShgwZopEjR+rhhx9WRESE+vXrZ+v77//+b0VHR8tqtSoyMlKf\n",
              "fvppeT7dAJxgy5YtevDBBxUTE6Po6Gh9+umnN81v06ZN07333iur1Sqr1arDhw9r1KhRkqS2bdvK\n",
              "arXq5MmTOnnypPr166eoqChFRkZq7ty5tv2FhYXpxRdfVHx8vOrXr6/ExEQtWLBA999/v8LCwvSf\n",
              "//zHtu327dvVsWNHtWzZUs2bN9fy5csl/d+3i88//7xiY2M1e/Zsxz9ZAFxaUflsx44dio+PV3R0\n",
              "tOLi4vTdd99JKnyGwsWLF2WxWGzrFotF06dPV1xcnBo0aKAFCxZIkl599VX98ssveuyxx2S1WpWc\n",
              "nKyXX35Z/fv3V5cuXRQZGanFixeX6BgNgOf7wx/+oJYtWyo6Olo9evRQRkaGLf8888wzio6OVrNm\n",
              "zbRu3TpJumnfjSwWi61wtXfvXnXp0kXR0dGKjo62XZFT3OfS4nLZuHHjJKnMnxdRwZx7M0I4y4kT\n",
              "J8ydd95p9uzZY4wxZu7cuUaS7RaZoaGhZufOnbbtW7RoYb755htjjDEnT560tW/ZssU0adLEth4a\n",
              "Gmr+8pe/GGOMOXXqlAkICDBHjx41xhjTrl078/HHH9u2XbBggendu7cxxphvvvnGxMTE2Pry8vJM\n",
              "aGio2bdvnzHGmFWrVpmOHTsWOZYb9ztnzhzTrl07k52dbXJzc023bt3Ma6+9ZowxZvDgwSYuLs5c\n",
              "unTJ5OXlmfj4ePPvf//bGGNMdHS02bx5szHGmPz8fHP27NlbPIue4S9/+YsJDQ01kuxe85tZtGiR\n",
              "iY6ONs2aNTMdO3Y0hw8fdmyQQBlkZmaa2rVrm40bNxpjrr6vMzMzi81vZ86cMYGBgebXX381xhhz\n",
              "6dIlc/nyZWOMMZLscsLvfvc7M2nSJGPM1XwaHBxstmzZYoy5mgfHjRtnjDHmwIEDxs/Pz/ztb38z\n",
              "xhizbds2U6tWLWOMMWfPnjVWq9X88ssvxpirObN+/frm6NGjJjU11UgyH374oYOeHfdH7kJlUlQ+\n",
              "O3HihKlfv7758ssvjTHGbNq0ydSpU8dcuHDBpKammsDAQNvjL1y4YK4/7JdkZsyYYYwxZu/evaZ6\n",
              "9eomNzfXGFP4GHDq1KmmXr16JiMjwxhTumM0AJ7t+s+FCQkJZuTIkbZjmHnz5hljrn5evOuuu8z5\n",
              "8+dv2Xd93rp27JWbm2vCw8Ntn9mMuXrMdOPPL+pz6Y257OmnnzbGlP3zIioWZ1ZVUt9//72io6N1\n",
              "3333SZKGDh2qqlWrluixO3fuVLt27RQZGWk7I+ry5cu2/t///veSpFq1aqlhw4ZKTU0tdXxeXl76\n",
              "85//rHfffVeS9O6772rMmDEleuy6des0ZMgQ+fr6ytvbW8OHD9fatWtt/X379lW1atXk5eWluLg4\n",
              "HTx4UJL08MMP6+mnn9Ybb7yhXbt2Oe1yn4o2YMAAffvttwoNDS3R9vv27dOzzz6rL7/8Urt379aT\n",
              "Tz6p0aNHOzhKoPS2bNmiJk2aqG3btpKuXrZy5513Frt9QECAwsPD9cQTT2ju3Lk6c+aM/Pz8itx2\n",
              "3bp1GjlypCSpdu3a6tevn903g4899pgkqXHjxvLz89OAAQMkXT2L68yZMzp37pw2b96sQ4cOqVu3\n",
              "brJarXrkkUckSfv375ck+fj46IknnrjNZ8FzkbtQmRSVz06cOKEqVaqoS5cukqQHH3xQderUKfGU\n",
              "Cn/4wx8kSU2bNpW3t/dN56nq3r276tSpI+n2jtEAeJZ///vfatmypSIjIzVv3jxb/vH29taQIUMk\n",
              "SW3atNHdd9+tnTt33rKvKPv371d2drYef/xxW1utWrUk3fpzaXHK+nkRFYtiFSTJ7tRw6WoSyc/P\n",
              "t61fm1j4ypUr6tevn2bMmKHdu3dr48aNkqScnBzbttd/uPPy8lJeXl6ZYho+fLiWL1+uHTt2KCUl\n",
              "Rb169SrTfm4cW3HxzZw5UwsWLFC1atU0ePBgvfHGG2X6ee7moYceUnBwcKH24i5P2r17t6Kjo1Wv\n",
              "Xj1JVw9gv/jiC2VmZlZo3EBZFZffvLy89P3332vcuHE6efKk2rRpo02bNpVon7fKM9fWLRaLLBaL\n",
              "8vLyZIxRs2bNlJycbFvS09PVsWNHSVK1atWYF+YmyF1AYddyUXF57nqlOV6rXr263Xp5HaMBcF/f\n",
              "fvut3nnnHX3++efavXu3Zs6cedOb0dx4rFTSvuKU5HNpSZX08yIqFkfBldT999+vXbt22e6i989/\n",
              "/tPuWtzGjRtr69atkqRt27bZvunPzs7WlStXFBISIkn6xz/+UeKfGRAQoKysrBL31axZU71791bf\n",
              "vn01cuRIeXl5leixjzzyiBYtWqQrV64oLy9P8+bNs5tboTj79u1Ts2bNNGbMGI0ePVrff/99icfm\n",
              "ac6dO6cRI0boX//6l3bs2KG1a9dq4sSJOnbsmGJiYpSUlKSff/5ZkrRkyRIZY3T48GEnRw3Yi4+P\n",
              "14EDB2wFp4KCAp05c6bY/HbhwgWdOHFCbdu21ZQpU/Tggw/avunz9/cvlGc++OADSdKpU6e0atUq\n",
              "derUqdTxpaam2p2RlZyczLwIt4HcBU9VVD6rU6eOCgoKbGcDbN68WRkZGbJarapbt66MMbZ5pBYt\n",
              "WlTin3Wz47VrSnqMBsBznT17Vv7+/goKCtKVK1fs5u/My8vT4sWLJV091vrll19sE53frK8oTZo0\n",
              "UbVq1bR06VJb2+nTp2/5ufRmuaysnxdRsShWVVJ33XWX/vnPf6pv376KiYnRgQMHFBQUZOufNm2a\n",
              "3n33XcXExOif//ynmjVrJunqm37atGmKi4tTixYtSnzpoCSNGDFC06dPt02Efr1rE+xFRkbafTs3\n",
              "fPhwnTp1SsOHDy/xfkeMGKHY2FjFxsbKarUqLCzMNpnezbzwwgtq1qyZmjdvrsWLF+vll18u8dg8\n",
              "zc0uTwoPD1diYqIGDRqkli1bKjMzUzVq1OBOZXA5NWvW1Mcff6xJkyYpOjpasbGx+u6774rNb1lZ\n",
              "WbZJ06Ojo5Wbm6vBgwdLkiZOnKhOnTrZJlh/5513tHfvXkVFRalDhw7661//qtatW5c6vjVr1mj6\n",
              "9OmKiYnRfffdp0mTJtnutoXSI3fBUxWVz7Zu3apVq1Zp6tSpio6O1rhx47RixQpVr15d3t7e+sc/\n",
              "/qGePXuqVatWys3NLfHPGjt2rIYPH26blLg4JTlGA+C5unbtqiZNmtguUb6+4BQYGKjdu3crJiZG\n",
              "Tz75pP7973/L39//ln1F8fb21qeffqoFCxYoKipKMTExWrly5S0/l94sl5X18yIqlsUYY5wdBFxD\n",
              "rVq1tGPHDoWFhTk7FJsZM2Zo7969mj9/vrND8XjX3951zZo1+q//+i9t3rz5lo/LyMhQWFiYzpw5\n",
              "o2rVqlVApADwf8hdgHNwjAagKGlpabJarbY7+ZW0D7gRXyfCZTVr1kwWi0Vffvmls0OpdK6/POna\n",
              "mQnJycm67777VLVqVR0/flz16tVTfn6+nn/+eT311FN82APgdOQuoGJwjAYAcDTOrAIquZEjR2rN\n",
              "mjXKyMhQUFCQ/P39lZKSoqSkJD3zzDPKzMxUbm6uQkJC9Mknn8jPz0/dunXT4cOHlZOTox49eujN\n",
              "N9+Ur6+vs4cCoBIhdwEAAHguilUAAAAAAABwGUywDgAAAAAAAJdBsQoAAAAAAAAug2IVAAAAAAAA\n",
              "XAbFKgAAAAAAALgMilUAAAAAAABwGRSrAAAAAAAA4DIoVgEAAAAAAMBlUKwCAAAAAACAy6BYBQAA\n",
              "AAAAAJdBsQoAAAAAAAAu4/8Dp08SOm0nxUEAAAAASUVORK5CYII=\n",
              "\">\n",
              "        \n",
              "      </div>\n",
              "      <script></script>\n",
              "      <script type=\"text/javascript\">\n",
              "        (() => {\n",
              "          const chartElement = document.getElementById(\"chart-7764484f-af5d-4508-ac5f-5b6868241956\");\n",
              "          async function getCodeForChartHandler(event) {\n",
              "            const chartCodeResponse =  await google.colab.kernel.invokeFunction(\n",
              "                'getCodeForChart', [\"chart-7764484f-af5d-4508-ac5f-5b6868241956\"], {});\n",
              "            const responseJson = chartCodeResponse.data['application/json'];\n",
              "            await google.colab.notebook.addCell(responseJson.code, 'code');\n",
              "          }\n",
              "          chartElement.onclick = getCodeForChartHandler;\n",
              "        })();\n",
              "      </script>\n",
              "      <style>\n",
              "        .colab-quickchart-chart-with-code  {\n",
              "            display: block;\n",
              "            float: left;\n",
              "            border: 1px solid transparent;\n",
              "        }\n",
              "\n",
              "        .colab-quickchart-chart-with-code:hover {\n",
              "            cursor: pointer;\n",
              "            border: 1px solid #aaa;\n",
              "        }\n",
              "      </style>"
            ]
          },
          "metadata": {}
        }
      ]
    },
    {
      "cell_type": "code",
      "source": [
        "sns.violinplot(x=df[\"width\"])"
      ],
      "metadata": {
        "colab": {
          "base_uri": "https://localhost:8080/",
          "height": 467
        },
        "id": "F59-xbooqO41",
        "outputId": "01c1ea39-1843-405f-94c8-3c5383eb5e88"
      },
      "execution_count": null,
      "outputs": [
        {
          "output_type": "execute_result",
          "data": {
            "text/plain": [
              "<Axes: xlabel='width'>"
            ]
          },
          "metadata": {},
          "execution_count": 16
        },
        {
          "output_type": "display_data",
          "data": {
            "text/plain": [
              "<Figure size 640x480 with 1 Axes>"
            ],
            "image/png": "[encoded data removed]"
          },
          "metadata": {}
        }
      ]
    },
    {
      "cell_type": "code",
      "source": [
        "sns.violinplot(x=df[\"application\"])"
      ],
      "metadata": {
        "colab": {
          "base_uri": "https://localhost:8080/",
          "height": 467
        },
        "id": "QrNrt4yksoUF",
        "outputId": "354d8e29-de7f-46cc-81d6-dbd3527d560a"
      },
      "execution_count": null,
      "outputs": [
        {
          "output_type": "execute_result",
          "data": {
            "text/plain": [
              "<Axes: xlabel='application'>"
            ]
          },
          "metadata": {},
          "execution_count": 17
        },
        {
          "output_type": "display_data",
          "data": {
            "text/plain": [
              "<Figure size 640x480 with 1 Axes>"
            ],
            "image/png": "[encoded data removed]"
          },
          "metadata": {}
        }
      ]
    },
    {
      "cell_type": "code",
      "source": [
        "sns.violinplot(x=df[\"country\"])"
      ],
      "metadata": {
        "colab": {
          "base_uri": "https://localhost:8080/",
          "height": 467
        },
        "id": "hB44dEoXsrx2",
        "outputId": "81ef4dae-fa8c-43c2-f7ae-4cbc514b04ba"
      },
      "execution_count": null,
      "outputs": [
        {
          "output_type": "execute_result",
          "data": {
            "text/plain": [
              "<Axes: xlabel='country'>"
            ]
          },
          "metadata": {},
          "execution_count": 18
        },
        {
          "output_type": "display_data",
          "data": {
            "text/plain": [
              "<Figure size 640x480 with 1 Axes>"
            ],
            "image/png": "[encoded data removed]"
          },
          "metadata": {}
        }
      ]
    },
    {
      "cell_type": "markdown",
      "source": [
        "Exploratory data Analysis"
      ],
      "metadata": {
        "id": "5jAeg7KIs5Dc"
      }
    },
    {
      "cell_type": "code",
      "source": [
        "df.info()"
      ],
      "metadata": {
        "colab": {
          "base_uri": "https://localhost:8080/"
        },
        "id": "cVsgGT7Ms7s6",
        "outputId": "fe1a60e4-c2e9-4c04-9235-343ea2d6e994"
      },
      "execution_count": null,
      "outputs": [
        {
          "output_type": "stream",
          "name": "stdout",
          "text": [
            "<class 'pandas.core.frame.DataFrame'>\n",
            "RangeIndex: 181673 entries, 0 to 181672\n",
            "Data columns (total 14 columns):\n",
            " #   Column         Non-Null Count   Dtype  \n",
            "---  ------         --------------   -----  \n",
            " 0   id             181671 non-null  object \n",
            " 1   item_date      181670 non-null  object \n",
            " 2   quantity tons  181672 non-null  float64\n",
            " 3   customer       181672 non-null  float64\n",
            " 4   country        181645 non-null  float64\n",
            " 5   status         181671 non-null  object \n",
            " 6   item type      181673 non-null  object \n",
            " 7   application    181649 non-null  float64\n",
            " 8   thickness      181672 non-null  float64\n",
            " 9   width          181673 non-null  float64\n",
            " 10  material_ref   103754 non-null  object \n",
            " 11  product_ref    181673 non-null  int64  \n",
            " 12  delivery date  181670 non-null  object \n",
            " 13  selling_price  181672 non-null  float64\n",
            "dtypes: float64(7), int64(1), object(6)\n",
            "memory usage: 19.4+ MB\n"
          ]
        }
      ]
    },
    {
      "cell_type": "code",
      "source": [
        "df.isnull().sum()"
      ],
      "metadata": {
        "colab": {
          "base_uri": "https://localhost:8080/"
        },
        "id": "D1GbPMQ2tCnT",
        "outputId": "e42420df-1800-4d92-efe8-0c1a7b4127f2"
      },
      "execution_count": null,
      "outputs": [
        {
          "output_type": "execute_result",
          "data": {
            "text/plain": [
              "id                   2\n",
              "item_date            3\n",
              "quantity tons        1\n",
              "customer             1\n",
              "country             28\n",
              "status               2\n",
              "item type            0\n",
              "application         24\n",
              "thickness            1\n",
              "width                0\n",
              "material_ref     77919\n",
              "product_ref          0\n",
              "delivery date        3\n",
              "selling_price        1\n",
              "dtype: int64"
            ]
          },
          "metadata": {},
          "execution_count": 20
        }
      ]
    },
    {
      "cell_type": "code",
      "source": [
        "print(df['material_ref'].isnull)"
      ],
      "metadata": {
        "colab": {
          "base_uri": "https://localhost:8080/"
        },
        "id": "uL4wciYZuEuh",
        "outputId": "ae4b50d9-d7b3-4afc-cbe4-2430716a9254"
      },
      "execution_count": null,
      "outputs": [
        {
          "output_type": "stream",
          "name": "stdout",
          "text": [
            "<bound method Series.isnull of 0                     DEQ1 S460MC\n",
            "1                          104991\n",
            "2                        S0380700\n",
            "3         DX51D+ZM310MAO 2.3X1317\n",
            "4                 2_S275JR+AR-CL1\n",
            "                   ...           \n",
            "181668                    1000777\n",
            "181669                    1000227\n",
            "181670                    1004216\n",
            "181671                    1001149\n",
            "181672                    1005439\n",
            "Name: material_ref, Length: 181673, dtype: object>\n"
          ]
        }
      ]
    },
    {
      "cell_type": "markdown",
      "source": [
        "material_ref has large set of null values, so replacing them with unknown"
      ],
      "metadata": {
        "id": "Pp8ck-2Nu2f2"
      }
    },
    {
      "cell_type": "code",
      "source": [
        "df['material_ref'].fillna('unknown', inplace=True)"
      ],
      "metadata": {
        "id": "Py3nmUkav36K"
      },
      "execution_count": null,
      "outputs": []
    },
    {
      "cell_type": "code",
      "source": [
        "df.isnull().sum()"
      ],
      "metadata": {
        "colab": {
          "base_uri": "https://localhost:8080/"
        },
        "id": "NI4ZlWSHv-3i",
        "outputId": "a14b29c2-9b5a-498c-c429-149d3090565c"
      },
      "execution_count": null,
      "outputs": [
        {
          "output_type": "execute_result",
          "data": {
            "text/plain": [
              "id                2\n",
              "item_date         3\n",
              "quantity tons     1\n",
              "customer          1\n",
              "country          28\n",
              "status            2\n",
              "item type         0\n",
              "application      24\n",
              "thickness         1\n",
              "width             0\n",
              "material_ref      0\n",
              "product_ref       0\n",
              "delivery date     3\n",
              "selling_price     1\n",
              "dtype: int64"
            ]
          },
          "metadata": {},
          "execution_count": 24
        }
      ]
    },
    {
      "cell_type": "markdown",
      "source": [
        "Delete Null Values"
      ],
      "metadata": {
        "id": "gKvYEAJ1wosU"
      }
    },
    {
      "cell_type": "code",
      "source": [
        "df = df.dropna()"
      ],
      "metadata": {
        "id": "h37l2bSCwsfh"
      },
      "execution_count": null,
      "outputs": []
    },
    {
      "cell_type": "markdown",
      "source": [
        "Draw box plot"
      ],
      "metadata": {
        "id": "a5a4UNPzw45V"
      }
    },
    {
      "cell_type": "code",
      "source": [
        "sns.boxplot(data = df)"
      ],
      "metadata": {
        "colab": {
          "base_uri": "https://localhost:8080/",
          "height": 463
        },
        "id": "j-JlcCe2w8Z2",
        "outputId": "fc313b0b-d1d7-481f-f78e-47ec97681f1e"
      },
      "execution_count": null,
      "outputs": [
        {
          "output_type": "execute_result",
          "data": {
            "text/plain": [
              "<Axes: >"
            ]
          },
          "metadata": {},
          "execution_count": 26
        },
        {
          "output_type": "display_data",
          "data": {
            "text/plain": [
              "<Figure size 640x480 with 1 Axes>"
            ],
            "image/png": "[encoded data removed]"
          },
          "metadata": {}
        }
      ]
    },
    {
      "cell_type": "code",
      "source": [
        "dfr=df.copy()"
      ],
      "metadata": {
        "id": "GjhWdyn2xBr2"
      },
      "execution_count": null,
      "outputs": []
    },
    {
      "cell_type": "code",
      "source": [
        "a = dfr['selling_price'] <= 0\n",
        "print(a.sum())\n",
        "dfr.loc[a, 'selling_price'] = np.nan\n",
        "\n",
        "a = dfr['quantity tons'] <= 0\n",
        "print(a.sum())\n",
        "dfr.loc[a, 'quantity tons'] = np.nan\n",
        "\n",
        "a = dfr['thickness'] <= 0\n",
        "print(a.sum())"
      ],
      "metadata": {
        "colab": {
          "base_uri": "https://localhost:8080/"
        },
        "id": "9v09x4elxIOC",
        "outputId": "abf8071c-3469-40af-bf6b-265edf087c79"
      },
      "execution_count": null,
      "outputs": [
        {
          "output_type": "stream",
          "name": "stdout",
          "text": [
            "7\n",
            "4\n",
            "0\n"
          ]
        }
      ]
    },
    {
      "cell_type": "code",
      "source": [
        "\n",
        "dfr.isnull().sum()"
      ],
      "metadata": {
        "colab": {
          "base_uri": "https://localhost:8080/"
        },
        "id": "vdd3GwNMxK1R",
        "outputId": "1510e972-14a1-4c40-b6f8-1ac960bb6f91"
      },
      "execution_count": null,
      "outputs": [
        {
          "output_type": "execute_result",
          "data": {
            "text/plain": [
              "id               0\n",
              "item_date        0\n",
              "quantity tons    4\n",
              "customer         0\n",
              "country          0\n",
              "status           0\n",
              "item type        0\n",
              "application      0\n",
              "thickness        0\n",
              "width            0\n",
              "material_ref     0\n",
              "product_ref      0\n",
              "delivery date    0\n",
              "selling_price    7\n",
              "dtype: int64"
            ]
          },
          "metadata": {},
          "execution_count": 29
        }
      ]
    },
    {
      "cell_type": "code",
      "source": [
        "dfr['selling_price_log'] = np.log(dfr['selling_price'])\n",
        "sns.distplot(dfr['selling_price_log'])\n",
        "plt.show()\n",
        "\n",
        "dfr['quantity tons_log'] = np.log(dfr['quantity tons'])\n",
        "sns.distplot(dfr['quantity tons_log'])\n",
        "plt.show()\n",
        "\n",
        "dfr['thickness_log'] = np.log(dfr['thickness'])\n",
        "sns.distplot(dfr['thickness_log'])\n",
        "plt.show()"
      ],
      "metadata": {
        "colab": {
          "base_uri": "https://localhost:8080/",
          "height": 1000
        },
        "id": "EZ9JUmmAxY4i",
        "outputId": "514339db-61e0-4898-9cb0-898e353b27f4"
      },
      "execution_count": null,
      "outputs": [
        {
          "output_type": "display_data",
          "data": {
            "text/plain": [
              "<Figure size 640x480 with 1 Axes>"
            ],
            "image/png": "[encoded data removed]"
          },
          "metadata": {}
        },
        {
          "output_type": "display_data",
          "data": {
            "text/plain": [
              "<Figure size 640x480 with 1 Axes>"
            ],
            "image/png": "[encoded data removed]"
          },
          "metadata": {}
        },
        {
          "output_type": "display_data",
          "data": {
            "text/plain": [
              "<Figure size 640x480 with 1 Axes>"
            ],
            "image/png": "[encoded data removed]"
          },
          "metadata": {}
        }
      ]
    },
    {
      "cell_type": "markdown",
      "source": [
        "Categorical Data Convert Into Numerical Data"
      ],
      "metadata": {
        "id": "MoBYLq9nzkAN"
      }
    },
    {
      "cell_type": "code",
      "source": [
        "from sklearn.preprocessing import OrdinalEncoder\n",
        "OE = OrdinalEncoder()\n",
        "dfr.status = OE.fit_transform(dfr[['status']])\n",
        "dfr['item type'] = OE.fit_transform(dfr[['item type']])"
      ],
      "metadata": {
        "id": "ngKSI6BExkGP"
      },
      "execution_count": null,
      "outputs": []
    },
    {
      "cell_type": "code",
      "source": [
        "dfr = dfr.dropna()"
      ],
      "metadata": {
        "id": "RrR7EwL_zugd"
      },
      "execution_count": null,
      "outputs": []
    },
    {
      "cell_type": "markdown",
      "source": [
        "Regression - split data into X, y"
      ],
      "metadata": {
        "id": "kZptYH-rz1JN"
      }
    },
    {
      "cell_type": "code",
      "source": [
        "X=dfr[['quantity tons_log','status','item type','application','thickness_log','width','country','customer','product_ref']]\n",
        "y=dfr['selling_price_log']"
      ],
      "metadata": {
        "id": "64iWvbNbzwuW"
      },
      "execution_count": null,
      "outputs": []
    },
    {
      "cell_type": "code",
      "source": [
        "from sklearn.preprocessing import StandardScaler\n",
        "SS = StandardScaler()\n",
        "SS.fit_transform(X)"
      ],
      "metadata": {
        "colab": {
          "base_uri": "https://localhost:8080/"
        },
        "id": "Jjw8MeBo0wwE",
        "outputId": "b0831814-59c3-4682-e32b-b425fdd0034d"
      },
      "execution_count": null,
      "outputs": [
        {
          "output_type": "execute_result",
          "data": {
            "text/plain": [
              "array([[ 0.41506739,  0.70620108,  0.82144631, ..., -0.69225033,\n",
              "        -0.75771563,  1.66790511],\n",
              "       [ 2.25042993,  0.70620108,  0.82144631, ..., -0.81517858,\n",
              "        -0.29403459,  1.66498251],\n",
              "       [ 1.77453529,  0.70620108,  1.76911846, ..., -0.61029817,\n",
              "        -0.78103392, -0.65974878],\n",
              "       ...,\n",
              "       [ 1.34669579,  0.70620108,  0.82144631, ..., -0.81517858,\n",
              "        -0.31475754, -0.43186654],\n",
              "       [-1.34846834,  0.70620108,  0.82144631, ..., -0.81517858,\n",
              "        -0.31475754, -0.43186654],\n",
              "       [ 1.81043496,  0.70620108,  0.82144631, ..., -0.81517858,\n",
              "        -0.31475754, -0.43186654]])"
            ]
          },
          "metadata": {},
          "execution_count": 37
        }
      ]
    },
    {
      "cell_type": "code",
      "source": [
        "from sklearn.model_selection import train_test_split\n",
        "X_train, X_test, y_train, y_test = train_test_split(X, y, test_size = 0.3, random_state = 5)\n",
        "print(X_train.shape)\n",
        "print(X_test.shape)\n",
        "print(y_train.shape)\n",
        "print(y_test.shape)"
      ],
      "metadata": {
        "colab": {
          "base_uri": "https://localhost:8080/"
        },
        "id": "JN7e7bLe1AEP",
        "outputId": "dd4e7eef-05e7-4161-a1c8-d1d6d4496c0e"
      },
      "execution_count": null,
      "outputs": [
        {
          "output_type": "stream",
          "name": "stdout",
          "text": [
            "(127134, 9)\n",
            "(54486, 9)\n",
            "(127134,)\n",
            "(54486,)\n"
          ]
        }
      ]
    },
    {
      "cell_type": "markdown",
      "source": [
        "Import Regression Algorithm"
      ],
      "metadata": {
        "id": "fA7nY1PK1Tq1"
      }
    },
    {
      "cell_type": "code",
      "source": [
        "from sklearn.tree import DecisionTreeRegressor\n",
        "from sklearn.linear_model import LinearRegression\n",
        "from sklearn.model_selection import GridSearchCV\n",
        "from sklearn.ensemble import RandomForestRegressor\n",
        "from sklearn.ensemble import GradientBoostingRegressor"
      ],
      "metadata": {
        "id": "ty4Rt7fA1PYL"
      },
      "execution_count": null,
      "outputs": []
    },
    {
      "cell_type": "code",
      "source": [
        "lr = LinearRegression()\n",
        "lr.fit(X_train, y_train)\n",
        "print(lr.score(X_train, y_train))\n",
        "print(lr.score(X_test, y_test))"
      ],
      "metadata": {
        "colab": {
          "base_uri": "https://localhost:8080/"
        },
        "id": "485-Eeqa1Zqv",
        "outputId": "aa8e9bb1-e7fa-492b-d6ee-3d801c2a4640"
      },
      "execution_count": null,
      "outputs": [
        {
          "output_type": "stream",
          "name": "stdout",
          "text": [
            "0.08464529095644657\n",
            "0.07805457004731131\n"
          ]
        }
      ]
    },
    {
      "cell_type": "code",
      "source": [
        "rf = RandomForestRegressor(n_estimators = 20, max_depth = 4, random_state = 42)\n",
        "rf.fit(X_train, y_train)\n",
        "print(rf.score(X_train, y_train))\n",
        "print(rf.score(X_test,y_test))"
      ],
      "metadata": {
        "colab": {
          "base_uri": "https://localhost:8080/"
        },
        "id": "D_s2XQ2s1gbl",
        "outputId": "25626813-56ec-4f8d-b470-74297264d404"
      },
      "execution_count": null,
      "outputs": [
        {
          "output_type": "stream",
          "name": "stdout",
          "text": [
            "0.8736436626286413\n",
            "0.8867180545575358\n"
          ]
        }
      ]
    },
    {
      "cell_type": "code",
      "source": [
        "gbr = GradientBoostingRegressor(n_estimators = 10, learning_rate = 0.1, random_state =42)\n",
        "gbr.fit(X_train,y_train)\n",
        "print(gbr.score(X_train,y_train))\n",
        "print(gbr.score(X_test,y_test))"
      ],
      "metadata": {
        "colab": {
          "base_uri": "https://localhost:8080/"
        },
        "id": "F4SFwzgv1jaJ",
        "outputId": "72e85bf2-f85b-43c0-dd84-520464cd35c7"
      },
      "execution_count": null,
      "outputs": [
        {
          "output_type": "stream",
          "name": "stdout",
          "text": [
            "0.7627437653996635\n",
            "0.7738696934709421\n"
          ]
        }
      ]
    },
    {
      "cell_type": "code",
      "source": [
        "dtr = DecisionTreeRegressor()\n",
        "# hyperparameters\n",
        "param_grid = {'max_depth': [2, 5, 10, 20],\n",
        "              'min_samples_split': [2, 5, 10],\n",
        "              'min_samples_leaf': [1, 2, 4],\n",
        "              'max_features': ['auto', 'sqrt', 'log2']}\n",
        "# gridsearchcv\n",
        "grid_search = GridSearchCV(estimator=dtr, param_grid=param_grid, cv=5)\n",
        "grid_search.fit(X_train, y_train)\n",
        "print(\"Best hyperparameters:\", grid_search.best_params_)\n",
        "best_model = grid_search.best_estimator_\n",
        "y_pred = best_model.predict(X_test)\n"
      ],
      "metadata": {
        "colab": {
          "base_uri": "https://localhost:8080/"
        },
        "id": "i_rT4UxW1nwp",
        "outputId": "24ad4d91-007a-4644-e448-f6473aa9971e"
      },
      "execution_count": null,
      "outputs": [
        {
          "output_type": "stream",
          "name": "stdout",
          "text": [
            "Best hyperparameters: {'max_depth': 20, 'max_features': 'auto', 'min_samples_leaf': 4, 'min_samples_split': 10}\n"
          ]
        }
      ]
    },
    {
      "cell_type": "markdown",
      "source": [
        "Check Metrics"
      ],
      "metadata": {
        "id": "RCzmyZbk2olt"
      }
    },
    {
      "cell_type": "code",
      "source": [
        "from sklearn import metrics"
      ],
      "metadata": {
        "id": "ZwPu0ODI1yo9"
      },
      "execution_count": null,
      "outputs": []
    },
    {
      "cell_type": "markdown",
      "source": [
        "Check MSE"
      ],
      "metadata": {
        "id": "nbzr0nK426mv"
      }
    },
    {
      "cell_type": "code",
      "source": [
        "metrics.mean_squared_error(y_test,y_pred)"
      ],
      "metadata": {
        "colab": {
          "base_uri": "https://localhost:8080/"
        },
        "id": "NhmV6tdV250Q",
        "outputId": "f84f1e98-b556-4107-8701-43eb03e11a55"
      },
      "execution_count": null,
      "outputs": [
        {
          "output_type": "execute_result",
          "data": {
            "text/plain": [
              "0.025973600647995806"
            ]
          },
          "metadata": {},
          "execution_count": 47
        }
      ]
    },
    {
      "cell_type": "markdown",
      "source": [
        "Check MAE"
      ],
      "metadata": {
        "id": "boHvu-973Hp-"
      }
    },
    {
      "cell_type": "code",
      "source": [
        "metrics.mean_absolute_error(y_test, y_pred)"
      ],
      "metadata": {
        "colab": {
          "base_uri": "https://localhost:8080/"
        },
        "id": "Fv_3uWns3GoU",
        "outputId": "49aa5249-3d92-4cd3-f7be-81d0078e8e20"
      },
      "execution_count": null,
      "outputs": [
        {
          "output_type": "execute_result",
          "data": {
            "text/plain": [
              "0.11679963722717837"
            ]
          },
          "metadata": {},
          "execution_count": 48
        }
      ]
    },
    {
      "cell_type": "markdown",
      "source": [
        "R2 Score"
      ],
      "metadata": {
        "id": "4S7YiaJY3SVN"
      }
    },
    {
      "cell_type": "code",
      "source": [
        "print(metrics.r2_score(y_test,y_pred))"
      ],
      "metadata": {
        "colab": {
          "base_uri": "https://localhost:8080/"
        },
        "id": "IdDMJil-3Nqu",
        "outputId": "ea6045fc-7f9d-431b-9e84-c7757847291a"
      },
      "execution_count": null,
      "outputs": [
        {
          "output_type": "stream",
          "name": "stdout",
          "text": [
            "0.919850284780604\n"
          ]
        }
      ]
    },
    {
      "cell_type": "markdown",
      "source": [
        "Classification"
      ],
      "metadata": {
        "id": "oa9SiebH3bXl"
      }
    },
    {
      "cell_type": "code",
      "source": [
        "df.status.value_counts()"
      ],
      "metadata": {
        "colab": {
          "base_uri": "https://localhost:8080/"
        },
        "id": "g8Y7-noa3VVH",
        "outputId": "642875d0-a5f8-4317-fdb7-4e52076effb1"
      },
      "execution_count": null,
      "outputs": [
        {
          "output_type": "execute_result",
          "data": {
            "text/plain": [
              "Won                116004\n",
              "Lost                34431\n",
              "Not lost for AM     19568\n",
              "Revised              4276\n",
              "To be approved       4167\n",
              "Draft                3121\n",
              "Offered                53\n",
              "Offerable              10\n",
              "Wonderful               1\n",
              "Name: status, dtype: int64"
            ]
          },
          "metadata": {},
          "execution_count": 50
        }
      ]
    },
    {
      "cell_type": "code",
      "source": [
        "dfc = df.copy()"
      ],
      "metadata": {
        "id": "ndG4ubxl3e3G"
      },
      "execution_count": null,
      "outputs": []
    },
    {
      "cell_type": "code",
      "source": [
        "dfc = df[df['status'].isin(['Won', 'Lost'])]\n",
        "len(dfc)"
      ],
      "metadata": {
        "colab": {
          "base_uri": "https://localhost:8080/"
        },
        "id": "FufAJqv73iO7",
        "outputId": "df1e1059-3ead-4a35-b0e9-00e74d2362d6"
      },
      "execution_count": null,
      "outputs": [
        {
          "output_type": "execute_result",
          "data": {
            "text/plain": [
              "150435"
            ]
          },
          "metadata": {},
          "execution_count": 52
        }
      ]
    },
    {
      "cell_type": "code",
      "source": [
        "dfc.status.value_counts()"
      ],
      "metadata": {
        "colab": {
          "base_uri": "https://localhost:8080/"
        },
        "id": "8WWobKvA3kb2",
        "outputId": "0497a3b8-96fa-47ba-9a23-e9b0af124fca"
      },
      "execution_count": null,
      "outputs": [
        {
          "output_type": "execute_result",
          "data": {
            "text/plain": [
              "Won     116004\n",
              "Lost     34431\n",
              "Name: status, dtype: int64"
            ]
          },
          "metadata": {},
          "execution_count": 53
        }
      ]
    },
    {
      "cell_type": "markdown",
      "source": [
        "Data Into Numerical Data"
      ],
      "metadata": {
        "id": "6NsRd1WR3yiN"
      }
    },
    {
      "cell_type": "code",
      "source": [
        "OE = OrdinalEncoder()\n",
        "dfc.status = OE.fit_transform(dfc[['status']])\n",
        "dfc['item type'] = OE.fit_transform(dfc[['item type']])"
      ],
      "metadata": {
        "id": "Rb-hajmh3sj7"
      },
      "execution_count": null,
      "outputs": []
    },
    {
      "cell_type": "markdown",
      "source": [
        "split data into X, y"
      ],
      "metadata": {
        "id": "dOAe0lAF5ma1"
      }
    },
    {
      "cell_type": "code",
      "source": [
        "X = dfc[['quantity tons','selling_price','item type','application','thickness','width','country','customer','product_ref']]\n",
        "y = dfc['status']"
      ],
      "metadata": {
        "id": "qOjI1w3-5j3O"
      },
      "execution_count": null,
      "outputs": []
    },
    {
      "cell_type": "markdown",
      "source": [
        "Apply Standard Scaler"
      ],
      "metadata": {
        "id": "hxL98CmU5tR-"
      }
    },
    {
      "cell_type": "code",
      "source": [
        "SS.fit_transform(X)"
      ],
      "metadata": {
        "colab": {
          "base_uri": "https://localhost:8080/"
        },
        "id": "oB8nPAE75pn8",
        "outputId": "877117db-eeee-4fe3-eabd-36892a516a39"
      },
      "execution_count": null,
      "outputs": [
        {
          "output_type": "execute_result",
          "data": {
            "text/plain": [
              "array([[-0.09139439,  0.09705592,  0.76978981, ..., -0.71017265,\n",
              "        -0.72507203,  1.6673573 ],\n",
              "       [ 1.52755772,  0.76054292,  0.76978981, ..., -0.83268141,\n",
              "        -0.2835426 ,  1.66443363],\n",
              "       [ 0.66147626, -0.62373848,  1.72295071, ..., -0.62850015,\n",
              "        -0.74727633, -0.66115687],\n",
              "       ...,\n",
              "       [-0.20459491, -0.71081685,  0.76978981, ..., -0.83268141,\n",
              "        -0.30327554, -0.43319041],\n",
              "       [-4.74988274, -0.77269647,  0.76978981, ..., -0.83268141,\n",
              "        -0.30327554, -0.43319041],\n",
              "       [ 0.70809988, -0.75206993,  0.76978981, ..., -0.83268141,\n",
              "        -0.30327554, -0.43319041]])"
            ]
          },
          "metadata": {},
          "execution_count": 56
        }
      ]
    },
    {
      "cell_type": "markdown",
      "source": [
        "split data into train test"
      ],
      "metadata": {
        "id": "pqJ_R5e151sd"
      }
    },
    {
      "cell_type": "code",
      "source": [
        "from sklearn.model_selection import train_test_split\n",
        "X_train, X_test, y_train, y_test = train_test_split(X, y, test_size = 0.3, random_state = 5)\n",
        "print(X_train.shape)\n",
        "print(X_test.shape)\n",
        "print(y_train.shape)\n",
        "print(y_test.shape)"
      ],
      "metadata": {
        "colab": {
          "base_uri": "https://localhost:8080/"
        },
        "id": "kMPiHCeB5yuF",
        "outputId": "2137c76d-1435-47f2-a336-4a77df567bcd"
      },
      "execution_count": null,
      "outputs": [
        {
          "output_type": "stream",
          "name": "stdout",
          "text": [
            "(105304, 9)\n",
            "(45131, 9)\n",
            "(105304,)\n",
            "(45131,)\n"
          ]
        }
      ]
    },
    {
      "cell_type": "markdown",
      "source": [
        "#import classifier algorithms."
      ],
      "metadata": {
        "id": "duvDJTy559Lk"
      }
    },
    {
      "cell_type": "code",
      "source": [
        "from sklearn.tree import DecisionTreeClassifier\n",
        "from sklearn.neighbors import KNeighborsClassifier\n",
        "from sklearn.ensemble import RandomForestClassifier\n",
        "from sklearn.ensemble import GradientBoostingClassifier\n",
        "from sklearn.linear_model import LogisticRegression"
      ],
      "metadata": {
        "id": "O7esQzAi545V"
      },
      "execution_count": null,
      "outputs": []
    },
    {
      "cell_type": "code",
      "source": [
        "dtc = DecisionTreeClassifier(max_depth = 5, random_state = 1)\n",
        "dtc.fit(X_train, y_train)\n",
        "train_score = dtc.score(X_train, y_train)\n",
        "test_score = dtc.score(X_test, y_test)\n",
        "print(train_score)\n",
        "print(test_score)"
      ],
      "metadata": {
        "colab": {
          "base_uri": "https://localhost:8080/"
        },
        "id": "UW7EQl886B8X",
        "outputId": "df284417-e83a-4ff0-8a27-adedf6743670"
      },
      "execution_count": null,
      "outputs": [
        {
          "output_type": "stream",
          "name": "stdout",
          "text": [
            "0.8093139861733647\n",
            "0.8112827103321442\n"
          ]
        }
      ]
    },
    {
      "cell_type": "code",
      "source": [
        "knn = KNeighborsClassifier(n_neighbors = 6)\n",
        "knn.fit(X_train, y_train)\n",
        "print(knn.score(X_train, y_train))\n",
        "print(knn.score(X_test, y_test))"
      ],
      "metadata": {
        "colab": {
          "base_uri": "https://localhost:8080/"
        },
        "id": "Sk_37vyx6E8d",
        "outputId": "357cf3b7-2ac9-44e1-b759-a8a1abc7cecd"
      },
      "execution_count": null,
      "outputs": [
        {
          "output_type": "stream",
          "name": "stdout",
          "text": [
            "0.9220352503228747\n",
            "0.8905851853493164\n"
          ]
        }
      ]
    },
    {
      "cell_type": "code",
      "source": [
        "gbc = GradientBoostingClassifier(n_estimators = 30, learning_rate = 0.1,random_state = 28)\n",
        "gbc.fit(X_train, y_train)\n",
        "print(gbc.score(X_train, y_train))\n",
        "print(gbc.score(X_test, y_test))"
      ],
      "metadata": {
        "colab": {
          "base_uri": "https://localhost:8080/"
        },
        "id": "mC0kbNDY6HuA",
        "outputId": "3de761bc-0186-4207-830f-d7533e22f814"
      },
      "execution_count": null,
      "outputs": [
        {
          "output_type": "stream",
          "name": "stdout",
          "text": [
            "0.8192091468510218\n",
            "0.8206554253174093\n"
          ]
        }
      ]
    },
    {
      "cell_type": "code",
      "source": [
        "rfc = RandomForestClassifier(n_estimators = 20, max_depth =6,random_state = 35)\n",
        "rfc.fit(X_train, y_train)\n",
        "print(rfc.score(X_train, y_train))\n",
        "print(rfc.score(X_test, y_test))"
      ],
      "metadata": {
        "colab": {
          "base_uri": "https://localhost:8080/"
        },
        "id": "dkphDmBu6LdU",
        "outputId": "b0358b9f-0c5f-4006-b44d-56209da0072e"
      },
      "execution_count": null,
      "outputs": [
        {
          "output_type": "stream",
          "name": "stdout",
          "text": [
            "0.8212983362455367\n",
            "0.821940572998604\n"
          ]
        }
      ]
    },
    {
      "cell_type": "code",
      "source": [
        "LR = LogisticRegression()\n",
        "LR.fit(X_train,y_train)\n",
        "print(LR.score(X_train, y_train))\n",
        "print(LR.score(X_test, y_test))"
      ],
      "metadata": {
        "colab": {
          "base_uri": "https://localhost:8080/"
        },
        "id": "hnoejgEf6N8f",
        "outputId": "c7dd0520-ea2c-48c4-865f-4e34d0513f3c"
      },
      "execution_count": null,
      "outputs": [
        {
          "output_type": "stream",
          "name": "stdout",
          "text": [
            "0.7716895844412368\n",
            "0.7698034610356518\n"
          ]
        }
      ]
    },
    {
      "cell_type": "code",
      "source": [
        "from sklearn.metrics import auc, accuracy_score, confusion_matrix, mean_squared_error\n",
        "import xgboost as xgb\n",
        "xgb_model = xgb.XGBRegressor(objective=\"reg:linear\", random_state=42)\n",
        "xgb_model.fit(X_train, y_train)\n",
        "xgb_model.score(X_train, y_train)"
      ],
      "metadata": {
        "colab": {
          "base_uri": "https://localhost:8080/"
        },
        "id": "88IsUvx-6QVV",
        "outputId": "03162e9a-b4da-4dcd-dc82-416722545b87"
      },
      "execution_count": null,
      "outputs": [
        {
          "output_type": "stream",
          "name": "stdout",
          "text": [
            "[06:23:03] WARNING: ../src/objective/regression_obj.cu:213: reg:linear is now deprecated in favor of reg:squarederror.\n"
          ]
        },
        {
          "output_type": "execute_result",
          "data": {
            "text/plain": [
              "0.6075002975904351"
            ]
          },
          "metadata": {},
          "execution_count": 64
        }
      ]
    },
    {
      "cell_type": "code",
      "source": [
        "y_predict = xgb_model.predict(X_test)"
      ],
      "metadata": {
        "id": "QgTBPO1z6Sqn"
      },
      "execution_count": null,
      "outputs": []
    },
    {
      "cell_type": "code",
      "source": [
        "mean_squared_error(y_test, y_predict)"
      ],
      "metadata": {
        "colab": {
          "base_uri": "https://localhost:8080/"
        },
        "id": "VctfQ6c56XyJ",
        "outputId": "393ed45a-15ce-43b8-8bde-9bafb0e6835f"
      },
      "execution_count": null,
      "outputs": [
        {
          "output_type": "execute_result",
          "data": {
            "text/plain": [
              "0.07711276831248857"
            ]
          },
          "metadata": {},
          "execution_count": 66
        }
      ]
    },
    {
      "cell_type": "code",
      "source": [
        "xgb_model"
      ],
      "metadata": {
        "colab": {
          "base_uri": "https://localhost:8080/",
          "height": 248
        },
        "id": "GZfQZ4Ik6Zw2",
        "outputId": "8918efbf-b5a8-412b-bafb-b42bb7017e05"
      },
      "execution_count": null,
      "outputs": [
        {
          "output_type": "execute_result",
          "data": {
            "text/plain": [
              "XGBRegressor(base_score=None, booster=None, callbacks=None,\n",
              "             colsample_bylevel=None, colsample_bynode=None,\n",
              "             colsample_bytree=None, early_stopping_rounds=None,\n",
              "             enable_categorical=False, eval_metric=None, feature_types=None,\n",
              "             gamma=None, gpu_id=None, grow_policy=None, importance_type=None,\n",
              "             interaction_constraints=None, learning_rate=None, max_bin=None,\n",
              "             max_cat_threshold=None, max_cat_to_onehot=None,\n",
              "             max_delta_step=None, max_depth=None, max_leaves=None,\n",
              "             min_child_weight=None, missing=nan, monotone_constraints=None,\n",
              "             n_estimators=100, n_jobs=None, num_parallel_tree=None,\n",
              "             objective='reg:linear', predictor=None, ...)"
            ],
            "text/html": [
              "<style>#sk-container-id-1 {color: black;background-color: white;}#sk-container-id-1 pre{padding: 0;}#sk-container-id-1 div.sk-toggleable {background-color: white;}#sk-container-id-1 label.sk-toggleable__label {cursor: pointer;display: block;width: 100%;margin-bottom: 0;padding: 0.3em;box-sizing: border-box;text-align: center;}#sk-container-id-1 label.sk-toggleable__label-arrow:before {content: \"▸\";float: left;margin-right: 0.25em;color: #696969;}#sk-container-id-1 label.sk-toggleable__label-arrow:hover:before {color: black;}#sk-container-id-1 div.sk-estimator:hover label.sk-toggleable__label-arrow:before {color: black;}#sk-container-id-1 div.sk-toggleable__content {max-height: 0;max-width: 0;overflow: hidden;text-align: left;background-color: #f0f8ff;}#sk-container-id-1 div.sk-toggleable__content pre {margin: 0.2em;color: black;border-radius: 0.25em;background-color: #f0f8ff;}#sk-container-id-1 input.sk-toggleable__control:checked~div.sk-toggleable__content {max-height: 200px;max-width: 100%;overflow: auto;}#sk-container-id-1 input.sk-toggleable__control:checked~label.sk-toggleable__label-arrow:before {content: \"▾\";}#sk-container-id-1 div.sk-estimator input.sk-toggleable__control:checked~label.sk-toggleable__label {background-color: #d4ebff;}#sk-container-id-1 div.sk-label input.sk-toggleable__control:checked~label.sk-toggleable__label {background-color: #d4ebff;}#sk-container-id-1 input.sk-hidden--visually {border: 0;clip: rect(1px 1px 1px 1px);clip: rect(1px, 1px, 1px, 1px);height: 1px;margin: -1px;overflow: hidden;padding: 0;position: absolute;width: 1px;}#sk-container-id-1 div.sk-estimator {font-family: monospace;background-color: #f0f8ff;border: 1px dotted black;border-radius: 0.25em;box-sizing: border-box;margin-bottom: 0.5em;}#sk-container-id-1 div.sk-estimator:hover {background-color: #d4ebff;}#sk-container-id-1 div.sk-parallel-item::after {content: \"\";width: 100%;border-bottom: 1px solid gray;flex-grow: 1;}#sk-container-id-1 div.sk-label:hover label.sk-toggleable__label {background-color: #d4ebff;}#sk-container-id-1 div.sk-serial::before {content: \"\";position: absolute;border-left: 1px solid gray;box-sizing: border-box;top: 0;bottom: 0;left: 50%;z-index: 0;}#sk-container-id-1 div.sk-serial {display: flex;flex-direction: column;align-items: center;background-color: white;padding-right: 0.2em;padding-left: 0.2em;position: relative;}#sk-container-id-1 div.sk-item {position: relative;z-index: 1;}#sk-container-id-1 div.sk-parallel {display: flex;align-items: stretch;justify-content: center;background-color: white;position: relative;}#sk-container-id-1 div.sk-item::before, #sk-container-id-1 div.sk-parallel-item::before {content: \"\";position: absolute;border-left: 1px solid gray;box-sizing: border-box;top: 0;bottom: 0;left: 50%;z-index: -1;}#sk-container-id-1 div.sk-parallel-item {display: flex;flex-direction: column;z-index: 1;position: relative;background-color: white;}#sk-container-id-1 div.sk-parallel-item:first-child::after {align-self: flex-end;width: 50%;}#sk-container-id-1 div.sk-parallel-item:last-child::after {align-self: flex-start;width: 50%;}#sk-container-id-1 div.sk-parallel-item:only-child::after {width: 0;}#sk-container-id-1 div.sk-dashed-wrapped {border: 1px dashed gray;margin: 0 0.4em 0.5em 0.4em;box-sizing: border-box;padding-bottom: 0.4em;background-color: white;}#sk-container-id-1 div.sk-label label {font-family: monospace;font-weight: bold;display: inline-block;line-height: 1.2em;}#sk-container-id-1 div.sk-label-container {text-align: center;}#sk-container-id-1 div.sk-container {/* jupyter's `normalize.less` sets `[hidden] { display: none; }` but bootstrap.min.css set `[hidden] { display: none !important; }` so we also need the `!important` here to be able to override the default hidden behavior on the sphinx rendered scikit-learn.org. See: https://github.com/scikit-learn/scikit-learn/issues/21755 */display: inline-block !important;position: relative;}#sk-container-id-1 div.sk-text-repr-fallback {display: none;}</style><div id=\"sk-container-id-1\" class=\"sk-top-container\"><div class=\"sk-text-repr-fallback\"><pre>XGBRegressor(base_score=None, booster=None, callbacks=None,\n",
              "             colsample_bylevel=None, colsample_bynode=None,\n",
              "             colsample_bytree=None, early_stopping_rounds=None,\n",
              "             enable_categorical=False, eval_metric=None, feature_types=None,\n",
              "             gamma=None, gpu_id=None, grow_policy=None, importance_type=None,\n",
              "             interaction_constraints=None, learning_rate=None, max_bin=None,\n",
              "             max_cat_threshold=None, max_cat_to_onehot=None,\n",
              "             max_delta_step=None, max_depth=None, max_leaves=None,\n",
              "             min_child_weight=None, missing=nan, monotone_constraints=None,\n",
              "             n_estimators=100, n_jobs=None, num_parallel_tree=None,\n",
              "             objective=&#x27;reg:linear&#x27;, predictor=None, ...)</pre><b>In a Jupyter environment, please rerun this cell to show the HTML representation or trust the notebook. <br />On GitHub, the HTML representation is unable to render, please try loading this page with nbviewer.org.</b></div><div class=\"sk-container\" hidden><div class=\"sk-item\"><div class=\"sk-estimator sk-toggleable\"><input class=\"sk-toggleable__control sk-hidden--visually\" id=\"sk-estimator-id-1\" type=\"checkbox\" checked><label for=\"sk-estimator-id-1\" class=\"sk-toggleable__label sk-toggleable__label-arrow\">XGBRegressor</label><div class=\"sk-toggleable__content\"><pre>XGBRegressor(base_score=None, booster=None, callbacks=None,\n",
              "             colsample_bylevel=None, colsample_bynode=None,\n",
              "             colsample_bytree=None, early_stopping_rounds=None,\n",
              "             enable_categorical=False, eval_metric=None, feature_types=None,\n",
              "             gamma=None, gpu_id=None, grow_policy=None, importance_type=None,\n",
              "             interaction_constraints=None, learning_rate=None, max_bin=None,\n",
              "             max_cat_threshold=None, max_cat_to_onehot=None,\n",
              "             max_delta_step=None, max_depth=None, max_leaves=None,\n",
              "             min_child_weight=None, missing=nan, monotone_constraints=None,\n",
              "             n_estimators=100, n_jobs=None, num_parallel_tree=None,\n",
              "             objective=&#x27;reg:linear&#x27;, predictor=None, ...)</pre></div></div></div></div></div>"
            ]
          },
          "metadata": {},
          "execution_count": 67
        }
      ]
    },
    {
      "cell_type": "code",
      "source": [
        "from sklearn.ensemble import ExtraTreesClassifier\n",
        "clf = ExtraTreesClassifier(n_estimators=20, random_state=0)\n",
        "clf.fit(X_train, y_train)\n",
        "print(clf.score(X_train, y_train))\n",
        "print(clf.score(X_test, y_test))"
      ],
      "metadata": {
        "colab": {
          "base_uri": "https://localhost:8080/"
        },
        "id": "HDJ_deFe6bqE",
        "outputId": "a09b5634-2608-4be4-98b9-b09cd6eaca8e"
      },
      "execution_count": null,
      "outputs": [
        {
          "output_type": "stream",
          "name": "stdout",
          "text": [
            "1.0\n",
            "0.9309565487137444\n"
          ]
        }
      ]
    },
    {
      "cell_type": "code",
      "source": [
        "knn.predict(X_test)"
      ],
      "metadata": {
        "colab": {
          "base_uri": "https://localhost:8080/"
        },
        "id": "KO8ym9z16gZa",
        "outputId": "35b0c57f-8c59-40c1-9c88-ece09d4042eb"
      },
      "execution_count": null,
      "outputs": [
        {
          "output_type": "execute_result",
          "data": {
            "text/plain": [
              "array([0., 1., 1., ..., 1., 1., 1.])"
            ]
          },
          "metadata": {},
          "execution_count": 69
        }
      ]
    },
    {
      "cell_type": "code",
      "source": [
        "y_pred= knn.predict(X_test)"
      ],
      "metadata": {
        "id": "_izp_Ufu6ibc"
      },
      "execution_count": null,
      "outputs": []
    },
    {
      "cell_type": "code",
      "source": [
        "from sklearn.metrics import confusion_matrix\n",
        "cm = confusion_matrix(y_test,y_pred)\n",
        "cm"
      ],
      "metadata": {
        "colab": {
          "base_uri": "https://localhost:8080/"
        },
        "id": "uMN_8Fz06kNJ",
        "outputId": "0a414230-515d-4db2-97ce-9b68ac3f3377"
      },
      "execution_count": null,
      "outputs": [
        {
          "output_type": "execute_result",
          "data": {
            "text/plain": [
              "array([[ 8209,  2180],\n",
              "       [ 2758, 31984]])"
            ]
          },
          "metadata": {},
          "execution_count": 71
        }
      ]
    },
    {
      "cell_type": "markdown",
      "source": [
        "draw Heatmap"
      ],
      "metadata": {
        "id": "FiZvxz9c7vo5"
      }
    },
    {
      "cell_type": "code",
      "source": [
        "plt.figure(figsize = (7,5))\n",
        "sns.heatmap(cm, annot = True)\n",
        "plt.xlabel('Predicted')\n",
        "plt.ylabel('Truth')"
      ],
      "metadata": {
        "colab": {
          "base_uri": "https://localhost:8080/",
          "height": 483
        },
        "id": "oHYavCnm6mp7",
        "outputId": "c5582b3a-06d5-4bf8-c6e7-f200e195b8be"
      },
      "execution_count": null,
      "outputs": [
        {
          "output_type": "execute_result",
          "data": {
            "text/plain": [
              "Text(58.222222222222214, 0.5, 'Truth')"
            ]
          },
          "metadata": {},
          "execution_count": 73
        },
        {
          "output_type": "display_data",
          "data": {
            "text/plain": [
              "<Figure size 700x500 with 2 Axes>"
            ],
            "image/png": "[encoded data removed]"
          },
          "metadata": {}
        }
      ]
    },
    {
      "cell_type": "code",
      "source": [
        "# Evalution Metrics\n",
        "from sklearn.metrics import confusion_matrix, classification_report, roc_curve, auc\n",
        "import matplotlib.pyplot as plt\n",
        "print(\"Confusion Matrix:\")\n",
        "print(confusion_matrix(y_test, y_pred))\n",
        "print(\"Classification Report:\")\n",
        "print(classification_report(y_test, y_pred))\n",
        "# ROC curve and AUC\n",
        "fpr, tpr, thresholds = roc_curve(y_test, y_pred)\n",
        "roc_auc = auc(fpr, tpr)\n",
        "plt.plot(fpr, tpr, label='ROC curve (area = %0.2f)' % roc_auc)\n",
        "plt.plot([0, 1], [0, 1], 'k--')\n",
        "plt.xlim([0.0, 1.0])\n",
        "plt.ylim([0.0, 1.05])\n",
        "plt.xlabel('False Positive Rate')\n",
        "plt.ylabel('True Positive Rate')\n",
        "plt.title('Receiver operating characteristic')\n",
        "plt.legend(loc=\"lower right\")\n",
        "plt.show()"
      ],
      "metadata": {
        "colab": {
          "base_uri": "https://localhost:8080/",
          "height": 709
        },
        "id": "0_2EQ5Lf71M_",
        "outputId": "3336096e-2ec7-4bb0-ef5b-e679d786f5a5"
      },
      "execution_count": null,
      "outputs": [
        {
          "output_type": "stream",
          "name": "stdout",
          "text": [
            "Confusion Matrix:\n",
            "[[ 8209  2180]\n",
            " [ 2758 31984]]\n",
            "Classification Report:\n",
            "              precision    recall  f1-score   support\n",
            "\n",
            "         0.0       0.75      0.79      0.77     10389\n",
            "         1.0       0.94      0.92      0.93     34742\n",
            "\n",
            "    accuracy                           0.89     45131\n",
            "   macro avg       0.84      0.86      0.85     45131\n",
            "weighted avg       0.89      0.89      0.89     45131\n",
            "\n"
          ]
        },
        {
          "output_type": "display_data",
          "data": {
            "text/plain": [
              "<Figure size 640x480 with 1 Axes>"
            ],
            "image/png": "[encoded data removed]"
          },
          "metadata": {}
        }
      ]
    },
    {
      "cell_type": "code",
      "source": [
        "#check accuracy score.\n",
        "accuracy_score(y_test, y_pred)"
      ],
      "metadata": {
        "colab": {
          "base_uri": "https://localhost:8080/"
        },
        "id": "afaOKit78rlV",
        "outputId": "863ec156-3748-4402-c06b-f02c611f806b"
      },
      "execution_count": null,
      "outputs": [
        {
          "output_type": "execute_result",
          "data": {
            "text/plain": [
              "0.8905851853493164"
            ]
          },
          "metadata": {},
          "execution_count": 79
        }
      ]
    },
    {
      "cell_type": "code",
      "source": [
        "\n",
        "f1_score(y_test,y_pred, average = 'macro')"
      ],
      "metadata": {
        "colab": {
          "base_uri": "https://localhost:8080/"
        },
        "id": "MEupHlyO8Cas",
        "outputId": "9146c503-743f-41ea-819f-67c636c0f737"
      },
      "execution_count": null,
      "outputs": [
        {
          "output_type": "execute_result",
          "data": {
            "text/plain": [
              "0.8485570397412172"
            ]
          },
          "metadata": {},
          "execution_count": 77
        }
      ]
    },
    {
      "cell_type": "code",
      "source": [
        "plot_confusion_matrix(knn, X_test, y_test);"
      ],
      "metadata": {
        "colab": {
          "base_uri": "https://localhost:8080/",
          "height": 181
        },
        "id": "xPluNFwm8Y7J",
        "outputId": "0c34de15-6c26-430c-dcd3-730f840647ea"
      },
      "execution_count": null,
      "outputs": [
        {
          "output_type": "error",
          "ename": "NameError",
          "evalue": "ignored",
          "traceback": [
            "\u001b[0;31m---------------------------------------------------------------------------\u001b[0m",
            "\u001b[0;31mNameError\u001b[0m                                 Traceback (most recent call last)",
            "\u001b[0;32m<ipython-input-78-812510d01dd9>\u001b[0m in \u001b[0;36m<cell line: 1>\u001b[0;34m()\u001b[0m\n\u001b[0;32m----> 1\u001b[0;31m \u001b[0mplot_confusion_matrix\u001b[0m\u001b[0;34m(\u001b[0m\u001b[0mknn\u001b[0m\u001b[0;34m,\u001b[0m \u001b[0mX_test\u001b[0m\u001b[0;34m,\u001b[0m \u001b[0my_test\u001b[0m\u001b[0;34m)\u001b[0m\u001b[0;34m;\u001b[0m\u001b[0;34m\u001b[0m\u001b[0;34m\u001b[0m\u001b[0m\n\u001b[0m",
            "\u001b[0;31mNameError\u001b[0m: name 'plot_confusion_matrix' is not defined"
          ]
        }
      ]
    },
    {
      "cell_type": "code",
      "source": [],
      "metadata": {
        "id": "gyCoqDf28b3Q"
      },
      "execution_count": null,
      "outputs": []
    }
  ]
}